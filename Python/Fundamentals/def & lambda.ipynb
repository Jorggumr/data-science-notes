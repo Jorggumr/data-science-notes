{
 "cells": [
  {
   "cell_type": "markdown",
   "metadata": {},
   "source": [
    "# def & lambda"
   ]
  },
  {
   "cell_type": "markdown",
   "metadata": {},
   "source": [
    "## def\n",
    "```python\n",
    "def name(parameter1, parameter2, ...):\n",
    "    # code block\n",
    "    return x, y, ...\n",
    "```"
   ]
  },
  {
   "cell_type": "markdown",
   "metadata": {},
   "source": [
    "### Funciones sin retorno"
   ]
  },
  {
   "cell_type": "code",
   "execution_count": 1,
   "metadata": {},
   "outputs": [
    {
     "name": "stdout",
     "output_type": "stream",
     "text": [
      "Hello, World!\n",
      "Hello, Alice!\n"
     ]
    }
   ],
   "source": [
    "def hello():\n",
    "    print(\"Hello, World!\")\n",
    "hello()\n",
    "\n",
    "def hello_name(name):\n",
    "    print(f\"Hello, {name}!\")\n",
    "hello_name(\"Alice\")"
   ]
  },
  {
   "cell_type": "markdown",
   "metadata": {},
   "source": [
    "### Funciones con parametros por defecto"
   ]
  },
  {
   "cell_type": "code",
   "execution_count": 3,
   "metadata": {},
   "outputs": [
    {
     "name": "stdout",
     "output_type": "stream",
     "text": [
      "¡Hola, Ana!\n",
      "¡Hola, Python!\n"
     ]
    }
   ],
   "source": [
    "def saludar(nombre=\"Python\"):\n",
    "    print(f\"¡Hola, {nombre}!\")\n",
    "\n",
    "saludar(\"Ana\")\n",
    "saludar()"
   ]
  },
  {
   "cell_type": "markdown",
   "metadata": {},
   "source": [
    "### Funciones con retorno"
   ]
  },
  {
   "cell_type": "code",
   "execution_count": 2,
   "metadata": {},
   "outputs": [
    {
     "name": "stdout",
     "output_type": "stream",
     "text": [
      "La suma es: 8\n"
     ]
    }
   ],
   "source": [
    "def sumar(a, b):\n",
    "    return a + b\n",
    "\n",
    "print(f\"La suma es: {sumar(5, 3)}\")"
   ]
  },
  {
   "cell_type": "markdown",
   "metadata": {},
   "source": [
    "#### Funciones con múltiples retornos"
   ]
  },
  {
   "cell_type": "code",
   "execution_count": 4,
   "metadata": {},
   "outputs": [
    {
     "name": "stdout",
     "output_type": "stream",
     "text": [
      "Cociente: 3, Resto: 1\n"
     ]
    }
   ],
   "source": [
    "def dividir(a, b):\n",
    "    cociente = a // b\n",
    "    resto = a % b\n",
    "    return cociente, resto\n",
    "\n",
    "cociente, resto = dividir(10, 3)\n",
    "print(f\"Cociente: {cociente}, Resto: {resto}\")"
   ]
  },
  {
   "cell_type": "markdown",
   "metadata": {},
   "source": [
    "## lambda \n",
    "Funciones anónimas\n",
    "\n",
    "```python\n",
    "lambda parameter1, parameter2, ... : expression\n",
    "```"
   ]
  },
  {
   "cell_type": "code",
   "execution_count": 5,
   "metadata": {},
   "outputs": [
    {
     "name": "stdout",
     "output_type": "stream",
     "text": [
      "8\n"
     ]
    }
   ],
   "source": [
    "sumar = lambda a, b: a + b\n",
    "\n",
    "print(sumar(5, 3))"
   ]
  }
 ],
 "metadata": {
  "kernelspec": {
   "display_name": "prog",
   "language": "python",
   "name": "python3"
  },
  "language_info": {
   "codemirror_mode": {
    "name": "ipython",
    "version": 3
   },
   "file_extension": ".py",
   "mimetype": "text/x-python",
   "name": "python",
   "nbconvert_exporter": "python",
   "pygments_lexer": "ipython3",
   "version": "3.12.9"
  }
 },
 "nbformat": 4,
 "nbformat_minor": 2
}
