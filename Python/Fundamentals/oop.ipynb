{
 "cells": [
  {
   "cell_type": "markdown",
   "metadata": {},
   "source": [
    "# OOP (Oriented Object Programming) in Python"
   ]
  },
  {
   "cell_type": "markdown",
   "metadata": {},
   "source": [
    "## Encapsulamiento\n",
    "\n",
    "Permite ocultar detalles internos de una clase y exponer solo lo necesario. Se logra mediante el uso de atributos y métodos privados."
   ]
  },
  {
   "cell_type": "code",
   "execution_count": 11,
   "metadata": {},
   "outputs": [],
   "source": [
    "class CuentaBancaria:\n",
    "    def __init__(self, saldo):\n",
    "        self.__saldo = saldo  # Atributo privado\n",
    "\n",
    "    def depositar(self, monto):\n",
    "        self.__saldo += monto\n",
    "\n",
    "    def retirar(self, monto):\n",
    "        if self.__verificar_fondos(monto):  # Llamada al método privado\n",
    "            self.__saldo -= monto\n",
    "        else:\n",
    "            print(\"Fondos insuficientes.\")\n",
    "\n",
    "    def mostrar_saldo(self):\n",
    "        print(f\"Saldo: {self.__saldo}\")\n",
    "    \n",
    "    def __verificar_fondos(self, monto): # Método privado\n",
    "        return monto <= self.__saldo"
   ]
  },
  {
   "cell_type": "code",
   "execution_count": 12,
   "metadata": {},
   "outputs": [
    {
     "name": "stdout",
     "output_type": "stream",
     "text": [
      "Saldo: 1200\n"
     ]
    }
   ],
   "source": [
    "cuenta = CuentaBancaria(1000)\n",
    "cuenta.depositar(500)\n",
    "cuenta.retirar(300)\n",
    "cuenta.mostrar_saldo()"
   ]
  },
  {
   "cell_type": "markdown",
   "metadata": {},
   "source": [
    "## Herencia\n",
    "\n",
    "Permite crear una nueva clase que hereda atributos y métodos de otra clase.\n",
    "\n",
    "```python\n",
    "class class_parent:\n",
    "    def __init__(self, parent_p1, parent_p2, ...):\n",
    "        ...\n",
    "    ...\n",
    "class class_child(class_parent):\n",
    "    def __init__(self, parent_p1, parent_p2, ..., child_p1, ...):\n",
    "        super().__init__(parent_p1, parent_p2, ...)\n",
    "    ...\n",
    "```"
   ]
  },
  {
   "cell_type": "code",
   "execution_count": 9,
   "metadata": {},
   "outputs": [],
   "source": [
    "class Animal:\n",
    "    def __init__(self, nombre):\n",
    "        self.nombre = nombre\n",
    "\n",
    "    def hacer_sonido(self):\n",
    "        print(\"El animal hace un sonido.\")\n",
    "\n",
    "class Perro(Animal):\n",
    "    def hacer_sonido(self):\n",
    "        print(\"El perro ladra.\")"
   ]
  },
  {
   "cell_type": "code",
   "execution_count": 10,
   "metadata": {},
   "outputs": [
    {
     "name": "stdout",
     "output_type": "stream",
     "text": [
      "El animal hace un sonido.\n",
      "El perro ladra.\n"
     ]
    }
   ],
   "source": [
    "animal = Animal(\"Genérico\")\n",
    "perro = Perro(\"Firulais\")\n",
    "\n",
    "animal.hacer_sonido() \n",
    "perro.hacer_sonido()"
   ]
  },
  {
   "cell_type": "markdown",
   "metadata": {},
   "source": [
    "## Polimorfismo\n",
    "\n",
    "Permite que diferentes clases puedan ser tratadas como instancias de la misma clase a través de una interfaz común. Se logra mediante la implementación de métodos con el mismo nombre en diferentes clases."
   ]
  },
  {
   "cell_type": "code",
   "execution_count": 13,
   "metadata": {},
   "outputs": [],
   "source": [
    "class Ave:\n",
    "    def volar(self):\n",
    "        print(\"El ave vuela.\")\n",
    "\n",
    "class Pinguino(Ave):\n",
    "    def volar(self):\n",
    "        print(\"El pingüino no puede volar.\")"
   ]
  },
  {
   "cell_type": "code",
   "execution_count": 14,
   "metadata": {},
   "outputs": [
    {
     "name": "stdout",
     "output_type": "stream",
     "text": [
      "El ave vuela.\n",
      "El pingüino no puede volar.\n"
     ]
    }
   ],
   "source": [
    "aves = [Ave(), Pinguino()]\n",
    "for ave in aves:\n",
    "    ave.volar()"
   ]
  },
  {
   "cell_type": "markdown",
   "metadata": {},
   "source": [
    "## Agregación\n",
    "\n",
    "La agregación es una relación débil entre dos clases. Un objeto puede existir independientemente del objeto que lo contiene. Es decir, el objeto \"contenedor\" tiene una referencia al objeto \"contenido\", pero este último puede existir por sí mismo."
   ]
  },
  {
   "cell_type": "code",
   "execution_count": 15,
   "metadata": {},
   "outputs": [],
   "source": [
    "class Estudiante:\n",
    "    def __init__(self, nombre, edad):\n",
    "        self.nombre = nombre\n",
    "        self.edad = edad\n",
    "\n",
    "    def mostrar_info(self):\n",
    "        print(f\"Estudiante: {self.nombre}, Edad: {self.edad}\")\n",
    "\n",
    "class Curso:\n",
    "    def __init__(self, nombre_curso):\n",
    "        self.nombre_curso = nombre_curso\n",
    "        self.estudiantes = []  # Relación de agregación\n",
    "\n",
    "    def agregar_estudiante(self, estudiante):\n",
    "        self.estudiantes.append(estudiante)\n",
    "\n",
    "    def mostrar_info(self):\n",
    "        print(f\"Curso: {self.nombre_curso}\")\n",
    "        print(\"Estudiantes inscritos:\")\n",
    "        for estudiante in self.estudiantes:\n",
    "            estudiante.mostrar_info()"
   ]
  },
  {
   "cell_type": "code",
   "execution_count": 16,
   "metadata": {},
   "outputs": [
    {
     "name": "stdout",
     "output_type": "stream",
     "text": [
      "Curso: Python Avanzado\n",
      "Estudiantes inscritos:\n",
      "Estudiante: Juan, Edad: 20\n",
      "Estudiante: María, Edad: 22\n",
      "Estudiante: Carlos, Edad: 19\n"
     ]
    }
   ],
   "source": [
    "estudiante1 = Estudiante(\"Juan\", 20)\n",
    "estudiante2 = Estudiante(\"María\", 22)\n",
    "estudiante3 = Estudiante(\"Carlos\", 19)\n",
    "curso_python = Curso(\"Python Avanzado\")\n",
    "curso_python.agregar_estudiante(estudiante1)\n",
    "curso_python.agregar_estudiante(estudiante2)\n",
    "curso_python.agregar_estudiante(estudiante3)\n",
    "curso_python.mostrar_info()"
   ]
  },
  {
   "cell_type": "markdown",
   "metadata": {},
   "source": [
    "## Composición\n",
    "\n",
    "La composición es una relación fuerte entre dos clases. Un objeto no puede existir sin el objeto que lo contiene. Es decir, el objeto \"contenedor\" tiene una referencia al objeto \"contenido\", y este último no puede existir por sí mismo sin el contenedor."
   ]
  },
  {
   "cell_type": "code",
   "execution_count": 17,
   "metadata": {},
   "outputs": [],
   "source": [
    "class CPU:\n",
    "    def __init__(self, modelo):\n",
    "        self.modelo = modelo\n",
    "\n",
    "    def mostrar_info(self):\n",
    "        print(f\"CPU modelo: {self.modelo}\")\n",
    "\n",
    "class Computadora:\n",
    "    def __init__(self, marca, modelo_cpu):\n",
    "        self.marca = marca\n",
    "        self.cpu = CPU(modelo_cpu)  # Relación de composición\n",
    "\n",
    "    def mostrar_info(self):\n",
    "        print(f\"Computadora marca: {self.marca}\")\n",
    "        self.cpu.mostrar_info()\n"
   ]
  },
  {
   "cell_type": "code",
   "execution_count": 18,
   "metadata": {},
   "outputs": [
    {
     "name": "stdout",
     "output_type": "stream",
     "text": [
      "Computadora marca: Dell\n",
      "CPU modelo: Intel Core i7\n"
     ]
    }
   ],
   "source": [
    "computadora = Computadora(\"Dell\", \"Intel Core i7\")\n",
    "computadora.mostrar_info()"
   ]
  }
 ],
 "metadata": {
  "kernelspec": {
   "display_name": "prog",
   "language": "python",
   "name": "python3"
  },
  "language_info": {
   "codemirror_mode": {
    "name": "ipython",
    "version": 3
   },
   "file_extension": ".py",
   "mimetype": "text/x-python",
   "name": "python",
   "nbconvert_exporter": "python",
   "pygments_lexer": "ipython3",
   "version": "3.12.9"
  }
 },
 "nbformat": 4,
 "nbformat_minor": 2
}
