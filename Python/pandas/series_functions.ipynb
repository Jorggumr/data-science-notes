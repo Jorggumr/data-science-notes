{
 "cells": [
  {
   "metadata": {},
   "cell_type": "markdown",
   "source": "# Series Funciones",
   "id": "bbcd8b5d2d804134"
  },
  {
   "metadata": {
    "collapsed": true,
    "ExecuteTime": {
     "end_time": "2025-03-22T21:54:16.563272Z",
     "start_time": "2025-03-22T21:54:16.561342Z"
    }
   },
   "cell_type": "code",
   "source": "import pandas as pd",
   "id": "initial_id",
   "outputs": [],
   "execution_count": 21
  },
  {
   "metadata": {
    "ExecuteTime": {
     "end_time": "2025-03-22T21:54:16.611693Z",
     "start_time": "2025-03-22T21:54:16.608661Z"
    }
   },
   "cell_type": "code",
   "source": [
    "numbers = pd.Series([1,2,3,4,5,6,7,8,9])\n",
    "numbers"
   ],
   "id": "cb8db4a240ceb6c3",
   "outputs": [
    {
     "data": {
      "text/plain": [
       "0    1\n",
       "1    2\n",
       "2    3\n",
       "3    4\n",
       "4    5\n",
       "5    6\n",
       "6    7\n",
       "7    8\n",
       "8    9\n",
       "dtype: int64"
      ]
     },
     "execution_count": 22,
     "metadata": {},
     "output_type": "execute_result"
    }
   ],
   "execution_count": 22
  },
  {
   "metadata": {
    "ExecuteTime": {
     "end_time": "2025-03-22T21:54:16.688510Z",
     "start_time": "2025-03-22T21:54:16.685469Z"
    }
   },
   "cell_type": "code",
   "source": [
    "print(\"Suma: \", numbers.sum())\n",
    "print(\"Max: \",  numbers.max())\n",
    "print(\"Min: \",  numbers.min())"
   ],
   "id": "3406ef8d6d82780d",
   "outputs": [
    {
     "name": "stdout",
     "output_type": "stream",
     "text": [
      "Suma:  45\n",
      "Max:  9\n",
      "Min:  1\n"
     ]
    }
   ],
   "execution_count": 23
  },
  {
   "metadata": {},
   "cell_type": "markdown",
   "source": "Funciones Estadísticas",
   "id": "16e0bb243a8cb404"
  },
  {
   "metadata": {
    "ExecuteTime": {
     "end_time": "2025-03-22T21:54:16.732835Z",
     "start_time": "2025-03-22T21:54:16.730212Z"
    }
   },
   "cell_type": "code",
   "source": [
    "print(\"Media: \",               numbers.mean())\n",
    "print(\"Mediana: \",             numbers.median())\n",
    "print(\"Desviación Estándar: \", numbers.std())"
   ],
   "id": "bc0e4308aa451876",
   "outputs": [
    {
     "name": "stdout",
     "output_type": "stream",
     "text": [
      "Media:  5.0\n",
      "Mediana:  5.0\n",
      "Desviación Estándar:  2.7386127875258306\n"
     ]
    }
   ],
   "execution_count": 24
  },
  {
   "metadata": {
    "ExecuteTime": {
     "end_time": "2025-03-22T21:54:16.885087Z",
     "start_time": "2025-03-22T21:54:16.880578Z"
    }
   },
   "cell_type": "code",
   "source": "numbers.describe()",
   "id": "66c6a2c43a8340ad",
   "outputs": [
    {
     "data": {
      "text/plain": [
       "count    9.000000\n",
       "mean     5.000000\n",
       "std      2.738613\n",
       "min      1.000000\n",
       "25%      3.000000\n",
       "50%      5.000000\n",
       "75%      7.000000\n",
       "max      9.000000\n",
       "dtype: float64"
      ]
     },
     "execution_count": 25,
     "metadata": {},
     "output_type": "execute_result"
    }
   ],
   "execution_count": 25
  },
  {
   "metadata": {},
   "cell_type": "markdown",
   "source": "Funciones Específicas",
   "id": "6a591a7857b5d2be"
  },
  {
   "metadata": {
    "ExecuteTime": {
     "end_time": "2025-03-22T21:54:16.926391Z",
     "start_time": "2025-03-22T21:54:16.922406Z"
    }
   },
   "cell_type": "code",
   "source": [
    "serie = pd.Series({'Matemáticas': 8.5, 'Historia': 7, 'Biología': 9.2})\n",
    "serie"
   ],
   "id": "bb5033cdf8fad7fe",
   "outputs": [
    {
     "data": {
      "text/plain": [
       "Matemáticas    8.5\n",
       "Historia       7.0\n",
       "Biología       9.2\n",
       "dtype: float64"
      ]
     },
     "execution_count": 26,
     "metadata": {},
     "output_type": "execute_result"
    }
   ],
   "execution_count": 26
  },
  {
   "metadata": {
    "ExecuteTime": {
     "end_time": "2025-03-22T21:54:16.992721Z",
     "start_time": "2025-03-22T21:54:16.989295Z"
    }
   },
   "cell_type": "code",
   "source": "serie[serie > 8]",
   "id": "7206a27be3b5901a",
   "outputs": [
    {
     "data": {
      "text/plain": [
       "Matemáticas    8.5\n",
       "Biología       9.2\n",
       "dtype: float64"
      ]
     },
     "execution_count": 27,
     "metadata": {},
     "output_type": "execute_result"
    }
   ],
   "execution_count": 27
  },
  {
   "metadata": {
    "ExecuteTime": {
     "end_time": "2025-03-22T21:54:58.459137Z",
     "start_time": "2025-03-22T21:54:58.455423Z"
    }
   },
   "cell_type": "code",
   "source": "serie.sort_values()",
   "id": "619f8d24ea19b380",
   "outputs": [
    {
     "data": {
      "text/plain": [
       "Historia       7.0\n",
       "Matemáticas    8.5\n",
       "Biología       9.2\n",
       "dtype: float64"
      ]
     },
     "execution_count": 28,
     "metadata": {},
     "output_type": "execute_result"
    }
   ],
   "execution_count": 28
  },
  {
   "metadata": {
    "ExecuteTime": {
     "end_time": "2025-03-22T21:55:44.525897Z",
     "start_time": "2025-03-22T21:55:44.522160Z"
    }
   },
   "cell_type": "code",
   "source": "serie.sort_index(ascending=True)",
   "id": "c58f36b66194536b",
   "outputs": [
    {
     "data": {
      "text/plain": [
       "Biología       9.2\n",
       "Historia       7.0\n",
       "Matemáticas    8.5\n",
       "dtype: float64"
      ]
     },
     "execution_count": 29,
     "metadata": {},
     "output_type": "execute_result"
    }
   ],
   "execution_count": 29
  }
 ],
 "metadata": {
  "kernelspec": {
   "display_name": "Python 3",
   "language": "python",
   "name": "python3"
  },
  "language_info": {
   "codemirror_mode": {
    "name": "ipython",
    "version": 2
   },
   "file_extension": ".py",
   "mimetype": "text/x-python",
   "name": "python",
   "nbconvert_exporter": "python",
   "pygments_lexer": "ipython2",
   "version": "2.7.6"
  }
 },
 "nbformat": 4,
 "nbformat_minor": 5
}
