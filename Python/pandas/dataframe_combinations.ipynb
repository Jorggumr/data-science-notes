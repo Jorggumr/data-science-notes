{
 "cells": [
  {
   "metadata": {},
   "cell_type": "markdown",
   "source": "# DataFrame Combinations",
   "id": "5e3319276731c658"
  },
  {
   "metadata": {
    "collapsed": true,
    "ExecuteTime": {
     "end_time": "2025-03-23T00:32:26.093641Z",
     "start_time": "2025-03-23T00:32:26.086851Z"
    }
   },
   "cell_type": "code",
   "source": "import pandas as pd",
   "id": "initial_id",
   "outputs": [],
   "execution_count": 23
  },
  {
   "metadata": {},
   "cell_type": "markdown",
   "source": "## Concatenar DataFrames  -  pd.concat()",
   "id": "74e328a6fbf9bf84"
  },
  {
   "metadata": {},
   "cell_type": "markdown",
   "source": "### Concatenación por filas",
   "id": "d4f25c71c496d647"
  },
  {
   "metadata": {
    "ExecuteTime": {
     "end_time": "2025-03-23T00:32:26.140200Z",
     "start_time": "2025-03-23T00:32:26.136190Z"
    }
   },
   "cell_type": "code",
   "source": [
    "df_1 = pd.DataFrame({'names': ['Juan', 'Ana', 'Pedro', 'María'],\n",
    "                    'age': [25, 30, 35, 40],\n",
    "                    'career': ['Ing. Sistemas', 'Ing. Civil', 'Ing. Industrial', 'Ing. Ambiental']}) #.set_index('names')\n",
    "df_2 = pd.DataFrame({'names': ['Jhon', 'Jane', 'Peter', 'Mary'],\n",
    "                    'age': [25, 30, 35, 40],\n",
    "                    'career': ['Computer Science', 'Civil Engineering', 'Industrial Engineering', 'Environmental Engineering']}) #.set_index('names')"
   ],
   "id": "c83b3f364ea64155",
   "outputs": [],
   "execution_count": 24
  },
  {
   "metadata": {
    "ExecuteTime": {
     "end_time": "2025-03-23T00:32:26.188698Z",
     "start_time": "2025-03-23T00:32:26.183133Z"
    }
   },
   "cell_type": "code",
   "source": "df_1",
   "id": "cf43155666561286",
   "outputs": [
    {
     "data": {
      "text/plain": [
       "   names  age           career\n",
       "0   Juan   25    Ing. Sistemas\n",
       "1    Ana   30       Ing. Civil\n",
       "2  Pedro   35  Ing. Industrial\n",
       "3  María   40   Ing. Ambiental"
      ],
      "text/html": [
       "<div>\n",
       "<style scoped>\n",
       "    .dataframe tbody tr th:only-of-type {\n",
       "        vertical-align: middle;\n",
       "    }\n",
       "\n",
       "    .dataframe tbody tr th {\n",
       "        vertical-align: top;\n",
       "    }\n",
       "\n",
       "    .dataframe thead th {\n",
       "        text-align: right;\n",
       "    }\n",
       "</style>\n",
       "<table border=\"1\" class=\"dataframe\">\n",
       "  <thead>\n",
       "    <tr style=\"text-align: right;\">\n",
       "      <th></th>\n",
       "      <th>names</th>\n",
       "      <th>age</th>\n",
       "      <th>career</th>\n",
       "    </tr>\n",
       "  </thead>\n",
       "  <tbody>\n",
       "    <tr>\n",
       "      <th>0</th>\n",
       "      <td>Juan</td>\n",
       "      <td>25</td>\n",
       "      <td>Ing. Sistemas</td>\n",
       "    </tr>\n",
       "    <tr>\n",
       "      <th>1</th>\n",
       "      <td>Ana</td>\n",
       "      <td>30</td>\n",
       "      <td>Ing. Civil</td>\n",
       "    </tr>\n",
       "    <tr>\n",
       "      <th>2</th>\n",
       "      <td>Pedro</td>\n",
       "      <td>35</td>\n",
       "      <td>Ing. Industrial</td>\n",
       "    </tr>\n",
       "    <tr>\n",
       "      <th>3</th>\n",
       "      <td>María</td>\n",
       "      <td>40</td>\n",
       "      <td>Ing. Ambiental</td>\n",
       "    </tr>\n",
       "  </tbody>\n",
       "</table>\n",
       "</div>"
      ]
     },
     "execution_count": 25,
     "metadata": {},
     "output_type": "execute_result"
    }
   ],
   "execution_count": 25
  },
  {
   "metadata": {
    "ExecuteTime": {
     "end_time": "2025-03-23T00:32:26.261070Z",
     "start_time": "2025-03-23T00:32:26.242390Z"
    }
   },
   "cell_type": "code",
   "source": "df_2",
   "id": "57c832985cda69a5",
   "outputs": [
    {
     "data": {
      "text/plain": [
       "   names  age                     career\n",
       "0   Jhon   25           Computer Science\n",
       "1   Jane   30          Civil Engineering\n",
       "2  Peter   35     Industrial Engineering\n",
       "3   Mary   40  Environmental Engineering"
      ],
      "text/html": [
       "<div>\n",
       "<style scoped>\n",
       "    .dataframe tbody tr th:only-of-type {\n",
       "        vertical-align: middle;\n",
       "    }\n",
       "\n",
       "    .dataframe tbody tr th {\n",
       "        vertical-align: top;\n",
       "    }\n",
       "\n",
       "    .dataframe thead th {\n",
       "        text-align: right;\n",
       "    }\n",
       "</style>\n",
       "<table border=\"1\" class=\"dataframe\">\n",
       "  <thead>\n",
       "    <tr style=\"text-align: right;\">\n",
       "      <th></th>\n",
       "      <th>names</th>\n",
       "      <th>age</th>\n",
       "      <th>career</th>\n",
       "    </tr>\n",
       "  </thead>\n",
       "  <tbody>\n",
       "    <tr>\n",
       "      <th>0</th>\n",
       "      <td>Jhon</td>\n",
       "      <td>25</td>\n",
       "      <td>Computer Science</td>\n",
       "    </tr>\n",
       "    <tr>\n",
       "      <th>1</th>\n",
       "      <td>Jane</td>\n",
       "      <td>30</td>\n",
       "      <td>Civil Engineering</td>\n",
       "    </tr>\n",
       "    <tr>\n",
       "      <th>2</th>\n",
       "      <td>Peter</td>\n",
       "      <td>35</td>\n",
       "      <td>Industrial Engineering</td>\n",
       "    </tr>\n",
       "    <tr>\n",
       "      <th>3</th>\n",
       "      <td>Mary</td>\n",
       "      <td>40</td>\n",
       "      <td>Environmental Engineering</td>\n",
       "    </tr>\n",
       "  </tbody>\n",
       "</table>\n",
       "</div>"
      ]
     },
     "execution_count": 26,
     "metadata": {},
     "output_type": "execute_result"
    }
   ],
   "execution_count": 26
  },
  {
   "metadata": {
    "ExecuteTime": {
     "end_time": "2025-03-23T00:32:26.328129Z",
     "start_time": "2025-03-23T00:32:26.323394Z"
    }
   },
   "cell_type": "code",
   "source": "pd.concat([df_1, df_2])",
   "id": "5eaa6d497c38dd7d",
   "outputs": [
    {
     "data": {
      "text/plain": [
       "   names  age                     career\n",
       "0   Juan   25              Ing. Sistemas\n",
       "1    Ana   30                 Ing. Civil\n",
       "2  Pedro   35            Ing. Industrial\n",
       "3  María   40             Ing. Ambiental\n",
       "0   Jhon   25           Computer Science\n",
       "1   Jane   30          Civil Engineering\n",
       "2  Peter   35     Industrial Engineering\n",
       "3   Mary   40  Environmental Engineering"
      ],
      "text/html": [
       "<div>\n",
       "<style scoped>\n",
       "    .dataframe tbody tr th:only-of-type {\n",
       "        vertical-align: middle;\n",
       "    }\n",
       "\n",
       "    .dataframe tbody tr th {\n",
       "        vertical-align: top;\n",
       "    }\n",
       "\n",
       "    .dataframe thead th {\n",
       "        text-align: right;\n",
       "    }\n",
       "</style>\n",
       "<table border=\"1\" class=\"dataframe\">\n",
       "  <thead>\n",
       "    <tr style=\"text-align: right;\">\n",
       "      <th></th>\n",
       "      <th>names</th>\n",
       "      <th>age</th>\n",
       "      <th>career</th>\n",
       "    </tr>\n",
       "  </thead>\n",
       "  <tbody>\n",
       "    <tr>\n",
       "      <th>0</th>\n",
       "      <td>Juan</td>\n",
       "      <td>25</td>\n",
       "      <td>Ing. Sistemas</td>\n",
       "    </tr>\n",
       "    <tr>\n",
       "      <th>1</th>\n",
       "      <td>Ana</td>\n",
       "      <td>30</td>\n",
       "      <td>Ing. Civil</td>\n",
       "    </tr>\n",
       "    <tr>\n",
       "      <th>2</th>\n",
       "      <td>Pedro</td>\n",
       "      <td>35</td>\n",
       "      <td>Ing. Industrial</td>\n",
       "    </tr>\n",
       "    <tr>\n",
       "      <th>3</th>\n",
       "      <td>María</td>\n",
       "      <td>40</td>\n",
       "      <td>Ing. Ambiental</td>\n",
       "    </tr>\n",
       "    <tr>\n",
       "      <th>0</th>\n",
       "      <td>Jhon</td>\n",
       "      <td>25</td>\n",
       "      <td>Computer Science</td>\n",
       "    </tr>\n",
       "    <tr>\n",
       "      <th>1</th>\n",
       "      <td>Jane</td>\n",
       "      <td>30</td>\n",
       "      <td>Civil Engineering</td>\n",
       "    </tr>\n",
       "    <tr>\n",
       "      <th>2</th>\n",
       "      <td>Peter</td>\n",
       "      <td>35</td>\n",
       "      <td>Industrial Engineering</td>\n",
       "    </tr>\n",
       "    <tr>\n",
       "      <th>3</th>\n",
       "      <td>Mary</td>\n",
       "      <td>40</td>\n",
       "      <td>Environmental Engineering</td>\n",
       "    </tr>\n",
       "  </tbody>\n",
       "</table>\n",
       "</div>"
      ]
     },
     "execution_count": 27,
     "metadata": {},
     "output_type": "execute_result"
    }
   ],
   "execution_count": 27
  },
  {
   "metadata": {},
   "cell_type": "markdown",
   "source": "### Concatenación por columnas",
   "id": "72d4e12584a4ddc2"
  },
  {
   "metadata": {
    "ExecuteTime": {
     "end_time": "2025-03-23T00:35:18.278815Z",
     "start_time": "2025-03-23T00:35:18.275151Z"
    }
   },
   "cell_type": "code",
   "source": [
    "df_1 = pd.DataFrame({'autos': ['Toyota', 'Nissan', 'Ford', 'Chevrolet'],\n",
    "                     'color': ['Rojo', 'Azul', 'Blanco', 'Negro']}).set_index('autos')\n",
    "df_2 = pd.DataFrame({'autos': ['Toyota', 'Nissan', 'Ford', 'Chevrolet'],\n",
    "                     'modelo':[2018, 2002, 2005, 2020]}).set_index('autos')"
   ],
   "id": "e089216c97190292",
   "outputs": [],
   "execution_count": 29
  },
  {
   "metadata": {
    "ExecuteTime": {
     "end_time": "2025-03-23T00:35:28.311588Z",
     "start_time": "2025-03-23T00:35:28.307454Z"
    }
   },
   "cell_type": "code",
   "source": "df_1",
   "id": "c67b2cb1f68a4960",
   "outputs": [
    {
     "data": {
      "text/plain": [
       "            color\n",
       "autos            \n",
       "Toyota       Rojo\n",
       "Nissan       Azul\n",
       "Ford       Blanco\n",
       "Chevrolet   Negro"
      ],
      "text/html": [
       "<div>\n",
       "<style scoped>\n",
       "    .dataframe tbody tr th:only-of-type {\n",
       "        vertical-align: middle;\n",
       "    }\n",
       "\n",
       "    .dataframe tbody tr th {\n",
       "        vertical-align: top;\n",
       "    }\n",
       "\n",
       "    .dataframe thead th {\n",
       "        text-align: right;\n",
       "    }\n",
       "</style>\n",
       "<table border=\"1\" class=\"dataframe\">\n",
       "  <thead>\n",
       "    <tr style=\"text-align: right;\">\n",
       "      <th></th>\n",
       "      <th>color</th>\n",
       "    </tr>\n",
       "    <tr>\n",
       "      <th>autos</th>\n",
       "      <th></th>\n",
       "    </tr>\n",
       "  </thead>\n",
       "  <tbody>\n",
       "    <tr>\n",
       "      <th>Toyota</th>\n",
       "      <td>Rojo</td>\n",
       "    </tr>\n",
       "    <tr>\n",
       "      <th>Nissan</th>\n",
       "      <td>Azul</td>\n",
       "    </tr>\n",
       "    <tr>\n",
       "      <th>Ford</th>\n",
       "      <td>Blanco</td>\n",
       "    </tr>\n",
       "    <tr>\n",
       "      <th>Chevrolet</th>\n",
       "      <td>Negro</td>\n",
       "    </tr>\n",
       "  </tbody>\n",
       "</table>\n",
       "</div>"
      ]
     },
     "execution_count": 30,
     "metadata": {},
     "output_type": "execute_result"
    }
   ],
   "execution_count": 30
  },
  {
   "metadata": {
    "ExecuteTime": {
     "end_time": "2025-03-23T00:35:30.285313Z",
     "start_time": "2025-03-23T00:35:30.278620Z"
    }
   },
   "cell_type": "code",
   "source": "df_2",
   "id": "eb0f8e2efaebaeb6",
   "outputs": [
    {
     "data": {
      "text/plain": [
       "           modelo\n",
       "autos            \n",
       "Toyota       2018\n",
       "Nissan       2002\n",
       "Ford         2005\n",
       "Chevrolet    2020"
      ],
      "text/html": [
       "<div>\n",
       "<style scoped>\n",
       "    .dataframe tbody tr th:only-of-type {\n",
       "        vertical-align: middle;\n",
       "    }\n",
       "\n",
       "    .dataframe tbody tr th {\n",
       "        vertical-align: top;\n",
       "    }\n",
       "\n",
       "    .dataframe thead th {\n",
       "        text-align: right;\n",
       "    }\n",
       "</style>\n",
       "<table border=\"1\" class=\"dataframe\">\n",
       "  <thead>\n",
       "    <tr style=\"text-align: right;\">\n",
       "      <th></th>\n",
       "      <th>modelo</th>\n",
       "    </tr>\n",
       "    <tr>\n",
       "      <th>autos</th>\n",
       "      <th></th>\n",
       "    </tr>\n",
       "  </thead>\n",
       "  <tbody>\n",
       "    <tr>\n",
       "      <th>Toyota</th>\n",
       "      <td>2018</td>\n",
       "    </tr>\n",
       "    <tr>\n",
       "      <th>Nissan</th>\n",
       "      <td>2002</td>\n",
       "    </tr>\n",
       "    <tr>\n",
       "      <th>Ford</th>\n",
       "      <td>2005</td>\n",
       "    </tr>\n",
       "    <tr>\n",
       "      <th>Chevrolet</th>\n",
       "      <td>2020</td>\n",
       "    </tr>\n",
       "  </tbody>\n",
       "</table>\n",
       "</div>"
      ]
     },
     "execution_count": 31,
     "metadata": {},
     "output_type": "execute_result"
    }
   ],
   "execution_count": 31
  },
  {
   "metadata": {
    "ExecuteTime": {
     "end_time": "2025-03-23T00:37:02.632724Z",
     "start_time": "2025-03-23T00:37:02.626033Z"
    }
   },
   "cell_type": "code",
   "source": "pd.concat([df_1, df_2], axis=1)",
   "id": "7de717cb7affcaea",
   "outputs": [
    {
     "data": {
      "text/plain": [
       "            color  modelo\n",
       "autos                    \n",
       "Toyota       Rojo    2018\n",
       "Nissan       Azul    2002\n",
       "Ford       Blanco    2005\n",
       "Chevrolet   Negro    2020"
      ],
      "text/html": [
       "<div>\n",
       "<style scoped>\n",
       "    .dataframe tbody tr th:only-of-type {\n",
       "        vertical-align: middle;\n",
       "    }\n",
       "\n",
       "    .dataframe tbody tr th {\n",
       "        vertical-align: top;\n",
       "    }\n",
       "\n",
       "    .dataframe thead th {\n",
       "        text-align: right;\n",
       "    }\n",
       "</style>\n",
       "<table border=\"1\" class=\"dataframe\">\n",
       "  <thead>\n",
       "    <tr style=\"text-align: right;\">\n",
       "      <th></th>\n",
       "      <th>color</th>\n",
       "      <th>modelo</th>\n",
       "    </tr>\n",
       "    <tr>\n",
       "      <th>autos</th>\n",
       "      <th></th>\n",
       "      <th></th>\n",
       "    </tr>\n",
       "  </thead>\n",
       "  <tbody>\n",
       "    <tr>\n",
       "      <th>Toyota</th>\n",
       "      <td>Rojo</td>\n",
       "      <td>2018</td>\n",
       "    </tr>\n",
       "    <tr>\n",
       "      <th>Nissan</th>\n",
       "      <td>Azul</td>\n",
       "      <td>2002</td>\n",
       "    </tr>\n",
       "    <tr>\n",
       "      <th>Ford</th>\n",
       "      <td>Blanco</td>\n",
       "      <td>2005</td>\n",
       "    </tr>\n",
       "    <tr>\n",
       "      <th>Chevrolet</th>\n",
       "      <td>Negro</td>\n",
       "      <td>2020</td>\n",
       "    </tr>\n",
       "  </tbody>\n",
       "</table>\n",
       "</div>"
      ]
     },
     "execution_count": 33,
     "metadata": {},
     "output_type": "execute_result"
    }
   ],
   "execution_count": 33
  },
  {
   "metadata": {},
   "cell_type": "markdown",
   "source": [
    "---\n",
    "\n",
    "## Mezclar DataFrames - pd.merge()\n",
    "```python\n",
    "pd.merge(df_1, df_2, on='column_name', how='inner')\n",
    "```\n",
    "es similar al siguiente código SQL:\n",
    "\n",
    "```sql\n",
    "SELECT *\n",
    "FROM df_1\n",
    "    INNER JOIN df_2 ON df_1.attribute_name = df_2.attribute_name\n",
    "WHERE condition;\n",
    "```\n",
    "\n",
    "entonces\n",
    "\n",
    "how='inner', how='outer', how='left', how='right'\n",
    "\n",
    "\n",
    "seria equivalente a\n",
    "\n",
    "\n",
    "INNER JOIN, OUTER JOIN, LEFT JOIN, RIGHT JOIN"
   ],
   "id": "5648a23bf26487d2"
  },
  {
   "metadata": {
    "ExecuteTime": {
     "end_time": "2025-03-23T00:39:29.596429Z",
     "start_time": "2025-03-23T00:39:29.591357Z"
    }
   },
   "cell_type": "code",
   "source": "df_1",
   "id": "d1a5b280e6acd27f",
   "outputs": [
    {
     "data": {
      "text/plain": [
       "            color\n",
       "autos            \n",
       "Toyota       Rojo\n",
       "Nissan       Azul\n",
       "Ford       Blanco\n",
       "Chevrolet   Negro"
      ],
      "text/html": [
       "<div>\n",
       "<style scoped>\n",
       "    .dataframe tbody tr th:only-of-type {\n",
       "        vertical-align: middle;\n",
       "    }\n",
       "\n",
       "    .dataframe tbody tr th {\n",
       "        vertical-align: top;\n",
       "    }\n",
       "\n",
       "    .dataframe thead th {\n",
       "        text-align: right;\n",
       "    }\n",
       "</style>\n",
       "<table border=\"1\" class=\"dataframe\">\n",
       "  <thead>\n",
       "    <tr style=\"text-align: right;\">\n",
       "      <th></th>\n",
       "      <th>color</th>\n",
       "    </tr>\n",
       "    <tr>\n",
       "      <th>autos</th>\n",
       "      <th></th>\n",
       "    </tr>\n",
       "  </thead>\n",
       "  <tbody>\n",
       "    <tr>\n",
       "      <th>Toyota</th>\n",
       "      <td>Rojo</td>\n",
       "    </tr>\n",
       "    <tr>\n",
       "      <th>Nissan</th>\n",
       "      <td>Azul</td>\n",
       "    </tr>\n",
       "    <tr>\n",
       "      <th>Ford</th>\n",
       "      <td>Blanco</td>\n",
       "    </tr>\n",
       "    <tr>\n",
       "      <th>Chevrolet</th>\n",
       "      <td>Negro</td>\n",
       "    </tr>\n",
       "  </tbody>\n",
       "</table>\n",
       "</div>"
      ]
     },
     "execution_count": 34,
     "metadata": {},
     "output_type": "execute_result"
    }
   ],
   "execution_count": 34
  },
  {
   "metadata": {
    "ExecuteTime": {
     "end_time": "2025-03-23T00:39:35.635631Z",
     "start_time": "2025-03-23T00:39:35.629407Z"
    }
   },
   "cell_type": "code",
   "source": "df_2",
   "id": "b248f2c798989987",
   "outputs": [
    {
     "data": {
      "text/plain": [
       "           modelo\n",
       "autos            \n",
       "Toyota       2018\n",
       "Nissan       2002\n",
       "Ford         2005\n",
       "Chevrolet    2020"
      ],
      "text/html": [
       "<div>\n",
       "<style scoped>\n",
       "    .dataframe tbody tr th:only-of-type {\n",
       "        vertical-align: middle;\n",
       "    }\n",
       "\n",
       "    .dataframe tbody tr th {\n",
       "        vertical-align: top;\n",
       "    }\n",
       "\n",
       "    .dataframe thead th {\n",
       "        text-align: right;\n",
       "    }\n",
       "</style>\n",
       "<table border=\"1\" class=\"dataframe\">\n",
       "  <thead>\n",
       "    <tr style=\"text-align: right;\">\n",
       "      <th></th>\n",
       "      <th>modelo</th>\n",
       "    </tr>\n",
       "    <tr>\n",
       "      <th>autos</th>\n",
       "      <th></th>\n",
       "    </tr>\n",
       "  </thead>\n",
       "  <tbody>\n",
       "    <tr>\n",
       "      <th>Toyota</th>\n",
       "      <td>2018</td>\n",
       "    </tr>\n",
       "    <tr>\n",
       "      <th>Nissan</th>\n",
       "      <td>2002</td>\n",
       "    </tr>\n",
       "    <tr>\n",
       "      <th>Ford</th>\n",
       "      <td>2005</td>\n",
       "    </tr>\n",
       "    <tr>\n",
       "      <th>Chevrolet</th>\n",
       "      <td>2020</td>\n",
       "    </tr>\n",
       "  </tbody>\n",
       "</table>\n",
       "</div>"
      ]
     },
     "execution_count": 35,
     "metadata": {},
     "output_type": "execute_result"
    }
   ],
   "execution_count": 35
  },
  {
   "metadata": {
    "ExecuteTime": {
     "end_time": "2025-03-23T00:42:34.109138Z",
     "start_time": "2025-03-23T00:42:34.089258Z"
    }
   },
   "cell_type": "code",
   "source": "pd.merge(df_1, df_2, on='autos')",
   "id": "21eacc3f376233bf",
   "outputs": [
    {
     "data": {
      "text/plain": [
       "            color  modelo\n",
       "autos                    \n",
       "Toyota       Rojo    2018\n",
       "Nissan       Azul    2002\n",
       "Ford       Blanco    2005\n",
       "Chevrolet   Negro    2020"
      ],
      "text/html": [
       "<div>\n",
       "<style scoped>\n",
       "    .dataframe tbody tr th:only-of-type {\n",
       "        vertical-align: middle;\n",
       "    }\n",
       "\n",
       "    .dataframe tbody tr th {\n",
       "        vertical-align: top;\n",
       "    }\n",
       "\n",
       "    .dataframe thead th {\n",
       "        text-align: right;\n",
       "    }\n",
       "</style>\n",
       "<table border=\"1\" class=\"dataframe\">\n",
       "  <thead>\n",
       "    <tr style=\"text-align: right;\">\n",
       "      <th></th>\n",
       "      <th>color</th>\n",
       "      <th>modelo</th>\n",
       "    </tr>\n",
       "    <tr>\n",
       "      <th>autos</th>\n",
       "      <th></th>\n",
       "      <th></th>\n",
       "    </tr>\n",
       "  </thead>\n",
       "  <tbody>\n",
       "    <tr>\n",
       "      <th>Toyota</th>\n",
       "      <td>Rojo</td>\n",
       "      <td>2018</td>\n",
       "    </tr>\n",
       "    <tr>\n",
       "      <th>Nissan</th>\n",
       "      <td>Azul</td>\n",
       "      <td>2002</td>\n",
       "    </tr>\n",
       "    <tr>\n",
       "      <th>Ford</th>\n",
       "      <td>Blanco</td>\n",
       "      <td>2005</td>\n",
       "    </tr>\n",
       "    <tr>\n",
       "      <th>Chevrolet</th>\n",
       "      <td>Negro</td>\n",
       "      <td>2020</td>\n",
       "    </tr>\n",
       "  </tbody>\n",
       "</table>\n",
       "</div>"
      ]
     },
     "execution_count": 36,
     "metadata": {},
     "output_type": "execute_result"
    }
   ],
   "execution_count": 36
  }
 ],
 "metadata": {
  "kernelspec": {
   "display_name": "Python 3",
   "language": "python",
   "name": "python3"
  },
  "language_info": {
   "codemirror_mode": {
    "name": "ipython",
    "version": 2
   },
   "file_extension": ".py",
   "mimetype": "text/x-python",
   "name": "python",
   "nbconvert_exporter": "python",
   "pygments_lexer": "ipython2",
   "version": "2.7.6"
  }
 },
 "nbformat": 4,
 "nbformat_minor": 5
}
