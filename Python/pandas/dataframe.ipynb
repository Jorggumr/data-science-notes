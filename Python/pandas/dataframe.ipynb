{
 "cells": [
  {
   "metadata": {},
   "cell_type": "markdown",
   "source": "# DataFrame",
   "id": "441fe65e2a33e2a1"
  },
  {
   "metadata": {
    "collapsed": true,
    "ExecuteTime": {
     "end_time": "2025-03-22T22:48:20.173702Z",
     "start_time": "2025-03-22T22:48:20.171297Z"
    }
   },
   "cell_type": "code",
   "source": [
    "import pandas as pd\n",
    "import numpy as np"
   ],
   "id": "initial_id",
   "outputs": [],
   "execution_count": 16
  },
  {
   "metadata": {},
   "cell_type": "markdown",
   "source": "DataFrame a partir de un diccionario",
   "id": "a55c07c9da4c3e11"
  },
  {
   "metadata": {
    "ExecuteTime": {
     "end_time": "2025-03-22T22:48:20.218215Z",
     "start_time": "2025-03-22T22:48:20.215969Z"
    }
   },
   "cell_type": "code",
   "source": [
    "data = { 'Nombre': ['Juan', 'Ana', 'Pedro', 'María'],\n",
    "         'Edad': [25, 30, 35, 40],\n",
    "         'carrera': ['Ing. Sistemas', 'Ing. Civil', 'Ing. Industrial', 'Ing. Ambiental'] }"
   ],
   "id": "e37e14031a5845a6",
   "outputs": [],
   "execution_count": 17
  },
  {
   "metadata": {
    "ExecuteTime": {
     "end_time": "2025-03-22T22:48:20.267525Z",
     "start_time": "2025-03-22T22:48:20.262258Z"
    }
   },
   "cell_type": "code",
   "source": [
    "df = pd.DataFrame(data)\n",
    "df"
   ],
   "id": "f26b553e1a9fbc09",
   "outputs": [
    {
     "data": {
      "text/plain": [
       "  Nombre  Edad          carrera\n",
       "0   Juan    25    Ing. Sistemas\n",
       "1    Ana    30       Ing. Civil\n",
       "2  Pedro    35  Ing. Industrial\n",
       "3  María    40   Ing. Ambiental"
      ],
      "text/html": [
       "<div>\n",
       "<style scoped>\n",
       "    .dataframe tbody tr th:only-of-type {\n",
       "        vertical-align: middle;\n",
       "    }\n",
       "\n",
       "    .dataframe tbody tr th {\n",
       "        vertical-align: top;\n",
       "    }\n",
       "\n",
       "    .dataframe thead th {\n",
       "        text-align: right;\n",
       "    }\n",
       "</style>\n",
       "<table border=\"1\" class=\"dataframe\">\n",
       "  <thead>\n",
       "    <tr style=\"text-align: right;\">\n",
       "      <th></th>\n",
       "      <th>Nombre</th>\n",
       "      <th>Edad</th>\n",
       "      <th>carrera</th>\n",
       "    </tr>\n",
       "  </thead>\n",
       "  <tbody>\n",
       "    <tr>\n",
       "      <th>0</th>\n",
       "      <td>Juan</td>\n",
       "      <td>25</td>\n",
       "      <td>Ing. Sistemas</td>\n",
       "    </tr>\n",
       "    <tr>\n",
       "      <th>1</th>\n",
       "      <td>Ana</td>\n",
       "      <td>30</td>\n",
       "      <td>Ing. Civil</td>\n",
       "    </tr>\n",
       "    <tr>\n",
       "      <th>2</th>\n",
       "      <td>Pedro</td>\n",
       "      <td>35</td>\n",
       "      <td>Ing. Industrial</td>\n",
       "    </tr>\n",
       "    <tr>\n",
       "      <th>3</th>\n",
       "      <td>María</td>\n",
       "      <td>40</td>\n",
       "      <td>Ing. Ambiental</td>\n",
       "    </tr>\n",
       "  </tbody>\n",
       "</table>\n",
       "</div>"
      ]
     },
     "execution_count": 18,
     "metadata": {},
     "output_type": "execute_result"
    }
   ],
   "execution_count": 18
  },
  {
   "metadata": {},
   "cell_type": "markdown",
   "source": "DataFrame a partir de una lista",
   "id": "4d24b9f939496ffc"
  },
  {
   "metadata": {
    "ExecuteTime": {
     "end_time": "2025-03-22T22:48:20.337379Z",
     "start_time": "2025-03-22T22:48:20.332763Z"
    }
   },
   "cell_type": "code",
   "source": [
    "df = pd.DataFrame([['Juna', 25, 'Ing. Sistemas'],\n",
    "                   ['Ana', 30, 'Ing. Civil'],\n",
    "                   ['Pedro', 35, 'Ing. Industrial'],\n",
    "                   ['María', 40, 'Ing. Ambiental']],\n",
    "                  columns=['Nombre', 'Edad', 'carrera'])\n",
    "df"
   ],
   "id": "fd1edd9e294a573c",
   "outputs": [
    {
     "data": {
      "text/plain": [
       "  Nombre  Edad          carrera\n",
       "0   Juna    25    Ing. Sistemas\n",
       "1    Ana    30       Ing. Civil\n",
       "2  Pedro    35  Ing. Industrial\n",
       "3  María    40   Ing. Ambiental"
      ],
      "text/html": [
       "<div>\n",
       "<style scoped>\n",
       "    .dataframe tbody tr th:only-of-type {\n",
       "        vertical-align: middle;\n",
       "    }\n",
       "\n",
       "    .dataframe tbody tr th {\n",
       "        vertical-align: top;\n",
       "    }\n",
       "\n",
       "    .dataframe thead th {\n",
       "        text-align: right;\n",
       "    }\n",
       "</style>\n",
       "<table border=\"1\" class=\"dataframe\">\n",
       "  <thead>\n",
       "    <tr style=\"text-align: right;\">\n",
       "      <th></th>\n",
       "      <th>Nombre</th>\n",
       "      <th>Edad</th>\n",
       "      <th>carrera</th>\n",
       "    </tr>\n",
       "  </thead>\n",
       "  <tbody>\n",
       "    <tr>\n",
       "      <th>0</th>\n",
       "      <td>Juna</td>\n",
       "      <td>25</td>\n",
       "      <td>Ing. Sistemas</td>\n",
       "    </tr>\n",
       "    <tr>\n",
       "      <th>1</th>\n",
       "      <td>Ana</td>\n",
       "      <td>30</td>\n",
       "      <td>Ing. Civil</td>\n",
       "    </tr>\n",
       "    <tr>\n",
       "      <th>2</th>\n",
       "      <td>Pedro</td>\n",
       "      <td>35</td>\n",
       "      <td>Ing. Industrial</td>\n",
       "    </tr>\n",
       "    <tr>\n",
       "      <th>3</th>\n",
       "      <td>María</td>\n",
       "      <td>40</td>\n",
       "      <td>Ing. Ambiental</td>\n",
       "    </tr>\n",
       "  </tbody>\n",
       "</table>\n",
       "</div>"
      ]
     },
     "execution_count": 19,
     "metadata": {},
     "output_type": "execute_result"
    }
   ],
   "execution_count": 19
  },
  {
   "metadata": {},
   "cell_type": "markdown",
   "source": "DataFrame a partir de un array usando numpy",
   "id": "86551589773ae8b2"
  },
  {
   "metadata": {
    "ExecuteTime": {
     "end_time": "2025-03-22T22:51:47.108499Z",
     "start_time": "2025-03-22T22:51:47.097226Z"
    }
   },
   "cell_type": "code",
   "source": [
    "df = pd.DataFrame(np.random.randn(4,3), columns=['A', 'B', 'C'])\n",
    "df"
   ],
   "id": "104b7ba23fab6771",
   "outputs": [
    {
     "data": {
      "text/plain": [
       "          A         B         C\n",
       "0  1.274951 -1.036626 -0.450276\n",
       "1  0.975281  0.083703 -1.518446\n",
       "2 -1.074594  0.221418 -0.572265\n",
       "3  2.343462  0.939884  0.805075"
      ],
      "text/html": [
       "<div>\n",
       "<style scoped>\n",
       "    .dataframe tbody tr th:only-of-type {\n",
       "        vertical-align: middle;\n",
       "    }\n",
       "\n",
       "    .dataframe tbody tr th {\n",
       "        vertical-align: top;\n",
       "    }\n",
       "\n",
       "    .dataframe thead th {\n",
       "        text-align: right;\n",
       "    }\n",
       "</style>\n",
       "<table border=\"1\" class=\"dataframe\">\n",
       "  <thead>\n",
       "    <tr style=\"text-align: right;\">\n",
       "      <th></th>\n",
       "      <th>A</th>\n",
       "      <th>B</th>\n",
       "      <th>C</th>\n",
       "    </tr>\n",
       "  </thead>\n",
       "  <tbody>\n",
       "    <tr>\n",
       "      <th>0</th>\n",
       "      <td>1.274951</td>\n",
       "      <td>-1.036626</td>\n",
       "      <td>-0.450276</td>\n",
       "    </tr>\n",
       "    <tr>\n",
       "      <th>1</th>\n",
       "      <td>0.975281</td>\n",
       "      <td>0.083703</td>\n",
       "      <td>-1.518446</td>\n",
       "    </tr>\n",
       "    <tr>\n",
       "      <th>2</th>\n",
       "      <td>-1.074594</td>\n",
       "      <td>0.221418</td>\n",
       "      <td>-0.572265</td>\n",
       "    </tr>\n",
       "    <tr>\n",
       "      <th>3</th>\n",
       "      <td>2.343462</td>\n",
       "      <td>0.939884</td>\n",
       "      <td>0.805075</td>\n",
       "    </tr>\n",
       "  </tbody>\n",
       "</table>\n",
       "</div>"
      ]
     },
     "execution_count": 20,
     "metadata": {},
     "output_type": "execute_result"
    }
   ],
   "execution_count": 20
  }
 ],
 "metadata": {
  "kernelspec": {
   "display_name": "Python 3",
   "language": "python",
   "name": "python3"
  },
  "language_info": {
   "codemirror_mode": {
    "name": "ipython",
    "version": 2
   },
   "file_extension": ".py",
   "mimetype": "text/x-python",
   "name": "python",
   "nbconvert_exporter": "python",
   "pygments_lexer": "ipython2",
   "version": "2.7.6"
  }
 },
 "nbformat": 4,
 "nbformat_minor": 5
}
