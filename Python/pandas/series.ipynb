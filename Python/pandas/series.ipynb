{
 "cells": [
  {
   "metadata": {},
   "cell_type": "markdown",
   "source": "# Series",
   "id": "fc9d13c634482f6e"
  },
  {
   "metadata": {
    "collapsed": true,
    "ExecuteTime": {
     "end_time": "2025-03-22T21:28:02.856094Z",
     "start_time": "2025-03-22T21:28:02.854105Z"
    }
   },
   "cell_type": "code",
   "source": "import pandas as pd",
   "id": "initial_id",
   "outputs": [],
   "execution_count": 27
  },
  {
   "metadata": {},
   "cell_type": "markdown",
   "source": "vector",
   "id": "14509e0d3c82ffb0"
  },
  {
   "metadata": {
    "ExecuteTime": {
     "end_time": "2025-03-22T21:28:02.904176Z",
     "start_time": "2025-03-22T21:28:02.900927Z"
    }
   },
   "cell_type": "code",
   "source": [
    "a = pd.Series([4, 9, 2, 6, 10, 200])\n",
    "a"
   ],
   "id": "a729f188f113e7ee",
   "outputs": [
    {
     "data": {
      "text/plain": [
       "0      4\n",
       "1      9\n",
       "2      2\n",
       "3      6\n",
       "4     10\n",
       "5    200\n",
       "dtype: int64"
      ]
     },
     "execution_count": 28,
     "metadata": {},
     "output_type": "execute_result"
    }
   ],
   "execution_count": 28
  },
  {
   "metadata": {},
   "cell_type": "markdown",
   "source": "lista",
   "id": "64f4e44930e9d09a"
  },
  {
   "metadata": {
    "ExecuteTime": {
     "end_time": "2025-03-22T21:28:02.969247Z",
     "start_time": "2025-03-22T21:28:02.966224Z"
    }
   },
   "cell_type": "code",
   "source": [
    "colors = pd.Series(['red', 'blue', 'yellow', 'green'])\n",
    "colors"
   ],
   "id": "423e9b39b54cbc56",
   "outputs": [
    {
     "data": {
      "text/plain": [
       "0       red\n",
       "1      blue\n",
       "2    yellow\n",
       "3     green\n",
       "dtype: object"
      ]
     },
     "execution_count": 29,
     "metadata": {},
     "output_type": "execute_result"
    }
   ],
   "execution_count": 29
  },
  {
   "metadata": {},
   "cell_type": "markdown",
   "source": "diccionario",
   "id": "727dcae325856227"
  },
  {
   "metadata": {
    "ExecuteTime": {
     "end_time": "2025-03-22T21:28:03.041726Z",
     "start_time": "2025-03-22T21:28:03.038213Z"
    }
   },
   "cell_type": "code",
   "source": [
    "materias = pd.Series({'matematicas': 8.5, 'historia': 7, 'biologia': 9.2})\n",
    "materias"
   ],
   "id": "9726aefc49c04e4c",
   "outputs": [
    {
     "data": {
      "text/plain": [
       "matematicas    8.5\n",
       "historia       7.0\n",
       "biologia       9.2\n",
       "dtype: float64"
      ]
     },
     "execution_count": 30,
     "metadata": {},
     "output_type": "execute_result"
    }
   ],
   "execution_count": 30
  },
  {
   "metadata": {},
   "cell_type": "markdown",
   "source": [
    "---\n",
    "\n",
    "### Propiedades"
   ],
   "id": "3bf771f3547c1867"
  },
  {
   "metadata": {
    "ExecuteTime": {
     "end_time": "2025-03-22T21:28:03.107250Z",
     "start_time": "2025-03-22T21:28:03.104096Z"
    }
   },
   "cell_type": "code",
   "source": [
    "b = pd.Series([1,2,3,4,5,6,7,8,9])\n",
    "b"
   ],
   "id": "8e2a689f3d58238b",
   "outputs": [
    {
     "data": {
      "text/plain": [
       "0    1\n",
       "1    2\n",
       "2    3\n",
       "3    4\n",
       "4    5\n",
       "5    6\n",
       "6    7\n",
       "7    8\n",
       "8    9\n",
       "dtype: int64"
      ]
     },
     "execution_count": 31,
     "metadata": {},
     "output_type": "execute_result"
    }
   ],
   "execution_count": 31
  },
  {
   "metadata": {
    "ExecuteTime": {
     "end_time": "2025-03-22T21:29:27.330353Z",
     "start_time": "2025-03-22T21:29:27.326815Z"
    }
   },
   "cell_type": "code",
   "source": [
    "print(\"Size:\",   b.size)\n",
    "print(\"Index:\",  b.index)\n",
    "print(\"Values:\", b.values)\n",
    "print(\"dtype:\",  b.dtype)"
   ],
   "id": "605341cbd96a986e",
   "outputs": [
    {
     "name": "stdout",
     "output_type": "stream",
     "text": [
      "Size: 9\n",
      "Index: RangeIndex(start=0, stop=9, step=1)\n",
      "Values: [1 2 3 4 5 6 7 8 9]\n",
      "dtype: int64\n"
     ]
    }
   ],
   "execution_count": 35
  },
  {
   "metadata": {},
   "cell_type": "markdown",
   "source": [
    "---\n",
    "\n",
    "### Acceder a una serie"
   ],
   "id": "798e6a0369ffeea6"
  },
  {
   "metadata": {
    "ExecuteTime": {
     "end_time": "2025-03-22T21:31:07.967552Z",
     "start_time": "2025-03-22T21:31:07.960800Z"
    }
   },
   "cell_type": "code",
   "source": "colors",
   "id": "e7bb89b4db294ad8",
   "outputs": [
    {
     "data": {
      "text/plain": [
       "0       red\n",
       "1      blue\n",
       "2    yellow\n",
       "3     green\n",
       "dtype: object"
      ]
     },
     "execution_count": 36,
     "metadata": {},
     "output_type": "execute_result"
    }
   ],
   "execution_count": 36
  },
  {
   "metadata": {
    "ExecuteTime": {
     "end_time": "2025-03-22T21:32:50.657599Z",
     "start_time": "2025-03-22T21:32:50.644236Z"
    }
   },
   "cell_type": "code",
   "source": "colors[0:2]",
   "id": "2e16f93334ef4c17",
   "outputs": [
    {
     "data": {
      "text/plain": [
       "0     red\n",
       "1    blue\n",
       "dtype: object"
      ]
     },
     "execution_count": 37,
     "metadata": {},
     "output_type": "execute_result"
    }
   ],
   "execution_count": 37
  },
  {
   "metadata": {
    "ExecuteTime": {
     "end_time": "2025-03-22T21:33:46.162064Z",
     "start_time": "2025-03-22T21:33:46.158998Z"
    }
   },
   "cell_type": "code",
   "source": "materias",
   "id": "e4ac31ecb2b181a2",
   "outputs": [
    {
     "data": {
      "text/plain": [
       "matematicas    8.5\n",
       "historia       7.0\n",
       "biologia       9.2\n",
       "dtype: float64"
      ]
     },
     "execution_count": 38,
     "metadata": {},
     "output_type": "execute_result"
    }
   ],
   "execution_count": 38
  },
  {
   "metadata": {
    "ExecuteTime": {
     "end_time": "2025-03-22T21:34:54.263607Z",
     "start_time": "2025-03-22T21:34:54.258726Z"
    }
   },
   "cell_type": "code",
   "source": "materias[['historia', 'biologia']]",
   "id": "a125f8bc4089c08a",
   "outputs": [
    {
     "data": {
      "text/plain": [
       "historia    7.0\n",
       "biologia    9.2\n",
       "dtype: float64"
      ]
     },
     "execution_count": 40,
     "metadata": {},
     "output_type": "execute_result"
    }
   ],
   "execution_count": 40
  },
  {
   "metadata": {},
   "cell_type": "markdown",
   "source": [
    "---\n",
    "\n",
    "### Operaciones"
   ],
   "id": "7297ce9333266480"
  },
  {
   "metadata": {
    "ExecuteTime": {
     "end_time": "2025-03-22T21:36:00.631438Z",
     "start_time": "2025-03-22T21:36:00.620042Z"
    }
   },
   "cell_type": "code",
   "source": "b",
   "id": "17c8f48928df7f7f",
   "outputs": [
    {
     "data": {
      "text/plain": [
       "0    1\n",
       "1    2\n",
       "2    3\n",
       "3    4\n",
       "4    5\n",
       "5    6\n",
       "6    7\n",
       "7    8\n",
       "8    9\n",
       "dtype: int64"
      ]
     },
     "execution_count": 41,
     "metadata": {},
     "output_type": "execute_result"
    }
   ],
   "execution_count": 41
  },
  {
   "metadata": {
    "ExecuteTime": {
     "end_time": "2025-03-22T21:36:08.150179Z",
     "start_time": "2025-03-22T21:36:08.146835Z"
    }
   },
   "cell_type": "code",
   "source": "b * 2",
   "id": "f70097df9b318808",
   "outputs": [
    {
     "data": {
      "text/plain": [
       "0     2\n",
       "1     4\n",
       "2     6\n",
       "3     8\n",
       "4    10\n",
       "5    12\n",
       "6    14\n",
       "7    16\n",
       "8    18\n",
       "dtype: int64"
      ]
     },
     "execution_count": 42,
     "metadata": {},
     "output_type": "execute_result"
    }
   ],
   "execution_count": 42
  },
  {
   "metadata": {},
   "cell_type": "markdown",
   "source": [
    "---\n",
    "\n",
    "Creando una serie usando valor escalar"
   ],
   "id": "41a911f079f47d56"
  },
  {
   "metadata": {
    "ExecuteTime": {
     "end_time": "2025-03-22T21:59:54.813950Z",
     "start_time": "2025-03-22T21:59:54.810366Z"
    }
   },
   "cell_type": "code",
   "source": [
    "data = 5\n",
    "serie = pd.Series(data, index=[0,1,2,3,4,5])\n",
    "serie"
   ],
   "id": "a29631997e6e170c",
   "outputs": [
    {
     "data": {
      "text/plain": [
       "0    5\n",
       "1    5\n",
       "2    5\n",
       "3    5\n",
       "4    5\n",
       "5    5\n",
       "dtype: int64"
      ]
     },
     "execution_count": 43,
     "metadata": {},
     "output_type": "execute_result"
    }
   ],
   "execution_count": 43
  },
  {
   "metadata": {},
   "cell_type": "markdown",
   "source": "Hacer una serie con un índice definido",
   "id": "641f3783e687f90"
  },
  {
   "metadata": {
    "ExecuteTime": {
     "end_time": "2025-03-22T22:05:29.392196Z",
     "start_time": "2025-03-22T22:05:29.388097Z"
    }
   },
   "cell_type": "code",
   "source": [
    "data_list = ['Jhon', 'Doe', 'Jane', 'Smith']\n",
    "indexes = ['a', 'b', 'c', 'd']\n",
    "serie = pd.Series(index=indexes, data=data_list)\n",
    "serie"
   ],
   "id": "a95197974f26d722",
   "outputs": [
    {
     "data": {
      "text/plain": [
       "a     Jhon\n",
       "b      Doe\n",
       "c     Jane\n",
       "d    Smith\n",
       "dtype: object"
      ]
     },
     "execution_count": 44,
     "metadata": {},
     "output_type": "execute_result"
    }
   ],
   "execution_count": 44
  }
 ],
 "metadata": {
  "kernelspec": {
   "display_name": "Python 3",
   "language": "python",
   "name": "python3"
  },
  "language_info": {
   "codemirror_mode": {
    "name": "ipython",
    "version": 2
   },
   "file_extension": ".py",
   "mimetype": "text/x-python",
   "name": "python",
   "nbconvert_exporter": "python",
   "pygments_lexer": "ipython2",
   "version": "2.7.6"
  }
 },
 "nbformat": 4,
 "nbformat_minor": 5
}
