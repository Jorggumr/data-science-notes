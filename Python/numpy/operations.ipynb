{
 "cells": [
  {
   "metadata": {},
   "cell_type": "markdown",
   "source": "# Operations",
   "id": "bf093514b89997d1"
  },
  {
   "metadata": {},
   "cell_type": "markdown",
   "source": "Importar numpy e inicializar vectores",
   "id": "388d48bda3ee7234"
  },
  {
   "metadata": {
    "collapsed": true,
    "ExecuteTime": {
     "end_time": "2025-03-22T16:07:37.027638Z",
     "start_time": "2025-03-22T16:07:37.024460Z"
    }
   },
   "cell_type": "code",
   "source": "import numpy as np",
   "id": "initial_id",
   "outputs": [],
   "execution_count": 281
  },
  {
   "metadata": {
    "ExecuteTime": {
     "end_time": "2025-03-22T16:07:37.035873Z",
     "start_time": "2025-03-22T16:07:37.033059Z"
    }
   },
   "cell_type": "code",
   "source": [
    "v = np.array([1,2,3,4,5])\n",
    "w = np.array([5,7,1,9,5])\n",
    "print(\"v = \",v)\n",
    "print(\"w = \",w)"
   ],
   "id": "7152fea5e9cc611e",
   "outputs": [
    {
     "name": "stdout",
     "output_type": "stream",
     "text": [
      "v =  [1 2 3 4 5]\n",
      "w =  [5 7 1 9 5]\n"
     ]
    }
   ],
   "execution_count": 282
  },
  {
   "metadata": {},
   "cell_type": "markdown",
   "source": "Suma, Resta, Producto en cada elemento $v_i$ = $w_i$",
   "id": "f9f470c7c727f079"
  },
  {
   "metadata": {
    "ExecuteTime": {
     "end_time": "2025-03-22T16:07:37.083960Z",
     "start_time": "2025-03-22T16:07:37.080971Z"
    }
   },
   "cell_type": "code",
   "source": [
    "print(\"v + v = \",       v + w)\n",
    "print(\"v - v = \",       v - w)\n",
    "print(\"v(i) * w(i) = \", v * w)"
   ],
   "id": "e795e5f01addc7b8",
   "outputs": [
    {
     "name": "stdout",
     "output_type": "stream",
     "text": [
      "v + v =  [ 6  9  4 13 10]\n",
      "v - v =  [-4 -5  2 -5  0]\n",
      "v(i) * w(i) =  [ 5 14  3 36 25]\n"
     ]
    }
   ],
   "execution_count": 283
  },
  {
   "metadata": {},
   "cell_type": "markdown",
   "source": "### Usando Numpy",
   "id": "92d226c3dfeccff2"
  },
  {
   "metadata": {
    "ExecuteTime": {
     "end_time": "2025-03-22T16:07:37.130711Z",
     "start_time": "2025-03-22T16:07:37.128170Z"
    }
   },
   "cell_type": "code",
   "source": [
    "print(\"v = \",v)\n",
    "print(\"w = \",w)"
   ],
   "id": "88aafb3605f61236",
   "outputs": [
    {
     "name": "stdout",
     "output_type": "stream",
     "text": [
      "v =  [1 2 3 4 5]\n",
      "w =  [5 7 1 9 5]\n"
     ]
    }
   ],
   "execution_count": 284
  },
  {
   "metadata": {},
   "cell_type": "markdown",
   "source": "Suma, Resta, Producto y division en cada elemento $v_i = w_i$",
   "id": "da0c6db7ef8c6fbf"
  },
  {
   "metadata": {
    "ExecuteTime": {
     "end_time": "2025-03-22T16:07:37.179976Z",
     "start_time": "2025-03-22T16:07:37.177074Z"
    }
   },
   "cell_type": "code",
   "source": [
    "print(\"v + v = \",       np.add(v, w))\n",
    "print(\"v - v = \",       np.subtract(v, w))\n",
    "print(\"v(i) * w(i) = \", np.multiply(v, w))\n",
    "print(\"v(i) / w(i) = \", np.divide(v, w))"
   ],
   "id": "345408db6b9d46ad",
   "outputs": [
    {
     "name": "stdout",
     "output_type": "stream",
     "text": [
      "v + v =  [ 6  9  4 13 10]\n",
      "v - v =  [-4 -5  2 -5  0]\n",
      "v(i) * w(i) =  [ 5 14  3 36 25]\n",
      "v(i) / w(i) =  [0.2        0.28571429 3.         0.44444444 1.        ]\n"
     ]
    }
   ],
   "execution_count": 285
  },
  {
   "metadata": {},
   "cell_type": "markdown",
   "source": "Potencia en cada elemento $v_i$",
   "id": "4e5d7503c50150cf"
  },
  {
   "metadata": {
    "ExecuteTime": {
     "end_time": "2025-03-22T16:07:37.228077Z",
     "start_time": "2025-03-22T16:07:37.225317Z"
    }
   },
   "cell_type": "code",
   "source": "np.power(v, 2) #v^2",
   "id": "f40bd25835917ac2",
   "outputs": [
    {
     "data": {
      "text/plain": [
       "array([ 1,  4,  9, 16, 25])"
      ]
     },
     "execution_count": 286,
     "metadata": {},
     "output_type": "execute_result"
    }
   ],
   "execution_count": 286
  },
  {
   "metadata": {
    "ExecuteTime": {
     "end_time": "2025-03-22T16:07:37.275486Z",
     "start_time": "2025-03-22T16:07:37.272644Z"
    }
   },
   "cell_type": "code",
   "source": "np.array(v**2) #v^2",
   "id": "7b1b751fc98f7767",
   "outputs": [
    {
     "data": {
      "text/plain": [
       "array([ 1,  4,  9, 16, 25])"
      ]
     },
     "execution_count": 287,
     "metadata": {},
     "output_type": "execute_result"
    }
   ],
   "execution_count": 287
  },
  {
   "metadata": {},
   "cell_type": "markdown",
   "source": "Operadores Lógicos",
   "id": "1a92531ffe00207c"
  },
  {
   "metadata": {
    "ExecuteTime": {
     "end_time": "2025-03-22T16:07:37.323169Z",
     "start_time": "2025-03-22T16:07:37.320334Z"
    }
   },
   "cell_type": "code",
   "source": [
    "print(\"v = \",v)\n",
    "print(\"w = \",w)"
   ],
   "id": "da06532c21f899f3",
   "outputs": [
    {
     "name": "stdout",
     "output_type": "stream",
     "text": [
      "v =  [1 2 3 4 5]\n",
      "w =  [5 7 1 9 5]\n"
     ]
    }
   ],
   "execution_count": 288
  },
  {
   "metadata": {
    "ExecuteTime": {
     "end_time": "2025-03-22T16:07:37.369560Z",
     "start_time": "2025-03-22T16:07:37.366877Z"
    }
   },
   "cell_type": "code",
   "source": [
    "print(\"v1 == v2: \", v == w)\n",
    "print(\"v1 != v2: \", v != w)\n",
    "print(\"v1 < v2: \",  v < w)  # < , <=\n",
    "print(\"v1 >= v2: \", v >= w) # >, >="
   ],
   "id": "7d60dae556170ae7",
   "outputs": [
    {
     "name": "stdout",
     "output_type": "stream",
     "text": [
      "v1 == v2:  [False False False False  True]\n",
      "v1 != v2:  [ True  True  True  True False]\n",
      "v1 < v2:  [ True  True False  True False]\n",
      "v1 >= v2:  [False False  True False  True]\n"
     ]
    }
   ],
   "execution_count": 289
  },
  {
   "metadata": {},
   "cell_type": "markdown",
   "source": "Concatenar",
   "id": "7753c2f47353918c"
  },
  {
   "metadata": {
    "ExecuteTime": {
     "end_time": "2025-03-22T16:07:37.417312Z",
     "start_time": "2025-03-22T16:07:37.414710Z"
    }
   },
   "cell_type": "code",
   "source": [
    "print(\"v = \",v)\n",
    "print(\"w = \",w)\n",
    "print(\"Concatenación: \",np.concatenate((v,w)))"
   ],
   "id": "34aa415567c281fd",
   "outputs": [
    {
     "name": "stdout",
     "output_type": "stream",
     "text": [
      "v =  [1 2 3 4 5]\n",
      "w =  [5 7 1 9 5]\n",
      "Concatenación:  [1 2 3 4 5 5 7 1 9 5]\n"
     ]
    }
   ],
   "execution_count": 290
  },
  {
   "metadata": {},
   "cell_type": "markdown",
   "source": "## Operaciones con matrices",
   "id": "f5722297f65de648"
  },
  {
   "metadata": {},
   "cell_type": "markdown",
   "source": [
    "$\\text{Sean }$\n",
    "$$\n",
    "A = (a_{ij}) \\in \\mathbb{R}^{n \\times m},\n",
    "\\quad \\text{  con } a_{ij} \\in \\mathbb{R},\n",
    "\\quad \\text{ donde } n=4, m=4.\n",
    "$$\n",
    "\n",
    "\n",
    "$$B = (b_{ij}) \\in \\mathbb{R}^{n \\times m},\n",
    "\\quad \\text{  con } b_{ij} \\in \\mathbb{R},\n",
    "\\quad \\text{ donde } n=4 , m= 4.\n",
    "$$"
   ],
   "id": "f18b02e6ad18d167"
  },
  {
   "metadata": {},
   "cell_type": "markdown",
   "source": "Generando $A$ y $B$",
   "id": "1234034d66634dca"
  },
  {
   "metadata": {
    "ExecuteTime": {
     "end_time": "2025-03-22T16:07:37.463658Z",
     "start_time": "2025-03-22T16:07:37.461366Z"
    }
   },
   "cell_type": "code",
   "source": [
    "n_A = 4; m_A = 4; n_B = 4; m_B = 4\n",
    "A = np.arange(16).reshape(n_A, m_A)\n",
    "B = np.arange(16).reshape(n_B, m_B)"
   ],
   "id": "aa80ba5d40b22714",
   "outputs": [],
   "execution_count": 291
  },
  {
   "metadata": {
    "ExecuteTime": {
     "end_time": "2025-03-22T16:07:37.510918Z",
     "start_time": "2025-03-22T16:07:37.507574Z"
    }
   },
   "cell_type": "code",
   "source": [
    "print(\"A = \\n\",A)\n",
    "print(\"B = \\n\",B)"
   ],
   "id": "b70fd5271865e7bc",
   "outputs": [
    {
     "name": "stdout",
     "output_type": "stream",
     "text": [
      "A = \n",
      " [[ 0  1  2  3]\n",
      " [ 4  5  6  7]\n",
      " [ 8  9 10 11]\n",
      " [12 13 14 15]]\n",
      "B = \n",
      " [[ 0  1  2  3]\n",
      " [ 4  5  6  7]\n",
      " [ 8  9 10 11]\n",
      " [12 13 14 15]]\n"
     ]
    }
   ],
   "execution_count": 292
  },
  {
   "metadata": {},
   "cell_type": "markdown",
   "source": [
    "Suma y Restas\n",
    "\n",
    "Recordar: Para la suma y resta de dos matrices, las matrices deben ser del mismo tamaño"
   ],
   "id": "eb535408f4b74019"
  },
  {
   "metadata": {
    "ExecuteTime": {
     "end_time": "2025-03-22T16:07:37.557949Z",
     "start_time": "2025-03-22T16:07:37.555489Z"
    }
   },
   "cell_type": "code",
   "source": [
    "print(\"A + B: \\n\", A + B)\n",
    "print(\"A - B: \\n\", A - B)"
   ],
   "id": "1cfd9c6d1052ca60",
   "outputs": [
    {
     "name": "stdout",
     "output_type": "stream",
     "text": [
      "A + B: \n",
      " [[ 0  2  4  6]\n",
      " [ 8 10 12 14]\n",
      " [16 18 20 22]\n",
      " [24 26 28 30]]\n",
      "A - B: \n",
      " [[0 0 0 0]\n",
      " [0 0 0 0]\n",
      " [0 0 0 0]\n",
      " [0 0 0 0]]\n"
     ]
    }
   ],
   "execution_count": 293
  },
  {
   "metadata": {},
   "cell_type": "markdown",
   "source": [
    "Producto de dos matrices (Algebra Lineal)\n",
    "\n",
    "Recordar:\n",
    "$$\n",
    "\\text{Sean } A = (a_{ij}) \\in \\mathbb{R}^{n_A \\times m_A} \\quad \\text{ y } \\quad  B = (b_{ij}) \\in \\mathbb{R}^{n_B \\times m_B} \\quad \\text{ matrices.}\n",
    "$$\n",
    "\n",
    "$$A \\times B = (x_{ij}) \\in \\mathbb{R}^{n_A \\times m_B},\n",
    "\\quad \\text{  donde } m_A = n_B.\n",
    "$$\n"
   ],
   "id": "6ba3e549f1f7ef5f"
  },
  {
   "metadata": {
    "ExecuteTime": {
     "end_time": "2025-03-22T16:07:37.605538Z",
     "start_time": "2025-03-22T16:07:37.602720Z"
    }
   },
   "cell_type": "code",
   "source": [
    "n_A = 4; m_A = 4; n_B = 4; m_B = 5\n",
    "A = np.arange(16).reshape(n_A, m_A)\n",
    "B = np.arange(20).reshape(n_B, m_B)\n",
    "print(\"A = \\n\",A)\n",
    "print(\"B = \\n\",B)"
   ],
   "id": "877c08e2d6b5bb1a",
   "outputs": [
    {
     "name": "stdout",
     "output_type": "stream",
     "text": [
      "A = \n",
      " [[ 0  1  2  3]\n",
      " [ 4  5  6  7]\n",
      " [ 8  9 10 11]\n",
      " [12 13 14 15]]\n",
      "B = \n",
      " [[ 0  1  2  3  4]\n",
      " [ 5  6  7  8  9]\n",
      " [10 11 12 13 14]\n",
      " [15 16 17 18 19]]\n"
     ]
    }
   ],
   "execution_count": 294
  },
  {
   "metadata": {
    "ExecuteTime": {
     "end_time": "2025-03-22T16:07:37.718013Z",
     "start_time": "2025-03-22T16:07:37.710542Z"
    }
   },
   "cell_type": "code",
   "source": "print(\"A x B =\\n\", A.dot(B))",
   "id": "37fd719d6863f0d0",
   "outputs": [
    {
     "name": "stdout",
     "output_type": "stream",
     "text": [
      "A x B =\n",
      " [[ 70  76  82  88  94]\n",
      " [190 212 234 256 278]\n",
      " [310 348 386 424 462]\n",
      " [430 484 538 592 646]]\n"
     ]
    }
   ],
   "execution_count": 295
  }
 ],
 "metadata": {
  "kernelspec": {
   "display_name": "Python 3",
   "language": "python",
   "name": "python3"
  },
  "language_info": {
   "codemirror_mode": {
    "name": "ipython",
    "version": 2
   },
   "file_extension": ".py",
   "mimetype": "text/x-python",
   "name": "python",
   "nbconvert_exporter": "python",
   "pygments_lexer": "ipython2",
   "version": "2.7.6"
  }
 },
 "nbformat": 4,
 "nbformat_minor": 5
}
