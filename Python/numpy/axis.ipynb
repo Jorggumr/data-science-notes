{
 "cells": [
  {
   "metadata": {},
   "cell_type": "markdown",
   "source": "# Axis",
   "id": "54afe90daac97231"
  },
  {
   "metadata": {},
   "cell_type": "markdown",
   "source": "Importar numpy e inicializar matrices",
   "id": "3f48b22c62667160"
  },
  {
   "metadata": {
    "collapsed": true,
    "ExecuteTime": {
     "end_time": "2025-03-22T14:45:16.208136Z",
     "start_time": "2025-03-22T14:45:16.202197Z"
    }
   },
   "cell_type": "code",
   "source": "import numpy as np",
   "id": "initial_id",
   "outputs": [],
   "execution_count": 27
  },
  {
   "metadata": {
    "ExecuteTime": {
     "end_time": "2025-03-22T14:45:16.256476Z",
     "start_time": "2025-03-22T14:45:16.253605Z"
    }
   },
   "cell_type": "code",
   "source": [
    "A = np.array([[0,1,2], [4,2,3]])\n",
    "B = np.array([[1,2,3], [4,5,6]])\n",
    "print(\"A = \\n\",A, \"\\n\")\n",
    "print(\"B = \\n\",B, \"\\n\")"
   ],
   "id": "88d4fd5d27ebc51a",
   "outputs": [
    {
     "name": "stdout",
     "output_type": "stream",
     "text": [
      "A = \n",
      " [[0 1 2]\n",
      " [4 2 3]] \n",
      "\n",
      "B = \n",
      " [[1 2 3]\n",
      " [4 5 6]] \n",
      "\n"
     ]
    }
   ],
   "execution_count": 28
  },
  {
   "metadata": {},
   "cell_type": "markdown",
   "source": "Suma del eje $y$ (vertical) de la matriz $A$",
   "id": "f046bd9df5a998f9"
  },
  {
   "metadata": {
    "ExecuteTime": {
     "end_time": "2025-03-22T14:45:16.311794Z",
     "start_time": "2025-03-22T14:45:16.309269Z"
    }
   },
   "cell_type": "code",
   "source": "print(np.sum(A, axis=0))",
   "id": "1c69a3268b531ad1",
   "outputs": [
    {
     "name": "stdout",
     "output_type": "stream",
     "text": [
      "[4 3 5]\n"
     ]
    }
   ],
   "execution_count": 29
  },
  {
   "metadata": {},
   "cell_type": "markdown",
   "source": "Suma del eje $x$ (horizontal) de la matriz $A$",
   "id": "b5c0d35417d9512d"
  },
  {
   "metadata": {
    "ExecuteTime": {
     "end_time": "2025-03-22T14:45:16.368796Z",
     "start_time": "2025-03-22T14:45:16.366496Z"
    }
   },
   "cell_type": "code",
   "source": "print(np.sum(A, axis=1))",
   "id": "e4833cc3f5f753b2",
   "outputs": [
    {
     "name": "stdout",
     "output_type": "stream",
     "text": [
      "[3 9]\n"
     ]
    }
   ],
   "execution_count": 30
  },
  {
   "metadata": {},
   "cell_type": "markdown",
   "source": "Concatenar dos matrices y obtener una sola matriz en el eje $y$ (vertical)",
   "id": "4ad38c0834091743"
  },
  {
   "metadata": {
    "ExecuteTime": {
     "end_time": "2025-03-22T14:45:16.530979Z",
     "start_time": "2025-03-22T14:45:16.527448Z"
    }
   },
   "cell_type": "code",
   "source": [
    "print(\"A = \\n\",A, \"\\n\")\n",
    "print(\"B = \\n\",B, \"\\n\")\n",
    "print(\"Matrices A y B concatenados:\\n\", np.concatenate([A,B], axis=0))"
   ],
   "id": "839d962df92959fa",
   "outputs": [
    {
     "name": "stdout",
     "output_type": "stream",
     "text": [
      "A = \n",
      " [[0 1 2]\n",
      " [4 2 3]] \n",
      "\n",
      "B = \n",
      " [[1 2 3]\n",
      " [4 5 6]] \n",
      "\n",
      "Matrices A y B concatenados:\n",
      " [[0 1 2]\n",
      " [4 2 3]\n",
      " [1 2 3]\n",
      " [4 5 6]]\n"
     ]
    }
   ],
   "execution_count": 31
  },
  {
   "metadata": {},
   "cell_type": "markdown",
   "source": "Concatenar dos matrices y obtener una sola matriz en el eje $x$ (horizontal)",
   "id": "ee0aeb77bb06317f"
  },
  {
   "metadata": {
    "ExecuteTime": {
     "end_time": "2025-03-22T14:45:16.613262Z",
     "start_time": "2025-03-22T14:45:16.609958Z"
    }
   },
   "cell_type": "code",
   "source": [
    "print(\"A = \\n\",A, \"\\n\")\n",
    "print(\"B = \\n\",B, \"\\n\")\n",
    "print(\"Matrices A y B concatenados:\\n\", np.concatenate([A,B], axis=1))"
   ],
   "id": "5ea391cb22cac92a",
   "outputs": [
    {
     "name": "stdout",
     "output_type": "stream",
     "text": [
      "A = \n",
      " [[0 1 2]\n",
      " [4 2 3]] \n",
      "\n",
      "B = \n",
      " [[1 2 3]\n",
      " [4 5 6]] \n",
      "\n",
      "Matrices A y B concatenados:\n",
      " [[0 1 2 1 2 3]\n",
      " [4 2 3 4 5 6]]\n"
     ]
    }
   ],
   "execution_count": 32
  }
 ],
 "metadata": {
  "kernelspec": {
   "display_name": "Python 3",
   "language": "python",
   "name": "python3"
  },
  "language_info": {
   "codemirror_mode": {
    "name": "ipython",
    "version": 2
   },
   "file_extension": ".py",
   "mimetype": "text/x-python",
   "name": "python",
   "nbconvert_exporter": "python",
   "pygments_lexer": "ipython2",
   "version": "2.7.6"
  }
 },
 "nbformat": 4,
 "nbformat_minor": 5
}
