{
 "cells": [
  {
   "metadata": {},
   "cell_type": "markdown",
   "source": "# Function",
   "id": "1c1c03e81a22316"
  },
  {
   "metadata": {},
   "cell_type": "markdown",
   "source": "Importar numpy e inicializar matriz",
   "id": "8b2285ab648c922e"
  },
  {
   "metadata": {
    "ExecuteTime": {
     "end_time": "2025-03-22T14:56:06.129460Z",
     "start_time": "2025-03-22T14:56:06.127247Z"
    }
   },
   "cell_type": "code",
   "source": "import numpy as np",
   "id": "82651f7f49593aa7",
   "outputs": [],
   "execution_count": 20
  },
  {
   "metadata": {
    "ExecuteTime": {
     "end_time": "2025-03-22T14:56:06.141604Z",
     "start_time": "2025-03-22T14:56:06.138469Z"
    }
   },
   "cell_type": "code",
   "source": [
    "A = np.arange(20).reshape(4,5)\n",
    "A"
   ],
   "id": "97c9442ffed1ed6d",
   "outputs": [
    {
     "data": {
      "text/plain": [
       "array([[ 0,  1,  2,  3,  4],\n",
       "       [ 5,  6,  7,  8,  9],\n",
       "       [10, 11, 12, 13, 14],\n",
       "       [15, 16, 17, 18, 19]])"
      ]
     },
     "execution_count": 21,
     "metadata": {},
     "output_type": "execute_result"
    }
   ],
   "execution_count": 21
  },
  {
   "metadata": {},
   "cell_type": "markdown",
   "source": "Forma de $n \\times m$",
   "id": "532df536144109a1"
  },
  {
   "metadata": {
    "ExecuteTime": {
     "end_time": "2025-03-22T14:56:06.221753Z",
     "start_time": "2025-03-22T14:56:06.219497Z"
    }
   },
   "cell_type": "code",
   "source": "A.shape",
   "id": "64932da6249c212e",
   "outputs": [
    {
     "data": {
      "text/plain": [
       "(4, 5)"
      ]
     },
     "execution_count": 22,
     "metadata": {},
     "output_type": "execute_result"
    }
   ],
   "execution_count": 22
  },
  {
   "metadata": {},
   "cell_type": "markdown",
   "source": "Dimensión",
   "id": "91e19adec350a677"
  },
  {
   "metadata": {
    "ExecuteTime": {
     "end_time": "2025-03-22T14:56:06.268015Z",
     "start_time": "2025-03-22T14:56:06.265088Z"
    }
   },
   "cell_type": "code",
   "source": "A.ndim",
   "id": "ffba7c13b88abcd6",
   "outputs": [
    {
     "data": {
      "text/plain": [
       "2"
      ]
     },
     "execution_count": 23,
     "metadata": {},
     "output_type": "execute_result"
    }
   ],
   "execution_count": 23
  },
  {
   "metadata": {},
   "cell_type": "markdown",
   "source": "Número de elementos $n \\times m$",
   "id": "2bb8bcf69b530b4e"
  },
  {
   "metadata": {
    "ExecuteTime": {
     "end_time": "2025-03-22T14:56:06.381452Z",
     "start_time": "2025-03-22T14:56:06.378432Z"
    }
   },
   "cell_type": "code",
   "source": "A.size",
   "id": "1490b27700b1a570",
   "outputs": [
    {
     "data": {
      "text/plain": [
       "20"
      ]
     },
     "execution_count": 24,
     "metadata": {},
     "output_type": "execute_result"
    }
   ],
   "execution_count": 24
  },
  {
   "metadata": {},
   "cell_type": "markdown",
   "source": "Obtener el máximo",
   "id": "11c3975af5128d74"
  },
  {
   "metadata": {
    "ExecuteTime": {
     "end_time": "2025-03-22T14:56:06.490586Z",
     "start_time": "2025-03-22T14:56:06.486906Z"
    }
   },
   "cell_type": "code",
   "source": "A.max()",
   "id": "af88c3b8f8629365",
   "outputs": [
    {
     "data": {
      "text/plain": [
       "19"
      ]
     },
     "execution_count": 25,
     "metadata": {},
     "output_type": "execute_result"
    }
   ],
   "execution_count": 25
  },
  {
   "metadata": {},
   "cell_type": "markdown",
   "source": "Obtener el mínimo",
   "id": "a2a3421112d277c6"
  },
  {
   "metadata": {
    "ExecuteTime": {
     "end_time": "2025-03-22T14:56:06.569871Z",
     "start_time": "2025-03-22T14:56:06.567231Z"
    }
   },
   "cell_type": "code",
   "source": "A.min()",
   "id": "7ec89a4f269e610a",
   "outputs": [
    {
     "data": {
      "text/plain": [
       "0"
      ]
     },
     "execution_count": 26,
     "metadata": {},
     "output_type": "execute_result"
    }
   ],
   "execution_count": 26
  },
  {
   "metadata": {},
   "cell_type": "markdown",
   "source": "---",
   "id": "a049b7e2a474ec75"
  },
  {
   "metadata": {},
   "cell_type": "markdown",
   "source": "Generar una matriz de ceros",
   "id": "3aad52a46773fe1"
  },
  {
   "metadata": {
    "ExecuteTime": {
     "end_time": "2025-03-22T14:56:57.332233Z",
     "start_time": "2025-03-22T14:56:57.329348Z"
    }
   },
   "cell_type": "code",
   "source": [
    "A_zero = np.zeros((3,4))\n",
    "A_zero"
   ],
   "id": "881950aa89c8a781",
   "outputs": [
    {
     "data": {
      "text/plain": [
       "array([[0., 0., 0., 0.],\n",
       "       [0., 0., 0., 0.],\n",
       "       [0., 0., 0., 0.]])"
      ]
     },
     "execution_count": 28,
     "metadata": {},
     "output_type": "execute_result"
    }
   ],
   "execution_count": 28
  },
  {
   "metadata": {},
   "cell_type": "markdown",
   "source": "**Generar una vector en un intervalo cerrado**",
   "id": "e6cdb2e48e5d1947"
  },
  {
   "metadata": {
    "ExecuteTime": {
     "end_time": "2025-03-22T14:59:41.735161Z",
     "start_time": "2025-03-22T14:59:41.732462Z"
    }
   },
   "cell_type": "code",
   "source": [
    "v = np.linspace(0, 1, 9) # (start:0, stop:1, num:9)\n",
    "print(\"v = \",v)"
   ],
   "id": "d8999b1f6f7e3c90",
   "outputs": [
    {
     "name": "stdout",
     "output_type": "stream",
     "text": [
      "v =  [0.    0.125 0.25  0.375 0.5   0.625 0.75  0.875 1.   ]\n"
     ]
    }
   ],
   "execution_count": 32
  },
  {
   "metadata": {},
   "cell_type": "markdown",
   "source": "Ordenar un arreglo",
   "id": "d457e73ec4672163"
  },
  {
   "metadata": {
    "ExecuteTime": {
     "end_time": "2025-03-22T15:01:30.108456Z",
     "start_time": "2025-03-22T15:01:30.105930Z"
    }
   },
   "cell_type": "code",
   "source": [
    "v = np.array([2,1,4,3,5])\n",
    "print(\"    : v = \",v)\n",
    "print(\"sort: v = \",np.sort(v))"
   ],
   "id": "d85deebad6a33f7a",
   "outputs": [
    {
     "name": "stdout",
     "output_type": "stream",
     "text": [
      "    : v =  [2 1 4 3 5]\n",
      "sort: v =  [1 2 3 4 5]\n"
     ]
    }
   ],
   "execution_count": 36
  }
 ],
 "metadata": {
  "kernelspec": {
   "name": "python3",
   "language": "python",
   "display_name": "Python 3 (ipykernel)"
  }
 },
 "nbformat": 5,
 "nbformat_minor": 9
}
