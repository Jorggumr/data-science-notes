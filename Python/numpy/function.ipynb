{
 "cells": [
  {
   "cell_type": "markdown",
   "id": "1c1c03e81a22316",
   "metadata": {},
   "source": [
    "# Function"
   ]
  },
  {
   "cell_type": "markdown",
   "id": "8b2285ab648c922e",
   "metadata": {},
   "source": [
    "Importar numpy e inicializar matriz"
   ]
  },
  {
   "cell_type": "code",
   "execution_count": 20,
   "id": "82651f7f49593aa7",
   "metadata": {
    "ExecuteTime": {
     "end_time": "2025-03-22T14:56:06.129460Z",
     "start_time": "2025-03-22T14:56:06.127247Z"
    }
   },
   "outputs": [],
   "source": [
    "import numpy as np"
   ]
  },
  {
   "cell_type": "code",
   "execution_count": 21,
   "id": "97c9442ffed1ed6d",
   "metadata": {
    "ExecuteTime": {
     "end_time": "2025-03-22T14:56:06.141604Z",
     "start_time": "2025-03-22T14:56:06.138469Z"
    }
   },
   "outputs": [
    {
     "data": {
      "text/plain": [
       "array([[ 0,  1,  2,  3,  4],\n",
       "       [ 5,  6,  7,  8,  9],\n",
       "       [10, 11, 12, 13, 14],\n",
       "       [15, 16, 17, 18, 19]])"
      ]
     },
     "execution_count": 21,
     "metadata": {},
     "output_type": "execute_result"
    }
   ],
   "source": [
    "A = np.arange(20).reshape(4,5)\n",
    "A"
   ]
  },
  {
   "cell_type": "markdown",
   "id": "94377ef9",
   "metadata": {},
   "source": [
    "## Métodos de numpy\n"
   ]
  },
  {
   "cell_type": "markdown",
   "id": "532df536144109a1",
   "metadata": {},
   "source": [
    "Forma de la matriz"
   ]
  },
  {
   "cell_type": "code",
   "execution_count": 22,
   "id": "64932da6249c212e",
   "metadata": {
    "ExecuteTime": {
     "end_time": "2025-03-22T14:56:06.221753Z",
     "start_time": "2025-03-22T14:56:06.219497Z"
    }
   },
   "outputs": [
    {
     "data": {
      "text/plain": [
       "(4, 5)"
      ]
     },
     "execution_count": 22,
     "metadata": {},
     "output_type": "execute_result"
    }
   ],
   "source": [
    "A.shape"
   ]
  },
  {
   "cell_type": "markdown",
   "id": "91e19adec350a677",
   "metadata": {},
   "source": [
    "Dimensión"
   ]
  },
  {
   "cell_type": "code",
   "execution_count": 23,
   "id": "ffba7c13b88abcd6",
   "metadata": {
    "ExecuteTime": {
     "end_time": "2025-03-22T14:56:06.268015Z",
     "start_time": "2025-03-22T14:56:06.265088Z"
    }
   },
   "outputs": [
    {
     "data": {
      "text/plain": [
       "2"
      ]
     },
     "execution_count": 23,
     "metadata": {},
     "output_type": "execute_result"
    }
   ],
   "source": [
    "A.ndim"
   ]
  },
  {
   "cell_type": "markdown",
   "id": "2bb8bcf69b530b4e",
   "metadata": {},
   "source": [
    "Número de elementos de la matriz"
   ]
  },
  {
   "cell_type": "code",
   "execution_count": 24,
   "id": "1490b27700b1a570",
   "metadata": {
    "ExecuteTime": {
     "end_time": "2025-03-22T14:56:06.381452Z",
     "start_time": "2025-03-22T14:56:06.378432Z"
    }
   },
   "outputs": [
    {
     "data": {
      "text/plain": [
       "20"
      ]
     },
     "execution_count": 24,
     "metadata": {},
     "output_type": "execute_result"
    }
   ],
   "source": [
    "A.size"
   ]
  },
  {
   "cell_type": "markdown",
   "id": "11c3975af5128d74",
   "metadata": {},
   "source": [
    "Obtener el máximo"
   ]
  },
  {
   "cell_type": "code",
   "execution_count": 25,
   "id": "af88c3b8f8629365",
   "metadata": {
    "ExecuteTime": {
     "end_time": "2025-03-22T14:56:06.490586Z",
     "start_time": "2025-03-22T14:56:06.486906Z"
    }
   },
   "outputs": [
    {
     "data": {
      "text/plain": [
       "19"
      ]
     },
     "execution_count": 25,
     "metadata": {},
     "output_type": "execute_result"
    }
   ],
   "source": [
    "A.max()"
   ]
  },
  {
   "cell_type": "markdown",
   "id": "a2a3421112d277c6",
   "metadata": {},
   "source": [
    "Obtener el mínimo"
   ]
  },
  {
   "cell_type": "code",
   "execution_count": 26,
   "id": "7ec89a4f269e610a",
   "metadata": {
    "ExecuteTime": {
     "end_time": "2025-03-22T14:56:06.569871Z",
     "start_time": "2025-03-22T14:56:06.567231Z"
    }
   },
   "outputs": [
    {
     "data": {
      "text/plain": [
       "0"
      ]
     },
     "execution_count": 26,
     "metadata": {},
     "output_type": "execute_result"
    }
   ],
   "source": [
    "A.min()"
   ]
  },
  {
   "cell_type": "markdown",
   "id": "a049b7e2a474ec75",
   "metadata": {},
   "source": [
    "---"
   ]
  },
  {
   "cell_type": "markdown",
   "id": "4fa9ca16",
   "metadata": {},
   "source": [
    "## Generar matriz"
   ]
  },
  {
   "cell_type": "markdown",
   "id": "3aad52a46773fe1",
   "metadata": {},
   "source": [
    "### Generar una matriz de ceros"
   ]
  },
  {
   "cell_type": "code",
   "execution_count": 28,
   "id": "881950aa89c8a781",
   "metadata": {
    "ExecuteTime": {
     "end_time": "2025-03-22T14:56:57.332233Z",
     "start_time": "2025-03-22T14:56:57.329348Z"
    }
   },
   "outputs": [
    {
     "data": {
      "text/plain": [
       "array([[0., 0., 0., 0.],\n",
       "       [0., 0., 0., 0.],\n",
       "       [0., 0., 0., 0.]])"
      ]
     },
     "execution_count": 28,
     "metadata": {},
     "output_type": "execute_result"
    }
   ],
   "source": [
    "A_zero = np.zeros((3,4))\n",
    "A_zero"
   ]
  },
  {
   "cell_type": "markdown",
   "id": "e6cdb2e48e5d1947",
   "metadata": {},
   "source": [
    "### **Generar una vector en un intervalo cerrado**"
   ]
  },
  {
   "cell_type": "code",
   "execution_count": 32,
   "id": "d8999b1f6f7e3c90",
   "metadata": {
    "ExecuteTime": {
     "end_time": "2025-03-22T14:59:41.735161Z",
     "start_time": "2025-03-22T14:59:41.732462Z"
    }
   },
   "outputs": [
    {
     "name": "stdout",
     "output_type": "stream",
     "text": [
      "v =  [0.    0.125 0.25  0.375 0.5   0.625 0.75  0.875 1.   ]\n"
     ]
    }
   ],
   "source": [
    "v = np.linspace(0, 1, 9) # (start:0, stop:1, num:9)\n",
    "print(\"v = \",v)"
   ]
  },
  {
   "cell_type": "markdown",
   "id": "d457e73ec4672163",
   "metadata": {},
   "source": [
    "## Ordenar"
   ]
  },
  {
   "cell_type": "code",
   "execution_count": 36,
   "id": "d85deebad6a33f7a",
   "metadata": {
    "ExecuteTime": {
     "end_time": "2025-03-22T15:01:30.108456Z",
     "start_time": "2025-03-22T15:01:30.105930Z"
    }
   },
   "outputs": [
    {
     "name": "stdout",
     "output_type": "stream",
     "text": [
      "    : v =  [2 1 4 3 5]\n",
      "sort: v =  [1 2 3 4 5]\n"
     ]
    }
   ],
   "source": [
    "v = np.array([2,1,4,3,5])\n",
    "print(\"    : v = \",v)\n",
    "print(\"sort: v = \",np.sort(v))"
   ]
  }
 ],
 "metadata": {
  "kernelspec": {
   "display_name": "Python 3 (ipykernel)",
   "language": "python",
   "name": "python3"
  }
 },
 "nbformat": 5,
 "nbformat_minor": 9
}
