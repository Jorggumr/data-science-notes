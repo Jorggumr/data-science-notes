{
 "cells": [
  {
   "cell_type": "markdown",
   "metadata": {},
   "source": [
    "# Statistical functions"
   ]
  },
  {
   "cell_type": "code",
   "execution_count": 2,
   "metadata": {},
   "outputs": [],
   "source": [
    "import numpy as np"
   ]
  },
  {
   "cell_type": "code",
   "execution_count": 3,
   "metadata": {},
   "outputs": [
    {
     "data": {
      "text/plain": [
       "array([[1, 2, 3],\n",
       "       [4, 5, 6],\n",
       "       [7, 8, 9]])"
      ]
     },
     "execution_count": 3,
     "metadata": {},
     "output_type": "execute_result"
    }
   ],
   "source": [
    "A = np.array([[1,2,3], [4,5,6], [7,8,9]])\n",
    "A"
   ]
  },
  {
   "cell_type": "markdown",
   "metadata": {},
   "source": [
    "Obtener el valor máximo y mínimo de la matriz $A$"
   ]
  },
  {
   "cell_type": "code",
   "execution_count": 4,
   "metadata": {},
   "outputs": [
    {
     "name": "stdout",
     "output_type": "stream",
     "text": [
      "Max:  9\n",
      "Min:  1\n",
      "Max x:  [3 6 9]\n",
      "Max y:  [7 8 9]\n"
     ]
    }
   ],
   "source": [
    "print(\"Max: \",   np.amax(A))\n",
    "print(\"Min: \",   np.amin(A))\n",
    "print(\"Max x: \", np.amax(A, 1)) # eje x\n",
    "print(\"Max y: \", np.amax(A, 0)) # eje y"
   ]
  },
  {
   "cell_type": "markdown",
   "metadata": {},
   "source": [
    "## Estadística"
   ]
  },
  {
   "cell_type": "markdown",
   "metadata": {},
   "source": [
    "Rango"
   ]
  },
  {
   "cell_type": "code",
   "execution_count": 5,
   "metadata": {},
   "outputs": [
    {
     "name": "stdout",
     "output_type": "stream",
     "text": [
      "Rango:  8\n",
      "Rango x:  [2 2 2]\n",
      "Rango y:  [6 6 6]\n"
     ]
    }
   ],
   "source": [
    "print(\"Rango: \",   np.ptp(A))\n",
    "print(\"Rango x: \", np.ptp(A, axis=1)) # eje x\n",
    "print(\"Rango y: \", np.ptp(A, axis=0)) # eje y"
   ]
  },
  {
   "cell_type": "markdown",
   "metadata": {},
   "source": [
    "Percentiles"
   ]
  },
  {
   "cell_type": "code",
   "execution_count": 6,
   "metadata": {},
   "outputs": [
    {
     "name": "stdout",
     "output_type": "stream",
     "text": [
      "Percentil 50:  5.0\n",
      "Percentil 50 x:  [2. 5. 8.]\n",
      "Percentil 50 y:  [4. 5. 6.]\n"
     ]
    }
   ],
   "source": [
    "print(\"Percentil 50: \",   np.percentile(A, 50))\n",
    "print(\"Percentil 50 x: \", np.percentile(A, 50, axis=1)) # eje x\n",
    "print(\"Percentil 50 y: \", np.percentile(A, 50, axis=0)) # eje y"
   ]
  },
  {
   "cell_type": "markdown",
   "metadata": {},
   "source": [
    "Mediana"
   ]
  },
  {
   "cell_type": "code",
   "execution_count": 7,
   "metadata": {},
   "outputs": [
    {
     "name": "stdout",
     "output_type": "stream",
     "text": [
      "Mediana:  5.0\n",
      "Mediana x:  [2. 5. 8.]\n",
      "Mediana y:  [4. 5. 6.]\n"
     ]
    }
   ],
   "source": [
    "print(\"Mediana: \",   np.median(A))\n",
    "print(\"Mediana x: \", np.median(A, axis=1)) # eje x\n",
    "print(\"Mediana y: \", np.median(A, axis=0)) # eje y"
   ]
  },
  {
   "cell_type": "markdown",
   "metadata": {},
   "source": [
    "Media"
   ]
  },
  {
   "cell_type": "code",
   "execution_count": 8,
   "metadata": {},
   "outputs": [
    {
     "name": "stdout",
     "output_type": "stream",
     "text": [
      "Media:  5.0\n",
      "Media x:  [2. 5. 8.]\n",
      "Media y:  [4. 5. 6.]\n"
     ]
    }
   ],
   "source": [
    "print(\"Media: \",   np.mean(A))\n",
    "print(\"Media x: \", np.mean(A, axis=1)) # eje x\n",
    "print(\"Media y: \", np.mean(A, axis=0)) # eje y"
   ]
  },
  {
   "cell_type": "markdown",
   "metadata": {},
   "source": [
    "Promedio ponderado"
   ]
  },
  {
   "cell_type": "code",
   "execution_count": 9,
   "metadata": {},
   "outputs": [
    {
     "name": "stdout",
     "output_type": "stream",
     "text": [
      "v1 =  [1 2 3 4 5 6]\n"
     ]
    }
   ],
   "source": [
    "v = np.array([1,2,3,4,5,6])\n",
    "print(\"v1 = \",v)"
   ]
  },
  {
   "cell_type": "code",
   "execution_count": 10,
   "metadata": {},
   "outputs": [
    {
     "name": "stdout",
     "output_type": "stream",
     "text": [
      "promedio ponderado con peso 1:  3.5\n",
      "promedio ponderado con peso [1,2,3,4,5,6]:  4.333333333333333\n"
     ]
    }
   ],
   "source": [
    "print(\"promedio ponderado con peso 1: \", np.average(v))\n",
    "print(\"promedio ponderado con peso [1,2,3,4,5,6]: \", np.average(v, weights=[1,2,3,4,5,6]))"
   ]
  },
  {
   "cell_type": "markdown",
   "metadata": {},
   "source": [
    "Varianza"
   ]
  },
  {
   "cell_type": "code",
   "execution_count": 11,
   "metadata": {},
   "outputs": [
    {
     "data": {
      "text/plain": [
       "2.9166666666666665"
      ]
     },
     "execution_count": 11,
     "metadata": {},
     "output_type": "execute_result"
    }
   ],
   "source": [
    "np.var(v)"
   ]
  },
  {
   "cell_type": "markdown",
   "metadata": {},
   "source": [
    "Desviación estándar"
   ]
  },
  {
   "cell_type": "code",
   "execution_count": 12,
   "metadata": {},
   "outputs": [
    {
     "data": {
      "text/plain": [
       "1.707825127659933"
      ]
     },
     "execution_count": 12,
     "metadata": {},
     "output_type": "execute_result"
    }
   ],
   "source": [
    "np.std(v)"
   ]
  }
 ],
 "metadata": {
  "kernelspec": {
   "display_name": "prog",
   "language": "python",
   "name": "python3"
  },
  "language_info": {
   "codemirror_mode": {
    "name": "ipython",
    "version": 3
   },
   "file_extension": ".py",
   "mimetype": "text/x-python",
   "name": "python",
   "nbconvert_exporter": "python",
   "pygments_lexer": "ipython3",
   "version": "3.12.9"
  }
 },
 "nbformat": 4,
 "nbformat_minor": 2
}
