{
 "cells": [
  {
   "metadata": {},
   "cell_type": "markdown",
   "source": "# Statical functions",
   "id": "87099a256237cfc5"
  },
  {
   "metadata": {
    "ExecuteTime": {
     "end_time": "2025-03-22T17:53:14.833948Z",
     "start_time": "2025-03-22T17:53:14.831938Z"
    }
   },
   "cell_type": "code",
   "source": "import numpy as np",
   "id": "7595a79147005813",
   "outputs": [],
   "execution_count": 41
  },
  {
   "metadata": {
    "ExecuteTime": {
     "end_time": "2025-03-22T17:53:14.883170Z",
     "start_time": "2025-03-22T17:53:14.880139Z"
    }
   },
   "cell_type": "code",
   "source": [
    "A = np.array([[1,2,3], [4,5,6], [7,8,9]])\n",
    "A"
   ],
   "id": "7f6a2799184ab094",
   "outputs": [
    {
     "data": {
      "text/plain": [
       "array([[1, 2, 3],\n",
       "       [4, 5, 6],\n",
       "       [7, 8, 9]])"
      ]
     },
     "execution_count": 42,
     "metadata": {},
     "output_type": "execute_result"
    }
   ],
   "execution_count": 42
  },
  {
   "metadata": {},
   "cell_type": "markdown",
   "source": "Obtener el valor máximo y mínimo de la matriz $A$",
   "id": "292f819e8fbe9d21"
  },
  {
   "metadata": {
    "ExecuteTime": {
     "end_time": "2025-03-22T17:53:14.954772Z",
     "start_time": "2025-03-22T17:53:14.952066Z"
    }
   },
   "cell_type": "code",
   "source": [
    "print(\"Max: \",   np.amax(A))\n",
    "print(\"Min: \",   np.amin(A))\n",
    "print(\"Max x: \", np.amax(A, 1)) # eje x\n",
    "print(\"Max y: \", np.amax(A, 0)) # eje y"
   ],
   "id": "4ec26878bf1533a4",
   "outputs": [
    {
     "name": "stdout",
     "output_type": "stream",
     "text": [
      "Max:  9\n",
      "Min:  1\n",
      "Max x:  [3 6 9]\n",
      "Max y:  [7 8 9]\n"
     ]
    }
   ],
   "execution_count": 43
  },
  {
   "metadata": {},
   "cell_type": "markdown",
   "source": "### Estadística",
   "id": "e43157f3164c4b77"
  },
  {
   "metadata": {},
   "cell_type": "markdown",
   "source": "Rango",
   "id": "bde62ae3a0b0722a"
  },
  {
   "metadata": {
    "ExecuteTime": {
     "end_time": "2025-03-22T17:53:14.999117Z",
     "start_time": "2025-03-22T17:53:14.996489Z"
    }
   },
   "cell_type": "code",
   "source": [
    "print(\"Rango: \",   np.ptp(A))\n",
    "print(\"Rango x: \", np.ptp(A, axis=1)) # eje x\n",
    "print(\"Rango y: \", np.ptp(A, axis=0)) # eje y"
   ],
   "id": "6222c432902b2b5f",
   "outputs": [
    {
     "name": "stdout",
     "output_type": "stream",
     "text": [
      "Rango:  8\n",
      "Rango x:  [2 2 2]\n",
      "Rango y:  [6 6 6]\n"
     ]
    }
   ],
   "execution_count": 44
  },
  {
   "metadata": {},
   "cell_type": "markdown",
   "source": "Percentiles",
   "id": "5dc4d9b995439676"
  },
  {
   "metadata": {
    "ExecuteTime": {
     "end_time": "2025-03-22T17:53:15.041236Z",
     "start_time": "2025-03-22T17:53:15.037989Z"
    }
   },
   "cell_type": "code",
   "source": [
    "print(\"Percentil 50: \",   np.percentile(A, 50))\n",
    "print(\"Percentil 50 x: \", np.percentile(A, 50, axis=1)) # eje x\n",
    "print(\"Percentil 50 y: \", np.percentile(A, 50, axis=0)) # eje y"
   ],
   "id": "9c2572d0bb8ada12",
   "outputs": [
    {
     "name": "stdout",
     "output_type": "stream",
     "text": [
      "Percentil 50:  5.0\n",
      "Percentil 50 x:  [2. 5. 8.]\n",
      "Percentil 50 y:  [4. 5. 6.]\n"
     ]
    }
   ],
   "execution_count": 45
  },
  {
   "metadata": {},
   "cell_type": "markdown",
   "source": "Mediana",
   "id": "db850f2cacf258e"
  },
  {
   "metadata": {
    "ExecuteTime": {
     "end_time": "2025-03-22T17:53:15.092650Z",
     "start_time": "2025-03-22T17:53:15.089318Z"
    }
   },
   "cell_type": "code",
   "source": [
    "print(\"Mediana: \",   np.median(A))\n",
    "print(\"Mediana x: \", np.median(A, axis=1)) # eje x\n",
    "print(\"Mediana y: \", np.median(A, axis=0)) # eje y"
   ],
   "id": "6062f213c5f39954",
   "outputs": [
    {
     "name": "stdout",
     "output_type": "stream",
     "text": [
      "Mediana:  5.0\n",
      "Mediana x:  [2. 5. 8.]\n",
      "Mediana y:  [4. 5. 6.]\n"
     ]
    }
   ],
   "execution_count": 46
  },
  {
   "metadata": {},
   "cell_type": "markdown",
   "source": "Media",
   "id": "be229657970822a0"
  },
  {
   "metadata": {
    "ExecuteTime": {
     "end_time": "2025-03-22T17:53:15.144424Z",
     "start_time": "2025-03-22T17:53:15.140570Z"
    }
   },
   "cell_type": "code",
   "source": [
    "print(\"Media: \",   np.mean(A))\n",
    "print(\"Media x: \", np.mean(A, axis=1)) # eje x\n",
    "print(\"Media y: \", np.mean(A, axis=0)) # eje y"
   ],
   "id": "cd27df890051678a",
   "outputs": [
    {
     "name": "stdout",
     "output_type": "stream",
     "text": [
      "Media:  5.0\n",
      "Media x:  [2. 5. 8.]\n",
      "Media y:  [4. 5. 6.]\n"
     ]
    }
   ],
   "execution_count": 47
  },
  {
   "metadata": {},
   "cell_type": "markdown",
   "source": "Promedio ponderado",
   "id": "656d5a3c3e4bb131"
  },
  {
   "metadata": {
    "ExecuteTime": {
     "end_time": "2025-03-22T17:53:15.193057Z",
     "start_time": "2025-03-22T17:53:15.190055Z"
    }
   },
   "cell_type": "code",
   "source": [
    "v = np.array([1,2,3,4,5,6])\n",
    "print(\"v1 = \",v)"
   ],
   "id": "8fe62be4994ec75d",
   "outputs": [
    {
     "name": "stdout",
     "output_type": "stream",
     "text": [
      "v1 =  [1 2 3 4 5 6]\n"
     ]
    }
   ],
   "execution_count": 48
  },
  {
   "metadata": {
    "ExecuteTime": {
     "end_time": "2025-03-22T17:53:15.371054Z",
     "start_time": "2025-03-22T17:53:15.367921Z"
    }
   },
   "cell_type": "code",
   "source": [
    "print(\"promedio ponderado con peso 1: \", np.average(v))\n",
    "print(\"promedio ponderado con peso [1,2,3,4,5,6]: \", np.average(v, weights=[1,2,3,4,5,6]))"
   ],
   "id": "450cd89c458dfec2",
   "outputs": [
    {
     "name": "stdout",
     "output_type": "stream",
     "text": [
      "promedio ponderado con peso 1:  3.5\n",
      "promedio ponderado con peso [1,2,3,4,5,6]:  4.333333333333333\n"
     ]
    }
   ],
   "execution_count": 49
  },
  {
   "metadata": {},
   "cell_type": "markdown",
   "source": "Varianza",
   "id": "82a584f6600a71a5"
  },
  {
   "metadata": {
    "ExecuteTime": {
     "end_time": "2025-03-22T17:53:15.450411Z",
     "start_time": "2025-03-22T17:53:15.447393Z"
    }
   },
   "cell_type": "code",
   "source": "np.var(v)",
   "id": "b577ca0ae1f856f5",
   "outputs": [
    {
     "data": {
      "text/plain": [
       "2.9166666666666665"
      ]
     },
     "execution_count": 50,
     "metadata": {},
     "output_type": "execute_result"
    }
   ],
   "execution_count": 50
  },
  {
   "metadata": {},
   "cell_type": "markdown",
   "source": "Desviación estándar",
   "id": "84b3c0c851c7144d"
  },
  {
   "metadata": {
    "ExecuteTime": {
     "end_time": "2025-03-22T17:53:15.519384Z",
     "start_time": "2025-03-22T17:53:15.516261Z"
    }
   },
   "cell_type": "code",
   "source": "np.std(v)",
   "id": "3ded1216c1c88fa5",
   "outputs": [
    {
     "data": {
      "text/plain": [
       "1.707825127659933"
      ]
     },
     "execution_count": 51,
     "metadata": {},
     "output_type": "execute_result"
    }
   ],
   "execution_count": 51
  }
 ],
 "metadata": {
  "kernelspec": {
   "name": "python3",
   "language": "python",
   "display_name": "Python 3 (ipykernel)"
  }
 },
 "nbformat": 5,
 "nbformat_minor": 9
}
