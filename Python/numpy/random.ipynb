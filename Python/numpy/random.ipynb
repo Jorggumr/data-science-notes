{
 "cells": [
  {
   "metadata": {},
   "cell_type": "markdown",
   "source": "# Random",
   "id": "15a93131353b3418"
  },
  {
   "metadata": {
    "ExecuteTime": {
     "end_time": "2025-03-22T17:33:29.461532Z",
     "start_time": "2025-03-22T17:33:29.459502Z"
    }
   },
   "cell_type": "code",
   "source": "import numpy as np",
   "id": "e989e865e10c5123",
   "outputs": [],
   "execution_count": 13
  },
  {
   "metadata": {},
   "cell_type": "markdown",
   "source": "Números aleatorios Enteros",
   "id": "3d92ebf727a7a34d"
  },
  {
   "metadata": {
    "ExecuteTime": {
     "end_time": "2025-03-22T17:33:29.508545Z",
     "start_time": "2025-03-22T17:33:29.505749Z"
    }
   },
   "cell_type": "code",
   "source": [
    "v = np.random.randint(10) # Intervalo de [0, 10] Enteros\n",
    "v"
   ],
   "id": "712e9adb992e9968",
   "outputs": [
    {
     "data": {
      "text/plain": [
       "9"
      ]
     },
     "execution_count": 14,
     "metadata": {},
     "output_type": "execute_result"
    }
   ],
   "execution_count": 14
  },
  {
   "metadata": {
    "ExecuteTime": {
     "end_time": "2025-03-22T17:33:29.559295Z",
     "start_time": "2025-03-22T17:33:29.556213Z"
    }
   },
   "cell_type": "code",
   "source": [
    "w = np.random.randint(1,15) # Intervalo de [1, 15] Enteros\n",
    "w"
   ],
   "id": "f55d27a397cfa801",
   "outputs": [
    {
     "data": {
      "text/plain": [
       "7"
      ]
     },
     "execution_count": 15,
     "metadata": {},
     "output_type": "execute_result"
    }
   ],
   "execution_count": 15
  },
  {
   "metadata": {
    "ExecuteTime": {
     "end_time": "2025-03-22T17:33:29.610268Z",
     "start_time": "2025-03-22T17:33:29.607087Z"
    }
   },
   "cell_type": "code",
   "source": [
    "A = np.random.randint(10, size=(3,4)) # Matriz de 3x4 con valores entre [0, 10]\n",
    "A"
   ],
   "id": "a60f86c49cb187e2",
   "outputs": [
    {
     "data": {
      "text/plain": [
       "array([[3, 6, 1, 5],\n",
       "       [2, 9, 3, 4],\n",
       "       [2, 3, 9, 3]])"
      ]
     },
     "execution_count": 16,
     "metadata": {},
     "output_type": "execute_result"
    }
   ],
   "execution_count": 16
  },
  {
   "metadata": {},
   "cell_type": "markdown",
   "source": "Números aleatorios flotantes",
   "id": "920095895fcd71fd"
  },
  {
   "metadata": {
    "ExecuteTime": {
     "end_time": "2025-03-22T17:33:29.687093Z",
     "start_time": "2025-03-22T17:33:29.684386Z"
    }
   },
   "cell_type": "code",
   "source": [
    "v = np.random.rand(5) # 5 números flotantes aleatorios entre [0, 1]\n",
    "v"
   ],
   "id": "a22ea7e2a7903f77",
   "outputs": [
    {
     "data": {
      "text/plain": [
       "array([0.40786955, 0.12340584, 0.28534329, 0.79818664, 0.99738719])"
      ]
     },
     "execution_count": 17,
     "metadata": {},
     "output_type": "execute_result"
    }
   ],
   "execution_count": 17
  },
  {
   "metadata": {
    "ExecuteTime": {
     "end_time": "2025-03-22T17:33:29.794824Z",
     "start_time": "2025-03-22T17:33:29.791890Z"
    }
   },
   "cell_type": "code",
   "source": [
    "A = np.random.rand(3,3) # Matriz de 3x3 con valores entre [0, 1]\n",
    "A"
   ],
   "id": "b53b04bbd0aa01c5",
   "outputs": [
    {
     "data": {
      "text/plain": [
       "array([[0.3474686 , 0.17575596, 0.1038248 ],\n",
       "       [0.93741304, 0.78764694, 0.77337205],\n",
       "       [0.23769086, 0.83745329, 0.98102008]])"
      ]
     },
     "execution_count": 18,
     "metadata": {},
     "output_type": "execute_result"
    }
   ],
   "execution_count": 18
  },
  {
   "metadata": {},
   "cell_type": "markdown",
   "source": "Obtener un número aleatorio",
   "id": "d046d5b51a67272d"
  },
  {
   "metadata": {
    "ExecuteTime": {
     "end_time": "2025-03-22T17:33:29.879513Z",
     "start_time": "2025-03-22T17:33:29.877012Z"
    }
   },
   "cell_type": "code",
   "source": [
    "v = np.random.choice([1,2,3,4,5,6,7,8,9,10])\n",
    "v"
   ],
   "id": "f742b67733ae0ca5",
   "outputs": [
    {
     "data": {
      "text/plain": [
       "1"
      ]
     },
     "execution_count": 19,
     "metadata": {},
     "output_type": "execute_result"
    }
   ],
   "execution_count": 19
  },
  {
   "metadata": {
    "ExecuteTime": {
     "end_time": "2025-03-22T17:33:29.983803Z",
     "start_time": "2025-03-22T17:33:29.980264Z"
    }
   },
   "cell_type": "code",
   "source": [
    "A = np.random.choice([1,2,3,4,5,6,7,8,9,10], size=(3,3)) # Matriz 3x3 con valores entre [1, 10]\n",
    "A"
   ],
   "id": "de6797ed117fa7c8",
   "outputs": [
    {
     "data": {
      "text/plain": [
       "array([[2, 5, 9],\n",
       "       [9, 2, 6],\n",
       "       [2, 4, 5]])"
      ]
     },
     "execution_count": 20,
     "metadata": {},
     "output_type": "execute_result"
    }
   ],
   "execution_count": 20
  }
 ],
 "metadata": {
  "kernelspec": {
   "name": "python3",
   "language": "python",
   "display_name": "Python 3 (ipykernel)"
  }
 },
 "nbformat": 5,
 "nbformat_minor": 9
}
