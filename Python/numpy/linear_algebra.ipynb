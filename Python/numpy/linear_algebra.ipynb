{
 "cells": [
  {
   "cell_type": "markdown",
   "metadata": {},
   "source": [
    "# Linear Algebra"
   ]
  },
  {
   "cell_type": "code",
   "execution_count": 2,
   "metadata": {},
   "outputs": [],
   "source": [
    "import numpy as np"
   ]
  },
  {
   "cell_type": "markdown",
   "metadata": {},
   "source": [
    "Matriz"
   ]
  },
  {
   "cell_type": "code",
   "execution_count": 3,
   "metadata": {},
   "outputs": [
    {
     "data": {
      "text/plain": [
       "array([[ 1, -1,  2],\n",
       "       [ 3,  2,  0]])"
      ]
     },
     "execution_count": 3,
     "metadata": {},
     "output_type": "execute_result"
    }
   ],
   "source": [
    "A = np.array([[1,-1,2], [3,2,0]])\n",
    "A"
   ]
  },
  {
   "cell_type": "markdown",
   "metadata": {},
   "source": [
    "Matriz de una sola columna"
   ]
  },
  {
   "cell_type": "code",
   "execution_count": 4,
   "metadata": {},
   "outputs": [
    {
     "data": {
      "text/plain": [
       "array([[1],\n",
       "       [2],\n",
       "       [3]])"
      ]
     },
     "execution_count": 4,
     "metadata": {},
     "output_type": "execute_result"
    }
   ],
   "source": [
    "B = np.array([[1], [2], [3]])\n",
    "B"
   ]
  },
  {
   "cell_type": "markdown",
   "metadata": {},
   "source": [
    "La transpuesta de un vector $v^T$ y una matriz $A^T$"
   ]
  },
  {
   "cell_type": "code",
   "execution_count": 5,
   "metadata": {},
   "outputs": [
    {
     "name": "stdout",
     "output_type": "stream",
     "text": [
      "v^T = \n",
      " [[1 2 3]] \n",
      "\n",
      "A^T = \n",
      " [[ 1  3]\n",
      " [-1  2]\n",
      " [ 2  0]] \n",
      "\n"
     ]
    }
   ],
   "source": [
    "print(\"v^T = \\n\", np.transpose(B),   \"\\n\")\n",
    "print(\"A^T = \\n\", np.transpose(A),   \"\\n\")"
   ]
  },
  {
   "cell_type": "markdown",
   "metadata": {},
   "source": [
    "---\n",
    "\n",
    "## Sistema de ecuaciones $Ax = b$"
   ]
  },
  {
   "cell_type": "markdown",
   "metadata": {},
   "source": [
    "E1: Resolver el siguiente sistema de ecuaciones:\n",
    "\n",
    "$$\n",
    "\\begin{aligned}\n",
    "2x + y - 2z &= -3 \\\\\n",
    "3x \\quad \\quad + z &= 5 \\\\\n",
    "x + y - z &= -2\n",
    "\\end{aligned}\n",
    "$$"
   ]
  },
  {
   "cell_type": "code",
   "execution_count": 6,
   "metadata": {},
   "outputs": [
    {
     "name": "stdout",
     "output_type": "stream",
     "text": [
      "A = \n",
      " [[ 2  1 -2]\n",
      " [ 3  0  1]\n",
      " [ 1  1 -1]] \n",
      "\n",
      "b = \n",
      " [[-3]\n",
      " [ 5]\n",
      " [-2]] \n",
      "\n"
     ]
    }
   ],
   "source": [
    "A = np.array([[2,1,-2],\n",
    "              [3,0,1],\n",
    "              [1,1,-1]])\n",
    "\n",
    "b = np.array([[-3],[5],[-2]])\n",
    "\n",
    "print(\"A = \\n\",A, \"\\n\")\n",
    "print(\"b = \\n\",b, \"\\n\")"
   ]
  },
  {
   "cell_type": "markdown",
   "metadata": {},
   "source": [
    "Solución y comprobación:"
   ]
  },
  {
   "cell_type": "code",
   "execution_count": 7,
   "metadata": {},
   "outputs": [
    {
     "name": "stdout",
     "output_type": "stream",
     "text": [
      "x = \n",
      " [[ 1.]\n",
      " [-1.]\n",
      " [ 2.]] \n",
      "\n",
      "Comprobación:  True\n"
     ]
    }
   ],
   "source": [
    "x = np.linalg.solve(A, b)\n",
    "print(\"x = \\n\",x, \"\\n\")\n",
    "print(\"Comprobación: \",np.allclose(np.dot(A,x), b))"
   ]
  },
  {
   "cell_type": "markdown",
   "metadata": {},
   "source": [
    "E2: Resolver el siguiente sistema de ecuaciones:\n",
    "\n",
    "$$\n",
    "\\begin{aligned}\n",
    "2x + 7y + 3z &= 1 \\\\\n",
    "3x + 8y + 2z &= 1 \\\\\n",
    " x + 3y + z &= 0\n",
    "\\end{aligned}\n",
    "$$"
   ]
  },
  {
   "cell_type": "code",
   "execution_count": 8,
   "metadata": {},
   "outputs": [
    {
     "name": "stdout",
     "output_type": "stream",
     "text": [
      "A = \n",
      " [[2 7 3]\n",
      " [2 8 2]\n",
      " [1 3 1]] \n",
      "\n",
      "b = \n",
      " [[1]\n",
      " [1]\n",
      " [0]] \n",
      "\n"
     ]
    }
   ],
   "source": [
    "A = np.array([[2,7,3],\n",
    "              [2,8,2],\n",
    "              [1,3,1]])\n",
    "\n",
    "b = np.array([[1],[1],[0]])\n",
    "\n",
    "print(\"A = \\n\",A, \"\\n\")\n",
    "print(\"b = \\n\",b, \"\\n\")"
   ]
  },
  {
   "cell_type": "markdown",
   "metadata": {},
   "source": [
    "Solución y comprobación"
   ]
  },
  {
   "cell_type": "code",
   "execution_count": 9,
   "metadata": {},
   "outputs": [
    {
     "name": "stdout",
     "output_type": "stream",
     "text": [
      "x = \n",
      " [[-2. ]\n",
      " [ 0.5]\n",
      " [ 0.5]] \n",
      "\n",
      "Comprobación:  True\n"
     ]
    }
   ],
   "source": [
    "x = np.linalg.solve(A, b)\n",
    "print(\"x = \\n\",x, \"\\n\")\n",
    "print(\"Comprobación: \",np.allclose(np.dot(A,x), b))"
   ]
  }
 ],
 "metadata": {
  "kernelspec": {
   "display_name": "prog",
   "language": "python",
   "name": "python3"
  },
  "language_info": {
   "codemirror_mode": {
    "name": "ipython",
    "version": 3
   },
   "file_extension": ".py",
   "mimetype": "text/x-python",
   "name": "python",
   "nbconvert_exporter": "python",
   "pygments_lexer": "ipython3",
   "version": "3.12.9"
  }
 },
 "nbformat": 4,
 "nbformat_minor": 2
}
