{
 "cells": [
  {
   "metadata": {},
   "cell_type": "markdown",
   "source": "# Linear Algebra",
   "id": "fe8cb27af1b3616a"
  },
  {
   "metadata": {
    "ExecuteTime": {
     "end_time": "2025-03-22T18:08:45.614705Z",
     "start_time": "2025-03-22T18:08:45.611956Z"
    }
   },
   "cell_type": "code",
   "source": "import numpy as np",
   "id": "f3465ce7b4c7506b",
   "outputs": [],
   "execution_count": 39
  },
  {
   "metadata": {
    "ExecuteTime": {
     "end_time": "2025-03-22T18:08:45.664318Z",
     "start_time": "2025-03-22T18:08:45.661558Z"
    }
   },
   "cell_type": "code",
   "source": [
    "A = np.array([[1,-1,2], [3,2,0]])\n",
    "A"
   ],
   "id": "f087764d6dbb3b4d",
   "outputs": [
    {
     "data": {
      "text/plain": [
       "array([[ 1, -1,  2],\n",
       "       [ 3,  2,  0]])"
      ]
     },
     "execution_count": 40,
     "metadata": {},
     "output_type": "execute_result"
    }
   ],
   "execution_count": 40
  },
  {
   "metadata": {},
   "cell_type": "markdown",
   "source": "Matriz de una sola columna",
   "id": "4eb0b7f53a22c6e9"
  },
  {
   "metadata": {
    "ExecuteTime": {
     "end_time": "2025-03-22T18:08:45.738408Z",
     "start_time": "2025-03-22T18:08:45.735893Z"
    }
   },
   "cell_type": "code",
   "source": [
    "B = np.array([[1], [2], [3]])\n",
    "B"
   ],
   "id": "4ec48cce5d7809a2",
   "outputs": [
    {
     "data": {
      "text/plain": [
       "array([[1],\n",
       "       [2],\n",
       "       [3]])"
      ]
     },
     "execution_count": 41,
     "metadata": {},
     "output_type": "execute_result"
    }
   ],
   "execution_count": 41
  },
  {
   "metadata": {},
   "cell_type": "markdown",
   "source": "La transpuesta de un vector $v^T$ y matriz $A^T$",
   "id": "4b7ecd27b07b076"
  },
  {
   "metadata": {
    "ExecuteTime": {
     "end_time": "2025-03-22T18:08:45.834669Z",
     "start_time": "2025-03-22T18:08:45.832525Z"
    }
   },
   "cell_type": "code",
   "source": [
    "print(\"v^T = \\n\", np.transpose(B),   \"\\n\")\n",
    "print(\"A^T = \\n\", np.transpose(A),   \"\\n\")"
   ],
   "id": "9c2d0b360eaf6e91",
   "outputs": [
    {
     "name": "stdout",
     "output_type": "stream",
     "text": [
      "v^T = \n",
      " [[1 2 3]] \n",
      "\n",
      "A^T = \n",
      " [[ 1  3]\n",
      " [-1  2]\n",
      " [ 2  0]] \n",
      "\n"
     ]
    }
   ],
   "execution_count": 42
  },
  {
   "metadata": {},
   "cell_type": "markdown",
   "source": [
    "---\n",
    "\n",
    "\n",
    "### Sistema de ecuaciones $Ax = b$"
   ],
   "id": "dbd375b480692aab"
  },
  {
   "metadata": {},
   "cell_type": "markdown",
   "source": [
    "E1: Resolver el siguiente sistema de ecuaciones:\n",
    "\n",
    "$$\n",
    "\\begin{aligned}\n",
    "2x + y - 2z &= -3 \\\\\n",
    "3x \\quad \\quad + z &= 5 \\\\\n",
    "x + y - z &= -2\n",
    "\\end{aligned}\n",
    "$$\n",
    "\n"
   ],
   "id": "1490cf537c06818c"
  },
  {
   "metadata": {
    "ExecuteTime": {
     "end_time": "2025-03-22T18:08:45.879965Z",
     "start_time": "2025-03-22T18:08:45.876534Z"
    }
   },
   "cell_type": "code",
   "source": [
    "A = np.array([[2,1,-2],\n",
    "              [3,0,1],\n",
    "              [1,1,-1]])\n",
    "\n",
    "b = np.array([[-3],[5],[-2]])\n",
    "\n",
    "print(\"A = \\n\",A, \"\\n\")\n",
    "print(\"b = \\n\",b, \"\\n\")"
   ],
   "id": "862ec0f1dc413d77",
   "outputs": [
    {
     "name": "stdout",
     "output_type": "stream",
     "text": [
      "A = \n",
      " [[ 2  1 -2]\n",
      " [ 3  0  1]\n",
      " [ 1  1 -1]] \n",
      "\n",
      "b = \n",
      " [[-3]\n",
      " [ 5]\n",
      " [-2]] \n",
      "\n"
     ]
    }
   ],
   "execution_count": 43
  },
  {
   "metadata": {},
   "cell_type": "markdown",
   "source": "Solución y comprobación:",
   "id": "f5e33fa549d4fc14"
  },
  {
   "metadata": {
    "ExecuteTime": {
     "end_time": "2025-03-22T18:08:45.939668Z",
     "start_time": "2025-03-22T18:08:45.936344Z"
    }
   },
   "cell_type": "code",
   "source": [
    "x = np.linalg.solve(A, b)\n",
    "print(\"x = \\n\",x, \"\\n\")\n",
    "print(\"Comprobación: \",np.allclose(np.dot(A,x), b))"
   ],
   "id": "d0016b075355a67f",
   "outputs": [
    {
     "name": "stdout",
     "output_type": "stream",
     "text": [
      "x = \n",
      " [[ 1.]\n",
      " [-1.]\n",
      " [ 2.]] \n",
      "\n",
      "Comprobación:  True\n"
     ]
    }
   ],
   "execution_count": 44
  },
  {
   "metadata": {},
   "cell_type": "markdown",
   "source": [
    "E2: Resolver el siguiente sistema de ecuaciones:\n",
    "\n",
    "\n",
    "$$\n",
    "\\begin{aligned}\n",
    "2x + 7y + 3z &= 1 \\\\\n",
    "3x + 8y + 2z &= 1 \\\\\n",
    " x + 3y + z &= 0\n",
    "\\end{aligned}\n",
    "$$"
   ],
   "id": "bb53934482638ce2"
  },
  {
   "metadata": {
    "ExecuteTime": {
     "end_time": "2025-03-22T18:08:45.986385Z",
     "start_time": "2025-03-22T18:08:45.983851Z"
    }
   },
   "cell_type": "code",
   "source": [
    "A = np.array([[2,7,3],\n",
    "              [2,8,2],\n",
    "              [1,3,1]])\n",
    "\n",
    "b = np.array([[1],[1],[0]])\n",
    "\n",
    "print(\"A = \\n\",A, \"\\n\")\n",
    "print(\"b = \\n\",b, \"\\n\")"
   ],
   "id": "fe6298fa7931dff4",
   "outputs": [
    {
     "name": "stdout",
     "output_type": "stream",
     "text": [
      "A = \n",
      " [[2 7 3]\n",
      " [2 8 2]\n",
      " [1 3 1]] \n",
      "\n",
      "b = \n",
      " [[1]\n",
      " [1]\n",
      " [0]] \n",
      "\n"
     ]
    }
   ],
   "execution_count": 45
  },
  {
   "metadata": {},
   "cell_type": "markdown",
   "source": "Solución y comprobación",
   "id": "607af9330b77fead"
  },
  {
   "metadata": {
    "ExecuteTime": {
     "end_time": "2025-03-22T18:08:46.047359Z",
     "start_time": "2025-03-22T18:08:46.039846Z"
    }
   },
   "cell_type": "code",
   "source": [
    "x = np.linalg.solve(A, b)\n",
    "print(\"x = \\n\",x, \"\\n\")\n",
    "print(\"Comprobación: \",np.allclose(np.dot(A,x), b))"
   ],
   "id": "445bf508f19a051c",
   "outputs": [
    {
     "name": "stdout",
     "output_type": "stream",
     "text": [
      "x = \n",
      " [[-2. ]\n",
      " [ 0.5]\n",
      " [ 0.5]] \n",
      "\n",
      "Comprobación:  True\n"
     ]
    }
   ],
   "execution_count": 46
  }
 ],
 "metadata": {
  "kernelspec": {
   "name": "python3",
   "language": "python",
   "display_name": "Python 3 (ipykernel)"
  }
 },
 "nbformat": 5,
 "nbformat_minor": 9
}
