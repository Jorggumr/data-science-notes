{
 "cells": [
  {
   "metadata": {},
   "cell_type": "markdown",
   "source": "# Array",
   "id": "dc9fffa485ca4adf"
  },
  {
   "metadata": {},
   "cell_type": "markdown",
   "source": "Importar Librerias",
   "id": "e82ec6fd164008d2"
  },
  {
   "metadata": {
    "collapsed": true,
    "ExecuteTime": {
     "end_time": "2025-03-22T14:31:17.218112Z",
     "start_time": "2025-03-22T14:31:17.216024Z"
    }
   },
   "cell_type": "code",
   "source": [
    "import array as arr\n",
    "import numpy as np"
   ],
   "id": "initial_id",
   "outputs": [],
   "execution_count": 29
  },
  {
   "metadata": {},
   "cell_type": "markdown",
   "source": "Vector usando la libreria \"array\"",
   "id": "6a6e7121a02ea024"
  },
  {
   "metadata": {
    "ExecuteTime": {
     "end_time": "2025-03-22T14:31:17.264610Z",
     "start_time": "2025-03-22T14:31:17.262056Z"
    }
   },
   "cell_type": "code",
   "source": [
    "vector = arr.array('i', [1, 2, 3, 4, 5, 6, 7, 8, 9, 10])\n",
    "for arr in vector:\n",
    "    print(arr, end=' ')"
   ],
   "id": "b0f3e1d49f03e3dd",
   "outputs": [
    {
     "name": "stdout",
     "output_type": "stream",
     "text": [
      "1 2 3 4 5 6 7 8 9 10 "
     ]
    }
   ],
   "execution_count": 30
  },
  {
   "metadata": {},
   "cell_type": "markdown",
   "source": "Vectores usando numpy",
   "id": "a94a378df47795c3"
  },
  {
   "metadata": {
    "ExecuteTime": {
     "end_time": "2025-03-22T14:31:17.313840Z",
     "start_time": "2025-03-22T14:31:17.311079Z"
    }
   },
   "cell_type": "code",
   "source": [
    "v1  = np.array([1,2,3,4,5])\n",
    "v2  = np.array([6,7,8,9,10])\n",
    "print(\"v1 = \",v1)\n",
    "print(\"v2 = \",v2)"
   ],
   "id": "9390e54ece826fe",
   "outputs": [
    {
     "name": "stdout",
     "output_type": "stream",
     "text": [
      "v1 =  [1 2 3 4 5]\n",
      "v2 =  [ 6  7  8  9 10]\n"
     ]
    }
   ],
   "execution_count": 31
  },
  {
   "metadata": {},
   "cell_type": "markdown",
   "source": "Suma de dos vectores",
   "id": "350971f0af4c206c"
  },
  {
   "metadata": {
    "ExecuteTime": {
     "end_time": "2025-03-22T14:31:17.362157Z",
     "start_time": "2025-03-22T14:31:17.359592Z"
    }
   },
   "cell_type": "code",
   "source": "print(\"v1 + v2 = \",v1 + v2)",
   "id": "685479eff1f466e7",
   "outputs": [
    {
     "name": "stdout",
     "output_type": "stream",
     "text": [
      "v1 + v2 =  [ 7  9 11 13 15]\n"
     ]
    }
   ],
   "execution_count": 32
  },
  {
   "metadata": {},
   "cell_type": "markdown",
   "source": "---",
   "id": "125be08327e07639"
  },
  {
   "metadata": {},
   "cell_type": "markdown",
   "source": "De Listas a matrix/array",
   "id": "3681971b87a18227"
  },
  {
   "metadata": {
    "ExecuteTime": {
     "end_time": "2025-03-22T14:31:17.410299Z",
     "start_time": "2025-03-22T14:31:17.406977Z"
    }
   },
   "cell_type": "code",
   "source": [
    "lista = [[1,2,3],[4,5,6],[7,8,9]]\n",
    "matriz = np.array(lista)\n",
    "matriz"
   ],
   "id": "a9a4219f4f68c485",
   "outputs": [
    {
     "data": {
      "text/plain": [
       "array([[1, 2, 3],\n",
       "       [4, 5, 6],\n",
       "       [7, 8, 9]])"
      ]
     },
     "execution_count": 33,
     "metadata": {},
     "output_type": "execute_result"
    }
   ],
   "execution_count": 33
  },
  {
   "metadata": {},
   "cell_type": "markdown",
   "source": [
    "Generar una matriz de $dim 2$ (Matriz)\n",
    "\n",
    "\n",
    "$$\n",
    "\\text{Sea } A = (a_{ij}) \\in \\mathbb{R}^{n \\times m},\n",
    "\\quad \\text{  con } a_{ij} \\in \\mathbb{R},\n",
    "\\quad \\text{ donde } n=3, m=5.\n",
    "$$"
   ],
   "id": "4a971f714982601e"
  },
  {
   "metadata": {
    "ExecuteTime": {
     "end_time": "2025-03-22T14:32:24.045141Z",
     "start_time": "2025-03-22T14:32:24.041714Z"
    }
   },
   "cell_type": "code",
   "source": [
    "n = 3\n",
    "m = 5\n",
    "A = np.arange(15).reshape(n,m)\n",
    "A"
   ],
   "id": "9b72b34062844c08",
   "outputs": [
    {
     "data": {
      "text/plain": [
       "array([[ 0,  1,  2,  3,  4],\n",
       "       [ 5,  6,  7,  8,  9],\n",
       "       [10, 11, 12, 13, 14]])"
      ]
     },
     "execution_count": 36,
     "metadata": {},
     "output_type": "execute_result"
    }
   ],
   "execution_count": 36
  },
  {
   "metadata": {},
   "cell_type": "markdown",
   "source": [
    "Generar un arreglo de $dim 3$ (Tensor de dimensión 3), donde $n=3$, $m=4$, $p=2$\n",
    "\n",
    "$$\n",
    "\\text{Sea }T = (t_{ijk}) \\in \\mathbb{R}^{n \\times m \\times p},\n",
    "\\quad \\text{  con } t_{ijk} \\in \\mathbb{R},\n",
    "\\quad \\text{ donde } n=3, m=5, p=2.\n",
    "$$"
   ],
   "id": "35c636f75bd8b360"
  },
  {
   "metadata": {
    "ExecuteTime": {
     "end_time": "2025-03-22T14:31:17.550949Z",
     "start_time": "2025-03-22T14:31:17.548574Z"
    }
   },
   "cell_type": "code",
   "source": [
    "n = 3\n",
    "m = 4\n",
    "p = 2\n",
    "T = np.arange(24).reshape(p,n,m)\n",
    "print(T)"
   ],
   "id": "c61335f8fce31a34",
   "outputs": [
    {
     "name": "stdout",
     "output_type": "stream",
     "text": [
      "[[[ 0  1  2  3]\n",
      "  [ 4  5  6  7]\n",
      "  [ 8  9 10 11]]\n",
      "\n",
      " [[12 13 14 15]\n",
      "  [16 17 18 19]\n",
      "  [20 21 22 23]]]\n"
     ]
    }
   ],
   "execution_count": 35
  }
 ],
 "metadata": {
  "kernelspec": {
   "display_name": "Python 3",
   "language": "python",
   "name": "python3"
  },
  "language_info": {
   "codemirror_mode": {
    "name": "ipython",
    "version": 2
   },
   "file_extension": ".py",
   "mimetype": "text/x-python",
   "name": "python",
   "nbconvert_exporter": "python",
   "pygments_lexer": "ipython2",
   "version": "2.7.6"
  }
 },
 "nbformat": 4,
 "nbformat_minor": 5
}
