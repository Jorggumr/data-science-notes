{
 "cells": [
  {
   "cell_type": "markdown",
   "metadata": {},
   "source": [
    "# OOP (Oriented Object Programming) in R\n",
    "\n",
    "R no es un lenguaje puramente orientado a objetos, ofrece varios sistemas para trabajar con este paradigma."
   ]
  },
  {
   "cell_type": "markdown",
   "metadata": {},
   "source": [
    "## S3\n",
    "\n",
    "Es el sistema de objetos más simple y flexible en R. En S3, los objetos son simplemente listas con un atributo especial llamado `class`.\n",
    "Los métodos se definen como funciones que operan en objetos de una clase específica."
   ]
  },
  {
   "cell_type": "code",
   "execution_count": null,
   "metadata": {
    "vscode": {
     "languageId": "r"
    }
   },
   "outputs": [],
   "source": [
    "# Crear un objeto S3\n",
    "obj <- list(name = \"Objeto S3\", value = 42)\n",
    "class(obj) <- \"myclass\""
   ]
  },
  {
   "cell_type": "code",
   "execution_count": null,
   "metadata": {
    "vscode": {
     "languageId": "r"
    }
   },
   "outputs": [],
   "source": [
    "# Definir un método para la clase\n",
    "print.myclass <- function(x) {\n",
    "  cat(\"Este es un objeto de clase 'myclass':\\n\")\n",
    "  print(x$name)\n",
    "}"
   ]
  },
  {
   "cell_type": "code",
   "execution_count": null,
   "metadata": {
    "vscode": {
     "languageId": "r"
    }
   },
   "outputs": [
    {
     "data": {
      "text/plain": [
       "Este es un objeto de clase 'myclass':\n",
       "[1] \"Objeto S3\""
      ]
     },
     "metadata": {},
     "output_type": "display_data"
    }
   ],
   "source": [
    "obj"
   ]
  },
  {
   "cell_type": "markdown",
   "metadata": {},
   "source": [
    "## S4\n",
    "S4 es un sistema más formal y riguroso que S3. Permite definir clases y métodos de manera más estructurada, incluyendo la definición de slots (atributos) y validaciones. Las clases se definen con la función `setClass()` y los métodos con `setMethod()`."
   ]
  },
  {
   "cell_type": "code",
   "execution_count": null,
   "metadata": {
    "vscode": {
     "languageId": "r"
    }
   },
   "outputs": [],
   "source": [
    "# Definir una clase S4\n",
    "setClass(\"Person\",\n",
    "         slots = list(name = \"character\", age = \"numeric\"))"
   ]
  },
  {
   "cell_type": "code",
   "execution_count": null,
   "metadata": {
    "vscode": {
     "languageId": "r"
    }
   },
   "outputs": [],
   "source": [
    "# Crear una instancia de la clase\n",
    "person <- new(\"Person\", name = \"Juan\", age = 30)"
   ]
  },
  {
   "cell_type": "code",
   "execution_count": null,
   "metadata": {
    "vscode": {
     "languageId": "r"
    }
   },
   "outputs": [],
   "source": [
    "# Definir un método para la clase\n",
    "setMethod(\"show\", \"Person\", function(object) {\n",
    "    cat(\"Nombre:\", object@name, \"\\n\")\n",
    "    cat(\"Edad:\", object@age, \"\\n\")\n",
    "})"
   ]
  },
  {
   "cell_type": "code",
   "execution_count": null,
   "metadata": {
    "vscode": {
     "languageId": "r"
    }
   },
   "outputs": [
    {
     "data": {
      "text/plain": [
       "Nombre: Juan \n",
       "Edad: 30 "
      ]
     },
     "metadata": {},
     "output_type": "display_data"
    }
   ],
   "source": [
    "person"
   ]
  },
  {
   "cell_type": "markdown",
   "metadata": {},
   "source": [
    "## R6\n",
    "Es un sistema más moderno y similar a la programación orientada a objetos en otros lenguajes como Python. Permite crear clases con métodos y atributos, y soporta la herencia. Las clases se definen con `R6Class()`.\n",
    "\n",
    "Se necesita el paquete `R6` para trabajar con este sistema."
   ]
  },
  {
   "cell_type": "code",
   "execution_count": 9,
   "metadata": {
    "vscode": {
     "languageId": "r"
    }
   },
   "outputs": [],
   "source": [
    "library(R6)"
   ]
  },
  {
   "cell_type": "code",
   "execution_count": 10,
   "metadata": {
    "vscode": {
     "languageId": "r"
    }
   },
   "outputs": [],
   "source": [
    "# Definir una clase R6\n",
    "Person <- R6Class(\"Person\",\n",
    "                  public = list(\n",
    "                      name = NULL,\n",
    "                      age = NULL,\n",
    "                      initialize = function(name, age) {\n",
    "                          self$name <- name\n",
    "                          self$age <- age\n",
    "                      },\n",
    "                      greet = function() {\n",
    "                          cat(\"Hola, mi nombre es\", self$name, \"y tengo\", self$age, \"años.\\n\")\n",
    "                      }\n",
    "                  ))"
   ]
  },
  {
   "cell_type": "code",
   "execution_count": 11,
   "metadata": {
    "vscode": {
     "languageId": "r"
    }
   },
   "outputs": [],
   "source": [
    "# Crear una instancia de la clase\n",
    "person <- Person$new(name = \"Ana\", age = 25)"
   ]
  },
  {
   "cell_type": "code",
   "execution_count": 12,
   "metadata": {
    "vscode": {
     "languageId": "r"
    }
   },
   "outputs": [
    {
     "name": "stdout",
     "output_type": "stream",
     "text": [
      "Hola, mi nombre es Ana y tengo 25 años.\n"
     ]
    }
   ],
   "source": [
    "person$greet()"
   ]
  }
 ],
 "metadata": {
  "kernelspec": {
   "display_name": "R",
   "language": "R",
   "name": "ir"
  },
  "language_info": {
   "codemirror_mode": "r",
   "file_extension": ".r",
   "mimetype": "text/x-r-source",
   "name": "R",
   "pygments_lexer": "r",
   "version": "4.3.1"
  }
 },
 "nbformat": 4,
 "nbformat_minor": 2
}
