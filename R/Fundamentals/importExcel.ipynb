{
 "cells": [
  {
   "cell_type": "markdown",
   "metadata": {},
   "source": [
    "# Leer Excel en R"
   ]
  },
  {
   "cell_type": "code",
   "execution_count": null,
   "metadata": {
    "vscode": {
     "languageId": "r"
    }
   },
   "outputs": [],
   "source": [
    "install.packages(\"readxl\") # instalar el paquete readxl"
   ]
  },
  {
   "cell_type": "code",
   "execution_count": 3,
   "metadata": {
    "vscode": {
     "languageId": "r"
    }
   },
   "outputs": [],
   "source": [
    "library(readxl) # cargar el paquete readxl"
   ]
  },
  {
   "cell_type": "markdown",
   "metadata": {},
   "source": [
    "## Leer archivo Excel"
   ]
  },
  {
   "cell_type": "code",
   "execution_count": 4,
   "metadata": {
    "vscode": {
     "languageId": "r"
    }
   },
   "outputs": [
    {
     "data": {
      "text/html": [
       "<table class=\"dataframe\">\n",
       "<caption>A tibble: 6 × 3</caption>\n",
       "<thead>\n",
       "\t<tr><th scope=col>country</th><th scope=col>population</th><th scope=col>year</th></tr>\n",
       "\t<tr><th scope=col>&lt;chr&gt;</th><th scope=col>&lt;dbl&gt;</th><th scope=col>&lt;dbl&gt;</th></tr>\n",
       "</thead>\n",
       "<tbody>\n",
       "\t<tr><td>Argentina</td><td>900</td><td>2008</td></tr>\n",
       "\t<tr><td>Brasil   </td><td>500</td><td>2009</td></tr>\n",
       "\t<tr><td>Colombia </td><td>350</td><td>2008</td></tr>\n",
       "\t<tr><td>Ecuador  </td><td>500</td><td>2009</td></tr>\n",
       "\t<tr><td>Mexico   </td><td>500</td><td>2008</td></tr>\n",
       "\t<tr><td>Uruguay  </td><td>200</td><td>2009</td></tr>\n",
       "</tbody>\n",
       "</table>\n"
      ],
      "text/latex": [
       "A tibble: 6 × 3\n",
       "\\begin{tabular}{lll}\n",
       " country & population & year\\\\\n",
       " <chr> & <dbl> & <dbl>\\\\\n",
       "\\hline\n",
       "\t Argentina & 900 & 2008\\\\\n",
       "\t Brasil    & 500 & 2009\\\\\n",
       "\t Colombia  & 350 & 2008\\\\\n",
       "\t Ecuador   & 500 & 2009\\\\\n",
       "\t Mexico    & 500 & 2008\\\\\n",
       "\t Uruguay   & 200 & 2009\\\\\n",
       "\\end{tabular}\n"
      ],
      "text/markdown": [
       "\n",
       "A tibble: 6 × 3\n",
       "\n",
       "| country &lt;chr&gt; | population &lt;dbl&gt; | year &lt;dbl&gt; |\n",
       "|---|---|---|\n",
       "| Argentina | 900 | 2008 |\n",
       "| Brasil    | 500 | 2009 |\n",
       "| Colombia  | 350 | 2008 |\n",
       "| Ecuador   | 500 | 2009 |\n",
       "| Mexico    | 500 | 2008 |\n",
       "| Uruguay   | 200 | 2009 |\n",
       "\n"
      ],
      "text/plain": [
       "  country   population year\n",
       "1 Argentina 900        2008\n",
       "2 Brasil    500        2009\n",
       "3 Colombia  350        2008\n",
       "4 Ecuador   500        2009\n",
       "5 Mexico    500        2008\n",
       "6 Uruguay   200        2009"
      ]
     },
     "metadata": {},
     "output_type": "display_data"
    }
   ],
   "source": [
    "path <- \"data/data.xlsx\" # ruta del archivo\n",
    "data <- read_excel(path) # leer el archivo\n",
    "data"
   ]
  },
  {
   "cell_type": "code",
   "execution_count": 5,
   "metadata": {
    "vscode": {
     "languageId": "r"
    }
   },
   "outputs": [
    {
     "data": {
      "text/html": [
       "<style>\n",
       ".list-inline {list-style: none; margin:0; padding: 0}\n",
       ".list-inline>li {display: inline-block}\n",
       ".list-inline>li:not(:last-child)::after {content: \"\\00b7\"; padding: 0 .5ex}\n",
       "</style>\n",
       "<ol class=list-inline><li>'Sheet1'</li><li>'Sheet2'</li></ol>\n"
      ],
      "text/latex": [
       "\\begin{enumerate*}\n",
       "\\item 'Sheet1'\n",
       "\\item 'Sheet2'\n",
       "\\end{enumerate*}\n"
      ],
      "text/markdown": [
       "1. 'Sheet1'\n",
       "2. 'Sheet2'\n",
       "\n",
       "\n"
      ],
      "text/plain": [
       "[1] \"Sheet1\" \"Sheet2\""
      ]
     },
     "metadata": {},
     "output_type": "display_data"
    }
   ],
   "source": [
    "# mostrar las hojas del archivo\n",
    "excel_sheets(path)"
   ]
  },
  {
   "cell_type": "code",
   "execution_count": 6,
   "metadata": {
    "vscode": {
     "languageId": "r"
    }
   },
   "outputs": [
    {
     "data": {
      "text/html": [
       "<table class=\"dataframe\">\n",
       "<caption>A tibble: 4 × 3</caption>\n",
       "<thead>\n",
       "\t<tr><th scope=col>Variable</th><th scope=col>Clase</th><th scope=col>Descripción</th></tr>\n",
       "\t<tr><th scope=col>&lt;chr&gt;</th><th scope=col>&lt;chr&gt;</th><th scope=col>&lt;chr&gt;</th></tr>\n",
       "</thead>\n",
       "<tbody>\n",
       "\t<tr><td>pais               </td><td>caracter</td><td>País afectado                         </td></tr>\n",
       "\t<tr><td>casos              </td><td>entero  </td><td>Número de casos a la fecha            </td></tr>\n",
       "\t<tr><td>muertes            </td><td>entero  </td><td>Número de muertes a la fecha          </td></tr>\n",
       "\t<tr><td>fecha_actualizacion</td><td>fecha   </td><td>Fecha de la actualización de los datos</td></tr>\n",
       "</tbody>\n",
       "</table>\n"
      ],
      "text/latex": [
       "A tibble: 4 × 3\n",
       "\\begin{tabular}{lll}\n",
       " Variable & Clase & Descripción\\\\\n",
       " <chr> & <chr> & <chr>\\\\\n",
       "\\hline\n",
       "\t pais                & caracter & País afectado                         \\\\\n",
       "\t casos               & entero   & Número de casos a la fecha            \\\\\n",
       "\t muertes             & entero   & Número de muertes a la fecha          \\\\\n",
       "\t fecha\\_actualizacion & fecha    & Fecha de la actualización de los datos\\\\\n",
       "\\end{tabular}\n"
      ],
      "text/markdown": [
       "\n",
       "A tibble: 4 × 3\n",
       "\n",
       "| Variable &lt;chr&gt; | Clase &lt;chr&gt; | Descripción &lt;chr&gt; |\n",
       "|---|---|---|\n",
       "| pais                | caracter | País afectado                          |\n",
       "| casos               | entero   | Número de casos a la fecha             |\n",
       "| muertes             | entero   | Número de muertes a la fecha           |\n",
       "| fecha_actualizacion | fecha    | Fecha de la actualización de los datos |\n",
       "\n"
      ],
      "text/plain": [
       "  Variable            Clase    Descripción                           \n",
       "1 pais                caracter País afectado                         \n",
       "2 casos               entero   Número de casos a la fecha            \n",
       "3 muertes             entero   Número de muertes a la fecha          \n",
       "4 fecha_actualizacion fecha    Fecha de la actualización de los datos"
      ]
     },
     "metadata": {},
     "output_type": "display_data"
    }
   ],
   "source": [
    "# Importar una hoja específica\n",
    "data <- read_excel(path, sheet = \"Sheet2\") # leer la hoja 1\n",
    "data"
   ]
  },
  {
   "cell_type": "code",
   "execution_count": 7,
   "metadata": {
    "vscode": {
     "languageId": "r"
    }
   },
   "outputs": [
    {
     "data": {
      "text/html": [
       "<table class=\"dataframe\">\n",
       "<caption>A tibble: 2 × 2</caption>\n",
       "<thead>\n",
       "\t<tr><th scope=col>Variable</th><th scope=col>Clase</th></tr>\n",
       "\t<tr><th scope=col>&lt;chr&gt;</th><th scope=col>&lt;chr&gt;</th></tr>\n",
       "</thead>\n",
       "<tbody>\n",
       "\t<tr><td>pais </td><td>caracter</td></tr>\n",
       "\t<tr><td>casos</td><td>entero  </td></tr>\n",
       "</tbody>\n",
       "</table>\n"
      ],
      "text/latex": [
       "A tibble: 2 × 2\n",
       "\\begin{tabular}{ll}\n",
       " Variable & Clase\\\\\n",
       " <chr> & <chr>\\\\\n",
       "\\hline\n",
       "\t pais  & caracter\\\\\n",
       "\t casos & entero  \\\\\n",
       "\\end{tabular}\n"
      ],
      "text/markdown": [
       "\n",
       "A tibble: 2 × 2\n",
       "\n",
       "| Variable &lt;chr&gt; | Clase &lt;chr&gt; |\n",
       "|---|---|\n",
       "| pais  | caracter |\n",
       "| casos | entero   |\n",
       "\n"
      ],
      "text/plain": [
       "  Variable Clase   \n",
       "1 pais     caracter\n",
       "2 casos    entero  "
      ]
     },
     "metadata": {},
     "output_type": "display_data"
    }
   ],
   "source": [
    "# Importar una hoja específica y celdas específicas\n",
    "data <- read_excel(path, sheet = \"Sheet2\", range = \"A1:B3\") # leer la hoja 1\n",
    "data"
   ]
  },
  {
   "cell_type": "code",
   "execution_count": 9,
   "metadata": {
    "vscode": {
     "languageId": "r"
    }
   },
   "outputs": [
    {
     "data": {
      "text/html": [
       "<table class=\"dataframe\">\n",
       "<caption>A data.frame: 6 × 3</caption>\n",
       "<thead>\n",
       "\t<tr><th scope=col>country</th><th scope=col>population</th><th scope=col>year</th></tr>\n",
       "\t<tr><th scope=col>&lt;chr&gt;</th><th scope=col>&lt;dbl&gt;</th><th scope=col>&lt;dbl&gt;</th></tr>\n",
       "</thead>\n",
       "<tbody>\n",
       "\t<tr><td>Argentina</td><td>900</td><td>2008</td></tr>\n",
       "\t<tr><td>Brasil   </td><td>500</td><td>2009</td></tr>\n",
       "\t<tr><td>Colombia </td><td>350</td><td>2008</td></tr>\n",
       "\t<tr><td>Ecuador  </td><td>500</td><td>2009</td></tr>\n",
       "\t<tr><td>Mexico   </td><td>500</td><td>2008</td></tr>\n",
       "\t<tr><td>Uruguay  </td><td>200</td><td>2009</td></tr>\n",
       "</tbody>\n",
       "</table>\n"
      ],
      "text/latex": [
       "A data.frame: 6 × 3\n",
       "\\begin{tabular}{lll}\n",
       " country & population & year\\\\\n",
       " <chr> & <dbl> & <dbl>\\\\\n",
       "\\hline\n",
       "\t Argentina & 900 & 2008\\\\\n",
       "\t Brasil    & 500 & 2009\\\\\n",
       "\t Colombia  & 350 & 2008\\\\\n",
       "\t Ecuador   & 500 & 2009\\\\\n",
       "\t Mexico    & 500 & 2008\\\\\n",
       "\t Uruguay   & 200 & 2009\\\\\n",
       "\\end{tabular}\n"
      ],
      "text/markdown": [
       "\n",
       "A data.frame: 6 × 3\n",
       "\n",
       "| country &lt;chr&gt; | population &lt;dbl&gt; | year &lt;dbl&gt; |\n",
       "|---|---|---|\n",
       "| Argentina | 900 | 2008 |\n",
       "| Brasil    | 500 | 2009 |\n",
       "| Colombia  | 350 | 2008 |\n",
       "| Ecuador   | 500 | 2009 |\n",
       "| Mexico    | 500 | 2008 |\n",
       "| Uruguay   | 200 | 2009 |\n",
       "\n"
      ],
      "text/plain": [
       "  country   population year\n",
       "1 Argentina 900        2008\n",
       "2 Brasil    500        2009\n",
       "3 Colombia  350        2008\n",
       "4 Ecuador   500        2009\n",
       "5 Mexico    500        2008\n",
       "6 Uruguay   200        2009"
      ]
     },
     "metadata": {},
     "output_type": "display_data"
    }
   ],
   "source": [
    "# convertir a dataframe\n",
    "data <- read_excel(path)\n",
    "data_df <- as.data.frame(data)\n",
    "data_df"
   ]
  }
 ],
 "metadata": {
  "kernelspec": {
   "display_name": "R",
   "language": "R",
   "name": "ir"
  },
  "language_info": {
   "codemirror_mode": "r",
   "file_extension": ".r",
   "mimetype": "text/x-r-source",
   "name": "R",
   "pygments_lexer": "r",
   "version": "4.3.1"
  }
 },
 "nbformat": 4,
 "nbformat_minor": 2
}
