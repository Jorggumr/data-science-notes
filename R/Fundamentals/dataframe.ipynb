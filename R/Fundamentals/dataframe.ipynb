{
 "cells": [
  {
   "cell_type": "markdown",
   "metadata": {},
   "source": [
    "# dataframe\n",
    "\n",
    "Un dataframe es una estructura de datos similar a una tabla en R.\n",
    "\n",
    "Es una lista de vectores de igual longitud"
   ]
  },
  {
   "cell_type": "code",
   "execution_count": 1,
   "metadata": {
    "vscode": {
     "languageId": "r"
    }
   },
   "outputs": [
    {
     "data": {
      "text/html": [
       "<table class=\"dataframe\">\n",
       "<caption>A data.frame: 4 × 4</caption>\n",
       "<thead>\n",
       "\t<tr><th scope=col>name</th><th scope=col>age</th><th scope=col>height</th><th scope=col>weight</th></tr>\n",
       "\t<tr><th scope=col>&lt;chr&gt;</th><th scope=col>&lt;dbl&gt;</th><th scope=col>&lt;dbl&gt;</th><th scope=col>&lt;dbl&gt;</th></tr>\n",
       "</thead>\n",
       "<tbody>\n",
       "\t<tr><td>John</td><td>23</td><td>180</td><td>75</td></tr>\n",
       "\t<tr><td>Jane</td><td>25</td><td>170</td><td>65</td></tr>\n",
       "\t<tr><td>Jim </td><td>22</td><td>175</td><td>70</td></tr>\n",
       "\t<tr><td>Jill</td><td>24</td><td>160</td><td>55</td></tr>\n",
       "</tbody>\n",
       "</table>\n"
      ],
      "text/latex": [
       "A data.frame: 4 × 4\n",
       "\\begin{tabular}{llll}\n",
       " name & age & height & weight\\\\\n",
       " <chr> & <dbl> & <dbl> & <dbl>\\\\\n",
       "\\hline\n",
       "\t John & 23 & 180 & 75\\\\\n",
       "\t Jane & 25 & 170 & 65\\\\\n",
       "\t Jim  & 22 & 175 & 70\\\\\n",
       "\t Jill & 24 & 160 & 55\\\\\n",
       "\\end{tabular}\n"
      ],
      "text/markdown": [
       "\n",
       "A data.frame: 4 × 4\n",
       "\n",
       "| name &lt;chr&gt; | age &lt;dbl&gt; | height &lt;dbl&gt; | weight &lt;dbl&gt; |\n",
       "|---|---|---|---|\n",
       "| John | 23 | 180 | 75 |\n",
       "| Jane | 25 | 170 | 65 |\n",
       "| Jim  | 22 | 175 | 70 |\n",
       "| Jill | 24 | 160 | 55 |\n",
       "\n"
      ],
      "text/plain": [
       "  name age height weight\n",
       "1 John 23  180    75    \n",
       "2 Jane 25  170    65    \n",
       "3 Jim  22  175    70    \n",
       "4 Jill 24  160    55    "
      ]
     },
     "metadata": {},
     "output_type": "display_data"
    }
   ],
   "source": [
    "df <- data.frame(\n",
    "  name = c(\"John\", \"Jane\", \"Jim\", \"Jill\"),\n",
    "  age = c(23, 25, 22, 24),\n",
    "  height = c(180, 170, 175, 160),\n",
    "  weight = c(75, 65, 70, 55)\n",
    ")\n",
    "df"
   ]
  },
  {
   "cell_type": "markdown",
   "metadata": {},
   "source": [
    "## Cambiar nombre de columnas"
   ]
  },
  {
   "cell_type": "code",
   "execution_count": 2,
   "metadata": {
    "vscode": {
     "languageId": "r"
    }
   },
   "outputs": [
    {
     "data": {
      "text/html": [
       "<table class=\"dataframe\">\n",
       "<caption>A data.frame: 4 × 4</caption>\n",
       "<thead>\n",
       "\t<tr><th scope=col>NAME</th><th scope=col>AGE</th><th scope=col>HEIGHT</th><th scope=col>WEIGHT</th></tr>\n",
       "\t<tr><th scope=col>&lt;chr&gt;</th><th scope=col>&lt;dbl&gt;</th><th scope=col>&lt;dbl&gt;</th><th scope=col>&lt;dbl&gt;</th></tr>\n",
       "</thead>\n",
       "<tbody>\n",
       "\t<tr><td>John</td><td>23</td><td>180</td><td>75</td></tr>\n",
       "\t<tr><td>Jane</td><td>25</td><td>170</td><td>65</td></tr>\n",
       "\t<tr><td>Jim </td><td>22</td><td>175</td><td>70</td></tr>\n",
       "\t<tr><td>Jill</td><td>24</td><td>160</td><td>55</td></tr>\n",
       "</tbody>\n",
       "</table>\n"
      ],
      "text/latex": [
       "A data.frame: 4 × 4\n",
       "\\begin{tabular}{llll}\n",
       " NAME & AGE & HEIGHT & WEIGHT\\\\\n",
       " <chr> & <dbl> & <dbl> & <dbl>\\\\\n",
       "\\hline\n",
       "\t John & 23 & 180 & 75\\\\\n",
       "\t Jane & 25 & 170 & 65\\\\\n",
       "\t Jim  & 22 & 175 & 70\\\\\n",
       "\t Jill & 24 & 160 & 55\\\\\n",
       "\\end{tabular}\n"
      ],
      "text/markdown": [
       "\n",
       "A data.frame: 4 × 4\n",
       "\n",
       "| NAME &lt;chr&gt; | AGE &lt;dbl&gt; | HEIGHT &lt;dbl&gt; | WEIGHT &lt;dbl&gt; |\n",
       "|---|---|---|---|\n",
       "| John | 23 | 180 | 75 |\n",
       "| Jane | 25 | 170 | 65 |\n",
       "| Jim  | 22 | 175 | 70 |\n",
       "| Jill | 24 | 160 | 55 |\n",
       "\n"
      ],
      "text/plain": [
       "  NAME AGE HEIGHT WEIGHT\n",
       "1 John 23  180    75    \n",
       "2 Jane 25  170    65    \n",
       "3 Jim  22  175    70    \n",
       "4 Jill 24  160    55    "
      ]
     },
     "metadata": {},
     "output_type": "display_data"
    }
   ],
   "source": [
    "colnames(df) <- c(\"NAME\",\n",
    "                  \"AGE\",\n",
    "                  \"HEIGHT\",\n",
    "                  \"WEIGHT\")\n",
    "df"
   ]
  },
  {
   "cell_type": "markdown",
   "metadata": {},
   "source": [
    "## Acceder a los elementos"
   ]
  },
  {
   "cell_type": "code",
   "execution_count": 12,
   "metadata": {
    "vscode": {
     "languageId": "r"
    }
   },
   "outputs": [
    {
     "data": {
      "text/html": [
       "23"
      ],
      "text/latex": [
       "23"
      ],
      "text/markdown": [
       "23"
      ],
      "text/plain": [
       "[1] 23"
      ]
     },
     "metadata": {},
     "output_type": "display_data"
    }
   ],
   "source": [
    "# Elemento en la fila 1, columna 2\n",
    "df[1, 2]"
   ]
  },
  {
   "cell_type": "code",
   "execution_count": 13,
   "metadata": {
    "vscode": {
     "languageId": "r"
    }
   },
   "outputs": [
    {
     "data": {
      "text/html": [
       "23"
      ],
      "text/latex": [
       "23"
      ],
      "text/markdown": [
       "23"
      ],
      "text/plain": [
       "[1] 23"
      ]
     },
     "metadata": {},
     "output_type": "display_data"
    }
   ],
   "source": [
    "# Acceder al elemento en la fila 1 de la columna \"AGE\"\n",
    "df[1, \"AGE\"]"
   ]
  },
  {
   "cell_type": "code",
   "execution_count": 14,
   "metadata": {
    "vscode": {
     "languageId": "r"
    }
   },
   "outputs": [
    {
     "data": {
      "text/html": [
       "<table class=\"dataframe\">\n",
       "<caption>A data.frame: 2 × 2</caption>\n",
       "<thead>\n",
       "\t<tr><th></th><th scope=col>AGE</th><th scope=col>HEIGHT</th></tr>\n",
       "\t<tr><th></th><th scope=col>&lt;dbl&gt;</th><th scope=col>&lt;dbl&gt;</th></tr>\n",
       "</thead>\n",
       "<tbody>\n",
       "\t<tr><th scope=row>1</th><td>23</td><td>180</td></tr>\n",
       "\t<tr><th scope=row>2</th><td>25</td><td>170</td></tr>\n",
       "</tbody>\n",
       "</table>\n"
      ],
      "text/latex": [
       "A data.frame: 2 × 2\n",
       "\\begin{tabular}{r|ll}\n",
       "  & AGE & HEIGHT\\\\\n",
       "  & <dbl> & <dbl>\\\\\n",
       "\\hline\n",
       "\t1 & 23 & 180\\\\\n",
       "\t2 & 25 & 170\\\\\n",
       "\\end{tabular}\n"
      ],
      "text/markdown": [
       "\n",
       "A data.frame: 2 × 2\n",
       "\n",
       "| <!--/--> | AGE &lt;dbl&gt; | HEIGHT &lt;dbl&gt; |\n",
       "|---|---|---|\n",
       "| 1 | 23 | 180 |\n",
       "| 2 | 25 | 170 |\n",
       "\n"
      ],
      "text/plain": [
       "  AGE HEIGHT\n",
       "1 23  180   \n",
       "2 25  170   "
      ]
     },
     "metadata": {},
     "output_type": "display_data"
    }
   ],
   "source": [
    "# Acceder a las filas 1 y 2, y a las columnas \"AGE\" y \"HEIGHT\"\n",
    "df[1:2, c(\"AGE\", \"HEIGHT\")]"
   ]
  },
  {
   "cell_type": "code",
   "execution_count": 15,
   "metadata": {
    "vscode": {
     "languageId": "r"
    }
   },
   "outputs": [
    {
     "data": {
      "text/html": [
       "<table class=\"dataframe\">\n",
       "<caption>A data.frame: 2 × 2</caption>\n",
       "<thead>\n",
       "\t<tr><th></th><th scope=col>AGE</th><th scope=col>HEIGHT</th></tr>\n",
       "\t<tr><th></th><th scope=col>&lt;dbl&gt;</th><th scope=col>&lt;dbl&gt;</th></tr>\n",
       "</thead>\n",
       "<tbody>\n",
       "\t<tr><th scope=row>1</th><td>23</td><td>180</td></tr>\n",
       "\t<tr><th scope=row>3</th><td>22</td><td>175</td></tr>\n",
       "</tbody>\n",
       "</table>\n"
      ],
      "text/latex": [
       "A data.frame: 2 × 2\n",
       "\\begin{tabular}{r|ll}\n",
       "  & AGE & HEIGHT\\\\\n",
       "  & <dbl> & <dbl>\\\\\n",
       "\\hline\n",
       "\t1 & 23 & 180\\\\\n",
       "\t3 & 22 & 175\\\\\n",
       "\\end{tabular}\n"
      ],
      "text/markdown": [
       "\n",
       "A data.frame: 2 × 2\n",
       "\n",
       "| <!--/--> | AGE &lt;dbl&gt; | HEIGHT &lt;dbl&gt; |\n",
       "|---|---|---|\n",
       "| 1 | 23 | 180 |\n",
       "| 3 | 22 | 175 |\n",
       "\n"
      ],
      "text/plain": [
       "  AGE HEIGHT\n",
       "1 23  180   \n",
       "3 22  175   "
      ]
     },
     "metadata": {},
     "output_type": "display_data"
    }
   ],
   "source": [
    "# Acceder a las filas 1 y 3, y a las columnas \"AGE\" y \"HEIGHT\"\n",
    "df[c(1, 3), c(\"AGE\", \"HEIGHT\")]"
   ]
  },
  {
   "cell_type": "code",
   "execution_count": 16,
   "metadata": {
    "vscode": {
     "languageId": "r"
    }
   },
   "outputs": [
    {
     "data": {
      "text/html": [
       "<style>\n",
       ".list-inline {list-style: none; margin:0; padding: 0}\n",
       ".list-inline>li {display: inline-block}\n",
       ".list-inline>li:not(:last-child)::after {content: \"\\00b7\"; padding: 0 .5ex}\n",
       "</style>\n",
       "<ol class=list-inline><li>23</li><li>25</li><li>22</li><li>24</li></ol>\n"
      ],
      "text/latex": [
       "\\begin{enumerate*}\n",
       "\\item 23\n",
       "\\item 25\n",
       "\\item 22\n",
       "\\item 24\n",
       "\\end{enumerate*}\n"
      ],
      "text/markdown": [
       "1. 23\n",
       "2. 25\n",
       "3. 22\n",
       "4. 24\n",
       "\n",
       "\n"
      ],
      "text/plain": [
       "[1] 23 25 22 24"
      ]
     },
     "metadata": {},
     "output_type": "display_data"
    }
   ],
   "source": [
    "# Acceder a toda la columna \"AGE\"\n",
    "df$AGE"
   ]
  },
  {
   "cell_type": "markdown",
   "metadata": {},
   "source": [
    "# Ordenar el dataframe por una columna\n",
    "\n",
    "Pasos:\n",
    "\n",
    "- 1. Guardar los Indices ordenados ```[ indices <- order(dataframe$colummn) ]```\n",
    "- 2. Seleccionar el dataframe con los indices ordenados ```[ dataframe[indices,] ]```"
   ]
  },
  {
   "cell_type": "code",
   "execution_count": 19,
   "metadata": {
    "vscode": {
     "languageId": "r"
    }
   },
   "outputs": [
    {
     "data": {
      "text/html": [
       "<table class=\"dataframe\">\n",
       "<caption>A data.frame: 4 × 4</caption>\n",
       "<thead>\n",
       "\t<tr><th></th><th scope=col>NAME</th><th scope=col>AGE</th><th scope=col>HEIGHT</th><th scope=col>WEIGHT</th></tr>\n",
       "\t<tr><th></th><th scope=col>&lt;chr&gt;</th><th scope=col>&lt;dbl&gt;</th><th scope=col>&lt;dbl&gt;</th><th scope=col>&lt;dbl&gt;</th></tr>\n",
       "</thead>\n",
       "<tbody>\n",
       "\t<tr><th scope=row>2</th><td>Jane</td><td>25</td><td>170</td><td>65</td></tr>\n",
       "\t<tr><th scope=row>4</th><td>Jill</td><td>24</td><td>160</td><td>55</td></tr>\n",
       "\t<tr><th scope=row>1</th><td>John</td><td>23</td><td>180</td><td>75</td></tr>\n",
       "\t<tr><th scope=row>3</th><td>Jim </td><td>22</td><td>175</td><td>70</td></tr>\n",
       "</tbody>\n",
       "</table>\n"
      ],
      "text/latex": [
       "A data.frame: 4 × 4\n",
       "\\begin{tabular}{r|llll}\n",
       "  & NAME & AGE & HEIGHT & WEIGHT\\\\\n",
       "  & <chr> & <dbl> & <dbl> & <dbl>\\\\\n",
       "\\hline\n",
       "\t2 & Jane & 25 & 170 & 65\\\\\n",
       "\t4 & Jill & 24 & 160 & 55\\\\\n",
       "\t1 & John & 23 & 180 & 75\\\\\n",
       "\t3 & Jim  & 22 & 175 & 70\\\\\n",
       "\\end{tabular}\n"
      ],
      "text/markdown": [
       "\n",
       "A data.frame: 4 × 4\n",
       "\n",
       "| <!--/--> | NAME &lt;chr&gt; | AGE &lt;dbl&gt; | HEIGHT &lt;dbl&gt; | WEIGHT &lt;dbl&gt; |\n",
       "|---|---|---|---|---|\n",
       "| 2 | Jane | 25 | 170 | 65 |\n",
       "| 4 | Jill | 24 | 160 | 55 |\n",
       "| 1 | John | 23 | 180 | 75 |\n",
       "| 3 | Jim  | 22 | 175 | 70 |\n",
       "\n"
      ],
      "text/plain": [
       "  NAME AGE HEIGHT WEIGHT\n",
       "2 Jane 25  170    65    \n",
       "4 Jill 24  160    55    \n",
       "1 John 23  180    75    \n",
       "3 Jim  22  175    70    "
      ]
     },
     "metadata": {},
     "output_type": "display_data"
    }
   ],
   "source": [
    "# ordenar de forma descendente (Mayor a menor)\n",
    "desc <- order(df$AGE, decreasing = TRUE)\n",
    "df[desc, ]"
   ]
  },
  {
   "cell_type": "code",
   "execution_count": 20,
   "metadata": {
    "vscode": {
     "languageId": "r"
    }
   },
   "outputs": [
    {
     "data": {
      "text/html": [
       "<table class=\"dataframe\">\n",
       "<caption>A data.frame: 4 × 4</caption>\n",
       "<thead>\n",
       "\t<tr><th></th><th scope=col>NAME</th><th scope=col>AGE</th><th scope=col>HEIGHT</th><th scope=col>WEIGHT</th></tr>\n",
       "\t<tr><th></th><th scope=col>&lt;chr&gt;</th><th scope=col>&lt;dbl&gt;</th><th scope=col>&lt;dbl&gt;</th><th scope=col>&lt;dbl&gt;</th></tr>\n",
       "</thead>\n",
       "<tbody>\n",
       "\t<tr><th scope=row>3</th><td>Jim </td><td>22</td><td>175</td><td>70</td></tr>\n",
       "\t<tr><th scope=row>1</th><td>John</td><td>23</td><td>180</td><td>75</td></tr>\n",
       "\t<tr><th scope=row>4</th><td>Jill</td><td>24</td><td>160</td><td>55</td></tr>\n",
       "\t<tr><th scope=row>2</th><td>Jane</td><td>25</td><td>170</td><td>65</td></tr>\n",
       "</tbody>\n",
       "</table>\n"
      ],
      "text/latex": [
       "A data.frame: 4 × 4\n",
       "\\begin{tabular}{r|llll}\n",
       "  & NAME & AGE & HEIGHT & WEIGHT\\\\\n",
       "  & <chr> & <dbl> & <dbl> & <dbl>\\\\\n",
       "\\hline\n",
       "\t3 & Jim  & 22 & 175 & 70\\\\\n",
       "\t1 & John & 23 & 180 & 75\\\\\n",
       "\t4 & Jill & 24 & 160 & 55\\\\\n",
       "\t2 & Jane & 25 & 170 & 65\\\\\n",
       "\\end{tabular}\n"
      ],
      "text/markdown": [
       "\n",
       "A data.frame: 4 × 4\n",
       "\n",
       "| <!--/--> | NAME &lt;chr&gt; | AGE &lt;dbl&gt; | HEIGHT &lt;dbl&gt; | WEIGHT &lt;dbl&gt; |\n",
       "|---|---|---|---|---|\n",
       "| 3 | Jim  | 22 | 175 | 70 |\n",
       "| 1 | John | 23 | 180 | 75 |\n",
       "| 4 | Jill | 24 | 160 | 55 |\n",
       "| 2 | Jane | 25 | 170 | 65 |\n",
       "\n"
      ],
      "text/plain": [
       "  NAME AGE HEIGHT WEIGHT\n",
       "3 Jim  22  175    70    \n",
       "1 John 23  180    75    \n",
       "4 Jill 24  160    55    \n",
       "2 Jane 25  170    65    "
      ]
     },
     "metadata": {},
     "output_type": "display_data"
    }
   ],
   "source": [
    "# ordenar de forma ascendente (Menor a mayor)\n",
    "asc <- order(df$AGE, decreasing = FALSE)\n",
    "df[asc, ]"
   ]
  }
 ],
 "metadata": {
  "kernelspec": {
   "display_name": "R",
   "language": "R",
   "name": "ir"
  },
  "language_info": {
   "codemirror_mode": "r",
   "file_extension": ".r",
   "mimetype": "text/x-r-source",
   "name": "R",
   "pygments_lexer": "r",
   "version": "4.3.1"
  }
 },
 "nbformat": 4,
 "nbformat_minor": 2
}
