{
 "cells": [
  {
   "cell_type": "markdown",
   "metadata": {},
   "source": [
    "# Fundamentals Concepts of R\n",
    "\n",
    "El lenguaje de programación R es de tipado dinámico, es utilizado principalmente para el análisis estadístico, visualización de datos, etc. "
   ]
  },
  {
   "cell_type": "markdown",
   "metadata": {},
   "source": [
    "## Packages"
   ]
  },
  {
   "cell_type": "code",
   "execution_count": null,
   "metadata": {
    "vscode": {
     "languageId": "r"
    }
   },
   "outputs": [],
   "source": [
    "install.packages(\"ggplot2\") # install ggplot2 (R console)"
   ]
  },
  {
   "cell_type": "code",
   "execution_count": null,
   "metadata": {
    "vscode": {
     "languageId": "r"
    }
   },
   "outputs": [],
   "source": [
    "library(ggplot2) # load ggplot2"
   ]
  },
  {
   "cell_type": "markdown",
   "metadata": {},
   "source": [
    "Lista de paquetes útiles:\n",
    "Para manipular datos:\n",
    "- DBI (bases de datos relacionales)\n",
    "- XLConnect, xlsx (para trabajar con archivos de excel)\n",
    "- dplyr (transformación de datos)\n",
    "- tidyr (datos tidy)\n",
    "- data.table (para manipulación de muchos datos)\n",
    "\n",
    "Para visualizar datos:\n",
    "- ggplot2\n",
    "- gganimate (gráficas animadas)\n",
    "- leaflet (mapas)\n",
    "- shiny (gráficas y reportes interactivos)\n",
    "\n",
    "Otros:\n",
    "- xts (para series temporales)\n",
    "- devtools (hacer paquetes en R)\n",
    "- survival (análisis de supervivencia)\n",
    "- caret (modelos de regresión y clasificación)\n",
    "- TDA (análisis topológico de datos)\n",
    "- Rcpp (Incorpora C++ a R)"
   ]
  },
  {
   "cell_type": "markdown",
   "metadata": {},
   "source": [
    "## Constantes"
   ]
  },
  {
   "cell_type": "markdown",
   "metadata": {},
   "source": [
    "En R, no existe un concepto formal sobre las constantes, pero se pueden simular utilizando la convención de nombrar variables en mayúsculas."
   ]
  },
  {
   "cell_type": "code",
   "execution_count": 18,
   "metadata": {
    "vscode": {
     "languageId": "r"
    }
   },
   "outputs": [
    {
     "data": {
      "text/html": [
       "3.14159"
      ],
      "text/latex": [
       "3.14159"
      ],
      "text/markdown": [
       "3.14159"
      ],
      "text/plain": [
       "[1] 3.14159"
      ]
     },
     "metadata": {},
     "output_type": "display_data"
    }
   ],
   "source": [
    "PI <- 3.14159 # nolint\n",
    "PI"
   ]
  },
  {
   "cell_type": "markdown",
   "metadata": {},
   "source": [
    "También se puede crear un entorno para constantes.\n",
    "\n",
    "Entornos para almacenar valores que no deberían ser modificados."
   ]
  },
  {
   "cell_type": "code",
   "execution_count": 19,
   "metadata": {
    "vscode": {
     "languageId": "r"
    }
   },
   "outputs": [
    {
     "data": {
      "text/html": [
       "3.14159"
      ],
      "text/latex": [
       "3.14159"
      ],
      "text/markdown": [
       "3.14159"
      ],
      "text/plain": [
       "[1] 3.14159"
      ]
     },
     "metadata": {},
     "output_type": "display_data"
    }
   ],
   "source": [
    "constantes <- new.env()\n",
    "constantes$PI <- 3.14159\n",
    "constantes$PI"
   ]
  },
  {
   "cell_type": "markdown",
   "metadata": {},
   "source": [
    "## Variables"
   ]
  },
  {
   "cell_type": "code",
   "execution_count": 1,
   "metadata": {
    "vscode": {
     "languageId": "r"
    }
   },
   "outputs": [
    {
     "data": {
      "text/html": [
       "5"
      ],
      "text/latex": [
       "5"
      ],
      "text/markdown": [
       "5"
      ],
      "text/plain": [
       "[1] 5"
      ]
     },
     "metadata": {},
     "output_type": "display_data"
    }
   ],
   "source": [
    "# Asignación de variables\n",
    "x <- 5 # Usando \"<-\" o \"=\"\n",
    "x"
   ]
  },
  {
   "cell_type": "markdown",
   "metadata": {},
   "source": [
    "### Tipos de datos"
   ]
  },
  {
   "cell_type": "code",
   "execution_count": 20,
   "metadata": {
    "vscode": {
     "languageId": "r"
    }
   },
   "outputs": [
    {
     "data": {
      "text/html": [
       "'numeric'"
      ],
      "text/latex": [
       "'numeric'"
      ],
      "text/markdown": [
       "'numeric'"
      ],
      "text/plain": [
       "[1] \"numeric\""
      ]
     },
     "metadata": {},
     "output_type": "display_data"
    },
    {
     "data": {
      "text/html": [
       "'integer'"
      ],
      "text/latex": [
       "'integer'"
      ],
      "text/markdown": [
       "'integer'"
      ],
      "text/plain": [
       "[1] \"integer\""
      ]
     },
     "metadata": {},
     "output_type": "display_data"
    },
    {
     "data": {
      "text/html": [
       "'character'"
      ],
      "text/latex": [
       "'character'"
      ],
      "text/markdown": [
       "'character'"
      ],
      "text/plain": [
       "[1] \"character\""
      ]
     },
     "metadata": {},
     "output_type": "display_data"
    },
    {
     "data": {
      "text/html": [
       "'logical'"
      ],
      "text/latex": [
       "'logical'"
      ],
      "text/markdown": [
       "'logical'"
      ],
      "text/plain": [
       "[1] \"logical\""
      ]
     },
     "metadata": {},
     "output_type": "display_data"
    },
    {
     "data": {
      "text/html": [
       "'complex'"
      ],
      "text/latex": [
       "'complex'"
      ],
      "text/markdown": [
       "'complex'"
      ],
      "text/plain": [
       "[1] \"complex\""
      ]
     },
     "metadata": {},
     "output_type": "display_data"
    },
    {
     "data": {
      "text/html": [
       "'Date'"
      ],
      "text/latex": [
       "'Date'"
      ],
      "text/markdown": [
       "'Date'"
      ],
      "text/plain": [
       "[1] \"Date\""
      ]
     },
     "metadata": {},
     "output_type": "display_data"
    }
   ],
   "source": [
    "# Diferentes tipos de datos\n",
    "numero <- 25.5\n",
    "entero <- 10L\n",
    "texto <- \"R es genial\"\n",
    "logico <- TRUE\n",
    "complejo <- 1 + 2i\n",
    "fecha <- as.Date(\"2025-04-12\")\n",
    "\n",
    "# Imprimir tipos de datos\n",
    "class(numero)       # \"numeric\"\n",
    "class(entero)       # \"integer\"\n",
    "class(texto)        # \"character\"\n",
    "class(logico)       # \"logical\"\n",
    "class(complejo)     # \"complex\"\n",
    "class(fecha)        # \"Date\""
   ]
  },
  {
   "cell_type": "markdown",
   "metadata": {},
   "source": [
    "## Operadores\n"
   ]
  },
  {
   "cell_type": "markdown",
   "metadata": {},
   "source": [
    "### Operadores aritméticos:"
   ]
  },
  {
   "cell_type": "markdown",
   "metadata": {},
   "source": [
    "| Operación          | Operador   |\n",
    "|--------------------|------------|\n",
    "| Suma               | +          |\n",
    "| Resta              | -          |\n",
    "| Multiplicación     | *          |\n",
    "| División           | /          |\n",
    "| Potencia           | ^ or **    |\n",
    "| Módulo             | %%         |\n",
    "| División entera    | %/%        |"
   ]
  },
  {
   "cell_type": "markdown",
   "metadata": {},
   "source": [
    "### Operadores lógicos:"
   ]
  },
  {
   "cell_type": "markdown",
   "metadata": {},
   "source": [
    "| Operación | Operador |\n",
    "|-----------|----------|\n",
    "| AND       | &        |\n",
    "| OR        | \\|\\|     |\n",
    "| NOT       | !        |"
   ]
  },
  {
   "cell_type": "markdown",
   "metadata": {},
   "source": [
    "### Operadores de comparación:"
   ]
  },
  {
   "cell_type": "markdown",
   "metadata": {},
   "source": [
    "| Operación          | Operador   |\n",
    "|--------------------|------------|\n",
    "| Igual a            | ==         |\n",
    "| Diferente de       | !=         |\n",
    "| Mayor que          | >          |\n",
    "| Menor que          | <          |\n",
    "| Mayor o igual que  | >=         |\n",
    "| Menor o igual que  | <=         |"
   ]
  },
  {
   "cell_type": "markdown",
   "metadata": {},
   "source": [
    "## Condicionales\n",
    "\n",
    "```R\n",
    "if (condición) {\n",
    "  # block code\n",
    "} else if (otra_condición) {\n",
    "  # block code\n",
    "} else {\n",
    "  # block code\n",
    "}\n",
    "```\n",
    "\n"
   ]
  },
  {
   "cell_type": "code",
   "execution_count": 14,
   "metadata": {
    "vscode": {
     "languageId": "r"
    }
   },
   "outputs": [
    {
     "name": "stdout",
     "output_type": "stream",
     "text": [
      "[1] \"x es positivo\"\n"
     ]
    }
   ],
   "source": [
    "x <- 10\n",
    "\n",
    "if (x > 0) {\n",
    "  print(\"x es positivo\")\n",
    "} else if (x == 0) {\n",
    "  print(\"x es cero\")\n",
    "} else {\n",
    "  print(\"x es negativo\")\n",
    "}"
   ]
  },
  {
   "cell_type": "markdown",
   "metadata": {},
   "source": [
    "## Bucles"
   ]
  },
  {
   "cell_type": "markdown",
   "metadata": {},
   "source": [
    "### For\n",
    "\n",
    "```R\n",
    "for (variable in secuencia) {\n",
    "  # block code\n",
    "}\n",
    "```"
   ]
  },
  {
   "cell_type": "code",
   "execution_count": 7,
   "metadata": {
    "vscode": {
     "languageId": "r"
    }
   },
   "outputs": [
    {
     "name": "stdout",
     "output_type": "stream",
     "text": [
      "[1] \"i:  1\"\n",
      "[1] \"i:  2\"\n",
      "[1] \"i:  3\"\n",
      "[1] \"i:  4\"\n",
      "[1] \"i:  5\"\n"
     ]
    }
   ],
   "source": [
    "# for\n",
    "for (i in 1:5) {\n",
    "  print(paste(\"i: \", i))\n",
    "}"
   ]
  },
  {
   "cell_type": "markdown",
   "metadata": {},
   "source": [
    "### While\n",
    "\n",
    "```R\n",
    "while (condición) {\n",
    "  # block code\n",
    "}\n",
    "```"
   ]
  },
  {
   "cell_type": "code",
   "execution_count": 8,
   "metadata": {
    "vscode": {
     "languageId": "r"
    }
   },
   "outputs": [
    {
     "name": "stdout",
     "output_type": "stream",
     "text": [
      "[1] \"Contador: 1\"\n",
      "[1] \"Contador: 2\"\n",
      "[1] \"Contador: 3\"\n",
      "[1] \"Contador: 4\"\n",
      "[1] \"Contador: 5\"\n"
     ]
    }
   ],
   "source": [
    "contador <- 1\n",
    "while (contador <= 5) {\n",
    "  print(paste(\"Contador:\", contador))\n",
    "  contador <- contador + 1\n",
    "}"
   ]
  },
  {
   "cell_type": "markdown",
   "metadata": {},
   "source": [
    "### Repeat\n",
    "\n",
    "```R\n",
    "repeat {\n",
    "  # block code\n",
    "  if (condición) {\n",
    "    break\n",
    "  }\n",
    "}\n",
    "```"
   ]
  },
  {
   "cell_type": "code",
   "execution_count": 9,
   "metadata": {
    "vscode": {
     "languageId": "r"
    }
   },
   "outputs": [
    {
     "name": "stdout",
     "output_type": "stream",
     "text": [
      "[1] \"Contador: 1\"\n",
      "[1] \"Contador: 2\"\n",
      "[1] \"Contador: 3\"\n",
      "[1] \"Contador: 4\"\n",
      "[1] \"Contador: 5\"\n"
     ]
    }
   ],
   "source": [
    "contador <- 1\n",
    "repeat {\n",
    "  print(paste(\"Contador:\", contador))\n",
    "  contador <- contador + 1\n",
    "  if (contador > 5) {\n",
    "    break\n",
    "  }\n",
    "}"
   ]
  }
 ],
 "metadata": {
  "kernelspec": {
   "display_name": "R",
   "language": "R",
   "name": "ir"
  },
  "language_info": {
   "codemirror_mode": "r",
   "file_extension": ".r",
   "mimetype": "text/x-r-source",
   "name": "R",
   "pygments_lexer": "r",
   "version": "4.3.1"
  }
 },
 "nbformat": 4,
 "nbformat_minor": 2
}
