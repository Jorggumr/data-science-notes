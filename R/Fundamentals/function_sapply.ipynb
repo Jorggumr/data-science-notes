{
 "cells": [
  {
   "cell_type": "markdown",
   "metadata": {},
   "source": [
    "# function & sapply"
   ]
  },
  {
   "cell_type": "markdown",
   "metadata": {},
   "source": [
    "## function\n",
    "\n",
    "En R las funciones se definen utilizando la palabra clave `function`.\n",
    "\n",
    "```R\n",
    "my_function <- function(param1, param2, ...) {\n",
    "  # block code\n",
    "  return(x)\n",
    "}\n",
    "```\n",
    "\n",
    "El valor de retorno, si no se especifica, es el valor de la última expresión evaluada dentro de la función."
   ]
  },
  {
   "cell_type": "code",
   "execution_count": 2,
   "metadata": {
    "vscode": {
     "languageId": "r"
    }
   },
   "outputs": [
    {
     "data": {
      "text/html": [
       "8"
      ],
      "text/latex": [
       "8"
      ],
      "text/markdown": [
       "8"
      ],
      "text/plain": [
       "[1] 8"
      ]
     },
     "metadata": {},
     "output_type": "display_data"
    }
   ],
   "source": [
    "suma <- function(a, b) {\n",
    "  resultado <- a + b\n",
    "  return(resultado)\n",
    "}\n",
    "suma(3, 5)"
   ]
  },
  {
   "cell_type": "code",
   "execution_count": 3,
   "metadata": {
    "vscode": {
     "languageId": "r"
    }
   },
   "outputs": [
    {
     "data": {
      "text/html": [
       "'Hola, Mundo'"
      ],
      "text/latex": [
       "'Hola, Mundo'"
      ],
      "text/markdown": [
       "'Hola, Mundo'"
      ],
      "text/plain": [
       "[1] \"Hola, Mundo\""
      ]
     },
     "metadata": {},
     "output_type": "display_data"
    },
    {
     "data": {
      "text/html": [
       "'Hola, Jhon'"
      ],
      "text/latex": [
       "'Hola, Jhon'"
      ],
      "text/markdown": [
       "'Hola, Jhon'"
      ],
      "text/plain": [
       "[1] \"Hola, Jhon\""
      ]
     },
     "metadata": {},
     "output_type": "display_data"
    }
   ],
   "source": [
    "saludar <- function(nombre = \"Mundo\") {\n",
    "  mensaje <- paste(\"Hola,\", nombre)\n",
    "  return(mensaje)\n",
    "}\n",
    "saludar()\n",
    "saludar(\"Jhon\")"
   ]
  },
  {
   "cell_type": "markdown",
   "metadata": {},
   "source": [
    "## sapply\n",
    "La función anónima `sapply` es una función de R que aplica una función a cada elemento de un vector o lista y simplifica el resultado.\n",
    "\n",
    "```R\n",
    "sapply(X, FUN, ..., simplify = TRUE, USE.NAMES = TRUE)\n",
    "```"
   ]
  },
  {
   "cell_type": "code",
   "execution_count": 1,
   "metadata": {
    "vscode": {
     "languageId": "r"
    }
   },
   "outputs": [
    {
     "data": {
      "text/html": [
       "<style>\n",
       ".list-inline {list-style: none; margin:0; padding: 0}\n",
       ".list-inline>li {display: inline-block}\n",
       ".list-inline>li:not(:last-child)::after {content: \"\\00b7\"; padding: 0 .5ex}\n",
       "</style>\n",
       "<ol class=list-inline><li>1</li><li>4</li><li>9</li><li>16</li><li>25</li></ol>\n"
      ],
      "text/latex": [
       "\\begin{enumerate*}\n",
       "\\item 1\n",
       "\\item 4\n",
       "\\item 9\n",
       "\\item 16\n",
       "\\item 25\n",
       "\\end{enumerate*}\n"
      ],
      "text/markdown": [
       "1. 1\n",
       "2. 4\n",
       "3. 9\n",
       "4. 16\n",
       "5. 25\n",
       "\n",
       "\n"
      ],
      "text/plain": [
       "[1]  1  4  9 16 25"
      ]
     },
     "metadata": {},
     "output_type": "display_data"
    }
   ],
   "source": [
    "resultado <- sapply(1:5, function(x) x^2)\n",
    "resultado"
   ]
  }
 ],
 "metadata": {
  "kernelspec": {
   "display_name": "R",
   "language": "R",
   "name": "ir"
  },
  "language_info": {
   "codemirror_mode": "r",
   "file_extension": ".r",
   "mimetype": "text/x-r-source",
   "name": "R",
   "pygments_lexer": "r",
   "version": "4.3.1"
  }
 },
 "nbformat": 4,
 "nbformat_minor": 2
}
